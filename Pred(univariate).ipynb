{
 "cells": [
  {
   "cell_type": "code",
   "execution_count": 283,
   "metadata": {
    "id": "AlGegvYifLdD"
   },
   "outputs": [],
   "source": [
    "import pandas as pd\n",
    "import numpy as np\n",
    "import math\n",
    "import matplotlib.pyplot as plt\n",
    "import tensorflow_addons as tfa\n",
    "import pandas_datareader as reader\n",
    "import yfinance as yf\n",
    "from sklearn.preprocessing import MinMaxScaler\n",
    "from keras.models import load_model"
   ]
  },
  {
   "cell_type": "code",
   "execution_count": 284,
   "metadata": {},
   "outputs": [
    {
     "data": {
      "text/html": [
       "<div>\n",
       "<style scoped>\n",
       "    .dataframe tbody tr th:only-of-type {\n",
       "        vertical-align: middle;\n",
       "    }\n",
       "\n",
       "    .dataframe tbody tr th {\n",
       "        vertical-align: top;\n",
       "    }\n",
       "\n",
       "    .dataframe thead th {\n",
       "        text-align: right;\n",
       "    }\n",
       "</style>\n",
       "<table border=\"1\" class=\"dataframe\">\n",
       "  <thead>\n",
       "    <tr style=\"text-align: right;\">\n",
       "      <th></th>\n",
       "      <th>High</th>\n",
       "      <th>Low</th>\n",
       "      <th>Open</th>\n",
       "      <th>Close</th>\n",
       "      <th>Volume</th>\n",
       "      <th>Adj Close</th>\n",
       "    </tr>\n",
       "    <tr>\n",
       "      <th>Date</th>\n",
       "      <th></th>\n",
       "      <th></th>\n",
       "      <th></th>\n",
       "      <th></th>\n",
       "      <th></th>\n",
       "      <th></th>\n",
       "    </tr>\n",
       "  </thead>\n",
       "  <tbody>\n",
       "    <tr>\n",
       "      <th>2020-12-31</th>\n",
       "      <td>134.740005</td>\n",
       "      <td>131.720001</td>\n",
       "      <td>134.080002</td>\n",
       "      <td>132.690002</td>\n",
       "      <td>99116600.0</td>\n",
       "      <td>131.709213</td>\n",
       "    </tr>\n",
       "    <tr>\n",
       "      <th>2021-01-04</th>\n",
       "      <td>133.610001</td>\n",
       "      <td>126.760002</td>\n",
       "      <td>133.520004</td>\n",
       "      <td>129.410004</td>\n",
       "      <td>143301900.0</td>\n",
       "      <td>128.453461</td>\n",
       "    </tr>\n",
       "    <tr>\n",
       "      <th>2021-01-05</th>\n",
       "      <td>131.740005</td>\n",
       "      <td>128.429993</td>\n",
       "      <td>128.889999</td>\n",
       "      <td>131.009995</td>\n",
       "      <td>97664900.0</td>\n",
       "      <td>130.041611</td>\n",
       "    </tr>\n",
       "    <tr>\n",
       "      <th>2021-01-06</th>\n",
       "      <td>131.050003</td>\n",
       "      <td>126.379997</td>\n",
       "      <td>127.720001</td>\n",
       "      <td>126.599998</td>\n",
       "      <td>155088000.0</td>\n",
       "      <td>125.664223</td>\n",
       "    </tr>\n",
       "    <tr>\n",
       "      <th>2021-01-07</th>\n",
       "      <td>131.630005</td>\n",
       "      <td>127.860001</td>\n",
       "      <td>128.360001</td>\n",
       "      <td>130.919998</td>\n",
       "      <td>109578200.0</td>\n",
       "      <td>129.952286</td>\n",
       "    </tr>\n",
       "    <tr>\n",
       "      <th>...</th>\n",
       "      <td>...</td>\n",
       "      <td>...</td>\n",
       "      <td>...</td>\n",
       "      <td>...</td>\n",
       "      <td>...</td>\n",
       "      <td>...</td>\n",
       "    </tr>\n",
       "    <tr>\n",
       "      <th>2021-12-27</th>\n",
       "      <td>180.419998</td>\n",
       "      <td>177.070007</td>\n",
       "      <td>177.089996</td>\n",
       "      <td>180.330002</td>\n",
       "      <td>74919600.0</td>\n",
       "      <td>180.100540</td>\n",
       "    </tr>\n",
       "    <tr>\n",
       "      <th>2021-12-28</th>\n",
       "      <td>181.330002</td>\n",
       "      <td>178.529999</td>\n",
       "      <td>180.160004</td>\n",
       "      <td>179.289993</td>\n",
       "      <td>79144300.0</td>\n",
       "      <td>179.061859</td>\n",
       "    </tr>\n",
       "    <tr>\n",
       "      <th>2021-12-29</th>\n",
       "      <td>180.630005</td>\n",
       "      <td>178.139999</td>\n",
       "      <td>179.330002</td>\n",
       "      <td>179.380005</td>\n",
       "      <td>62348900.0</td>\n",
       "      <td>179.151749</td>\n",
       "    </tr>\n",
       "    <tr>\n",
       "      <th>2021-12-30</th>\n",
       "      <td>180.570007</td>\n",
       "      <td>178.089996</td>\n",
       "      <td>179.470001</td>\n",
       "      <td>178.199997</td>\n",
       "      <td>59773000.0</td>\n",
       "      <td>177.973251</td>\n",
       "    </tr>\n",
       "    <tr>\n",
       "      <th>2021-12-31</th>\n",
       "      <td>179.229996</td>\n",
       "      <td>177.259995</td>\n",
       "      <td>178.089996</td>\n",
       "      <td>177.570007</td>\n",
       "      <td>64062300.0</td>\n",
       "      <td>177.344055</td>\n",
       "    </tr>\n",
       "  </tbody>\n",
       "</table>\n",
       "<p>253 rows × 6 columns</p>\n",
       "</div>"
      ],
      "text/plain": [
       "                  High         Low        Open       Close       Volume  \\\n",
       "Date                                                                      \n",
       "2020-12-31  134.740005  131.720001  134.080002  132.690002   99116600.0   \n",
       "2021-01-04  133.610001  126.760002  133.520004  129.410004  143301900.0   \n",
       "2021-01-05  131.740005  128.429993  128.889999  131.009995   97664900.0   \n",
       "2021-01-06  131.050003  126.379997  127.720001  126.599998  155088000.0   \n",
       "2021-01-07  131.630005  127.860001  128.360001  130.919998  109578200.0   \n",
       "...                ...         ...         ...         ...          ...   \n",
       "2021-12-27  180.419998  177.070007  177.089996  180.330002   74919600.0   \n",
       "2021-12-28  181.330002  178.529999  180.160004  179.289993   79144300.0   \n",
       "2021-12-29  180.630005  178.139999  179.330002  179.380005   62348900.0   \n",
       "2021-12-30  180.570007  178.089996  179.470001  178.199997   59773000.0   \n",
       "2021-12-31  179.229996  177.259995  178.089996  177.570007   64062300.0   \n",
       "\n",
       "             Adj Close  \n",
       "Date                    \n",
       "2020-12-31  131.709213  \n",
       "2021-01-04  128.453461  \n",
       "2021-01-05  130.041611  \n",
       "2021-01-06  125.664223  \n",
       "2021-01-07  129.952286  \n",
       "...                ...  \n",
       "2021-12-27  180.100540  \n",
       "2021-12-28  179.061859  \n",
       "2021-12-29  179.151749  \n",
       "2021-12-30  177.973251  \n",
       "2021-12-31  177.344055  \n",
       "\n",
       "[253 rows x 6 columns]"
      ]
     },
     "execution_count": 284,
     "metadata": {},
     "output_type": "execute_result"
    }
   ],
   "source": [
    "df = reader.DataReader('AAPL', 'yahoo', '2021-01-01', '2022-01-01')\n",
    "df"
   ]
  },
  {
   "cell_type": "code",
   "execution_count": null,
   "metadata": {},
   "outputs": [],
   "source": []
  },
  {
   "cell_type": "code",
   "execution_count": 285,
   "metadata": {
    "colab": {
     "base_uri": "https://localhost:8080/",
     "height": 455
    },
    "id": "-mUM_cSThsZN",
    "outputId": "bb3d10e5-6408-44e6-e44f-c5d7cd644e5c"
   },
   "outputs": [],
   "source": [
    "#df = yf.Ticker('INFY.NS')\n",
    "#df = df.history(period = 'max', auto_adjust = True)\n",
    "#df"
   ]
  },
  {
   "cell_type": "code",
   "execution_count": 286,
   "metadata": {
    "colab": {
     "base_uri": "https://localhost:8080/",
     "height": 344
    },
    "id": "AM-5iw8Zpv86",
    "outputId": "21005e0d-af28-49d2-f488-d7debeae81c0"
   },
   "outputs": [
    {
     "name": "stderr",
     "output_type": "stream",
     "text": [
      "c:\\users\\mahen\\appdata\\local\\programs\\python\\python39\\lib\\site-packages\\pandas\\util\\_decorators.py:311: SettingWithCopyWarning: \n",
      "A value is trying to be set on a copy of a slice from a DataFrame\n",
      "\n",
      "See the caveats in the documentation: https://pandas.pydata.org/pandas-docs/stable/user_guide/indexing.html#returning-a-view-versus-a-copy\n",
      "  return func(*args, **kwargs)\n"
     ]
    }
   ],
   "source": [
    "df = df[['Close']]\n",
    "df.dropna(inplace = True)\n",
    "scaler = MinMaxScaler(feature_range=(0,1))\n",
    "data = scaler.fit_transform(df)\n",
    "def modify(data, pastDays = 14):\n",
    "  X = []\n",
    "  Y = []\n",
    "  for i in range(pastDays, len(data)):\n",
    "      X.append(data[i - pastDays: i, 0: data.shape[1]])\n",
    "      Y.append(data[i : i + 1, 0])\n",
    "  return np.array(X), np.array(Y)\n",
    "testX, testY = modify(data)"
   ]
  },
  {
   "cell_type": "markdown",
   "metadata": {
    "id": "uSlibsFOJE2d"
   },
   "source": [
    "RNN"
   ]
  },
  {
   "cell_type": "code",
   "execution_count": 287,
   "metadata": {
    "colab": {
     "base_uri": "https://localhost:8080/"
    },
    "id": "yzyIzyCeJMmQ",
    "outputId": "5eabc68c-a276-43ce-e7f6-7bdc34d18648"
   },
   "outputs": [],
   "source": [
    "#model1 = load_model('RNN(Uni)')"
   ]
  },
  {
   "cell_type": "code",
   "execution_count": 288,
   "metadata": {
    "id": "nlr9V8kGKC0-"
   },
   "outputs": [],
   "source": [
    "testPredict1 = model1.predict(testX)\n",
    "testPredict1 = scaler.inverse_transform(testPredict1)\n",
    "testY1 = scaler.inverse_transform(testY.reshape(-1, 1))"
   ]
  },
  {
   "cell_type": "code",
   "execution_count": 289,
   "metadata": {
    "colab": {
     "base_uri": "https://localhost:8080/"
    },
    "id": "XMxITShKKY1m",
    "outputId": "953bb1c2-50c3-40b5-c23b-eec1105066d9"
   },
   "outputs": [
    {
     "data": {
      "text/plain": [
       "1.704167761857752"
      ]
     },
     "execution_count": 289,
     "metadata": {},
     "output_type": "execute_result"
    }
   ],
   "source": [
    "mape1 = np.mean(np.abs((testY1 - testPredict1)/testY1))*100\n",
    "mape1"
   ]
  },
  {
   "cell_type": "markdown",
   "metadata": {
    "id": "6HLNTNT3FqB1"
   },
   "source": [
    "Classic LSTM"
   ]
  },
  {
   "cell_type": "code",
   "execution_count": 290,
   "metadata": {
    "colab": {
     "base_uri": "https://localhost:8080/"
    },
    "id": "DLCcQBiADlBw",
    "outputId": "3b15c5db-a311-41f7-d5c7-a7767f09e581"
   },
   "outputs": [],
   "source": [
    "#model2 = load_model('LSTM(Uni)')"
   ]
  },
  {
   "cell_type": "code",
   "execution_count": 291,
   "metadata": {
    "id": "7lbCXVOuFdZj"
   },
   "outputs": [],
   "source": [
    "testPredict2 = model2.predict(testX)\n",
    "testPredict2 = scaler.inverse_transform(testPredict2)\n",
    "testY2 = scaler.inverse_transform(testY.reshape(-1, 1))"
   ]
  },
  {
   "cell_type": "code",
   "execution_count": 292,
   "metadata": {
    "colab": {
     "base_uri": "https://localhost:8080/"
    },
    "id": "1EoZKsfkLXH5",
    "outputId": "9c52a328-d20f-49c2-ea57-7f8de64f244b"
   },
   "outputs": [
    {
     "data": {
      "text/plain": [
       "1.292563263828581"
      ]
     },
     "execution_count": 292,
     "metadata": {},
     "output_type": "execute_result"
    }
   ],
   "source": [
    "mape2 = np.mean(np.abs((testY2 - testPredict2)/testY2))*100\n",
    "mape2"
   ]
  },
  {
   "cell_type": "markdown",
   "metadata": {
    "id": "bf7GoafTMuF1"
   },
   "source": [
    "LSTM Peephole"
   ]
  },
  {
   "cell_type": "code",
   "execution_count": 293,
   "metadata": {
    "colab": {
     "base_uri": "https://localhost:8080/"
    },
    "id": "imUyvlS2GRxs",
    "outputId": "ad0d6802-d9a2-4ac4-dbe3-1728dc63fc18"
   },
   "outputs": [],
   "source": [
    "#model3 = load_model('PeepholeLSTM(Uni)')"
   ]
  },
  {
   "cell_type": "code",
   "execution_count": 294,
   "metadata": {
    "id": "uHnWQhesNsnS"
   },
   "outputs": [],
   "source": [
    "testPredict3 = model3.predict(testX)\n",
    "testPredict3 = scaler.inverse_transform(testPredict3)\n",
    "testY3 = scaler.inverse_transform(testY.reshape(-1, 1))"
   ]
  },
  {
   "cell_type": "code",
   "execution_count": 295,
   "metadata": {
    "colab": {
     "base_uri": "https://localhost:8080/"
    },
    "id": "Nfnre6bLN2tC",
    "outputId": "52c68f08-1cc4-4d20-c480-be1a7c18b80e"
   },
   "outputs": [
    {
     "data": {
      "text/plain": [
       "1.2757901015340092"
      ]
     },
     "execution_count": 295,
     "metadata": {},
     "output_type": "execute_result"
    }
   ],
   "source": [
    "mape3 = np.mean(np.abs((testY3 - testPredict3)/testY3))*100\n",
    "mape3"
   ]
  },
  {
   "cell_type": "markdown",
   "metadata": {
    "id": "5SBjSIw1PC9l"
   },
   "source": [
    "Bidirectional LSTM"
   ]
  },
  {
   "cell_type": "code",
   "execution_count": 296,
   "metadata": {
    "colab": {
     "base_uri": "https://localhost:8080/"
    },
    "id": "y9CmgE-WPZ1X",
    "outputId": "0389a182-4faf-41ab-80ec-88f4cadea929"
   },
   "outputs": [],
   "source": [
    "#model4 = load_model('BiLSTM(Uni)')"
   ]
  },
  {
   "cell_type": "code",
   "execution_count": 297,
   "metadata": {
    "id": "hDN0cdu-QXIH"
   },
   "outputs": [],
   "source": [
    "testPredict4 = model4.predict(testX)\n",
    "testPredict4 = scaler.inverse_transform(testPredict4)\n",
    "testY4 = scaler.inverse_transform(testY.reshape(-1, 1))"
   ]
  },
  {
   "cell_type": "code",
   "execution_count": 298,
   "metadata": {
    "colab": {
     "base_uri": "https://localhost:8080/"
    },
    "id": "gno_sGzuQojr",
    "outputId": "5b7d3a1c-e368-4d82-80c8-988183e85f35"
   },
   "outputs": [
    {
     "data": {
      "text/plain": [
       "1.2916391773109897"
      ]
     },
     "execution_count": 298,
     "metadata": {},
     "output_type": "execute_result"
    }
   ],
   "source": [
    "mape4 = np.mean(np.abs((testY4 - testPredict4)/testY4))*100\n",
    "mape4"
   ]
  },
  {
   "cell_type": "markdown",
   "metadata": {
    "id": "vGRjqqezRIGZ"
   },
   "source": [
    "GRU(Gated Recurrent Unit)"
   ]
  },
  {
   "cell_type": "code",
   "execution_count": 299,
   "metadata": {
    "colab": {
     "base_uri": "https://localhost:8080/"
    },
    "id": "bR9U9BJiRATb",
    "outputId": "fe81eb62-8114-4b60-9d80-14afab98f5f2"
   },
   "outputs": [],
   "source": [
    "#model5 = load_model('GRU(Uni)')"
   ]
  },
  {
   "cell_type": "code",
   "execution_count": 300,
   "metadata": {
    "id": "n-yfAzmrRnrN"
   },
   "outputs": [],
   "source": [
    "testPredict5 = model5.predict(testX)\n",
    "testPredict5 = scaler.inverse_transform(testPredict5)\n",
    "testY5 = scaler.inverse_transform(testY.reshape(-1, 1))"
   ]
  },
  {
   "cell_type": "code",
   "execution_count": 301,
   "metadata": {
    "id": "kuyy4_n8Rz3v"
   },
   "outputs": [
    {
     "data": {
      "text/plain": [
       "1.1938166268831156"
      ]
     },
     "execution_count": 301,
     "metadata": {},
     "output_type": "execute_result"
    }
   ],
   "source": [
    "mape5 = np.mean(np.abs((testY5 - testPredict5)/testY5))*100\n",
    "mape5"
   ]
  },
  {
   "cell_type": "markdown",
   "metadata": {
    "id": "c_ykIJimTC14"
   },
   "source": [
    "Bidirectional GRU"
   ]
  },
  {
   "cell_type": "code",
   "execution_count": 302,
   "metadata": {
    "colab": {
     "base_uri": "https://localhost:8080/"
    },
    "id": "iND_X8JNSkHe",
    "outputId": "fdefeb93-556b-43e8-9f1e-f6400f83bf93"
   },
   "outputs": [],
   "source": [
    "#model6 = load_model('BiGRU(Uni)')"
   ]
  },
  {
   "cell_type": "code",
   "execution_count": 303,
   "metadata": {
    "id": "Vn24x4pOSnlb"
   },
   "outputs": [],
   "source": [
    "testPredict6 = model6.predict(testX)\n",
    "testPredict6 = scaler.inverse_transform(testPredict6)\n",
    "testY6 = scaler.inverse_transform(testY.reshape(-1, 1))"
   ]
  },
  {
   "cell_type": "code",
   "execution_count": 304,
   "metadata": {
    "colab": {
     "base_uri": "https://localhost:8080/"
    },
    "id": "sxgZ2i4MSp--",
    "outputId": "57b5d688-a288-4ded-d611-0fa5b2682e8d"
   },
   "outputs": [
    {
     "data": {
      "text/plain": [
       "1.1835473826404523"
      ]
     },
     "execution_count": 304,
     "metadata": {},
     "output_type": "execute_result"
    }
   ],
   "source": [
    "mape6 = np.mean(np.abs((testY6 - testPredict6)/testY6))*100\n",
    "mape6"
   ]
  },
  {
   "cell_type": "code",
   "execution_count": 305,
   "metadata": {},
   "outputs": [
    {
     "data": {
      "image/png": "[encoded data removed]",
      "text/plain": [
       "<Figure size 432x288 with 1 Axes>"
      ]
     },
     "metadata": {
      "needs_background": "light"
     },
     "output_type": "display_data"
    }
   ],
   "source": [
    "days = [i for i in range(0, 100)]\n",
    "plt.plot(days, testY1[-100:], color='blue', label='Actual Price')\n",
    "plt.plot(days, testPredict1[-100:], color='red', label='Simple RNN')\n",
    "plt.plot(days, testPredict2[-100:], color='gold', label='LSTM')\n",
    "plt.plot(days, testPredict3[-100:], color='cyan', label='Peephole LSTM')\n",
    "plt.plot(days, testPredict4[-100:], color='magenta', label='BiLSTM')\n",
    "plt.plot(days, testPredict5[-100:], color='green', label='GRU')\n",
    "plt.plot(days, testPredict6[-100:], color='darkorange', label='BiGRU')\n",
    "plt.xlabel(\"Days\")\n",
    "plt.ylabel(\"Price\")\n",
    "plt.title(\"Stock Price Prediction\")\n",
    "plt.legend()\n",
    "plt.show()"
   ]
  },
  {
   "cell_type": "code",
   "execution_count": null,
   "metadata": {},
   "outputs": [],
   "source": []
  }
 ],
 "metadata": {
  "colab": {
   "collapsed_sections": [],
   "name": "StockPricePrediction(univariate).ipynb",
   "provenance": []
  },
  "kernelspec": {
   "display_name": "Python 3 (ipykernel)",
   "language": "python",
   "name": "python3"
  },
  "language_info": {
   "codemirror_mode": {
    "name": "ipython",
    "version": 3
   },
   "file_extension": ".py",
   "mimetype": "text/x-python",
   "name": "python",
   "nbconvert_exporter": "python",
   "pygments_lexer": "ipython3",
   "version": "3.9.4"
  }
 },
 "nbformat": 4,
 "nbformat_minor": 1
}
