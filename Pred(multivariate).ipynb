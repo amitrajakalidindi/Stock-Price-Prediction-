{
 "cells": [
  {
   "cell_type": "markdown",
   "metadata": {
    "id": "MNG-nK7pcR-7"
   },
   "source": [
    "Stock price prediction using multivariate data(Open, High, Low, Close, Volume)"
   ]
  },
  {
   "cell_type": "code",
   "execution_count": 122,
   "metadata": {
    "id": "AlGegvYifLdD"
   },
   "outputs": [],
   "source": [
    "import pandas as pd\n",
    "import numpy as np\n",
    "import math\n",
    "import matplotlib.pyplot as plt\n",
    "import tensorflow_addons as tfa\n",
    "import pandas_datareader as reader\n",
    "import yfinance as yf\n",
    "from sklearn.preprocessing import MinMaxScaler\n",
    "from keras.models import load_model"
   ]
  },
  {
   "cell_type": "code",
   "execution_count": 123,
   "metadata": {
    "colab": {
     "base_uri": "https://localhost:8080/",
     "height": 206
    },
    "id": "-mUM_cSThsZN",
    "outputId": "e7dd1f2d-20c0-4bce-c6b5-f075eac7d259"
   },
   "outputs": [
    {
     "data": {
      "text/html": [
       "<div>\n",
       "<style scoped>\n",
       "    .dataframe tbody tr th:only-of-type {\n",
       "        vertical-align: middle;\n",
       "    }\n",
       "\n",
       "    .dataframe tbody tr th {\n",
       "        vertical-align: top;\n",
       "    }\n",
       "\n",
       "    .dataframe thead th {\n",
       "        text-align: right;\n",
       "    }\n",
       "</style>\n",
       "<table border=\"1\" class=\"dataframe\">\n",
       "  <thead>\n",
       "    <tr style=\"text-align: right;\">\n",
       "      <th></th>\n",
       "      <th>High</th>\n",
       "      <th>Low</th>\n",
       "      <th>Open</th>\n",
       "      <th>Close</th>\n",
       "      <th>Volume</th>\n",
       "      <th>Adj Close</th>\n",
       "    </tr>\n",
       "    <tr>\n",
       "      <th>Date</th>\n",
       "      <th></th>\n",
       "      <th></th>\n",
       "      <th></th>\n",
       "      <th></th>\n",
       "      <th></th>\n",
       "      <th></th>\n",
       "    </tr>\n",
       "  </thead>\n",
       "  <tbody>\n",
       "    <tr>\n",
       "      <th>2020-12-31</th>\n",
       "      <td>1757.500000</td>\n",
       "      <td>1736.089966</td>\n",
       "      <td>1737.270020</td>\n",
       "      <td>1752.640015</td>\n",
       "      <td>1053500</td>\n",
       "      <td>1752.640015</td>\n",
       "    </tr>\n",
       "    <tr>\n",
       "      <th>2021-01-04</th>\n",
       "      <td>1762.489990</td>\n",
       "      <td>1707.140015</td>\n",
       "      <td>1760.000000</td>\n",
       "      <td>1726.130005</td>\n",
       "      <td>1866200</td>\n",
       "      <td>1726.130005</td>\n",
       "    </tr>\n",
       "    <tr>\n",
       "      <th>2021-01-05</th>\n",
       "      <td>1746.829956</td>\n",
       "      <td>1716.900024</td>\n",
       "      <td>1725.089966</td>\n",
       "      <td>1740.050049</td>\n",
       "      <td>1018000</td>\n",
       "      <td>1740.050049</td>\n",
       "    </tr>\n",
       "    <tr>\n",
       "      <th>2021-01-06</th>\n",
       "      <td>1743.969971</td>\n",
       "      <td>1696.099976</td>\n",
       "      <td>1700.260010</td>\n",
       "      <td>1722.880005</td>\n",
       "      <td>2329400</td>\n",
       "      <td>1722.880005</td>\n",
       "    </tr>\n",
       "    <tr>\n",
       "      <th>2021-01-07</th>\n",
       "      <td>1777.819946</td>\n",
       "      <td>1726.760010</td>\n",
       "      <td>1726.760010</td>\n",
       "      <td>1774.339966</td>\n",
       "      <td>2096800</td>\n",
       "      <td>1774.339966</td>\n",
       "    </tr>\n",
       "    <tr>\n",
       "      <th>...</th>\n",
       "      <td>...</td>\n",
       "      <td>...</td>\n",
       "      <td>...</td>\n",
       "      <td>...</td>\n",
       "      <td>...</td>\n",
       "      <td>...</td>\n",
       "    </tr>\n",
       "    <tr>\n",
       "      <th>2021-12-27</th>\n",
       "      <td>2966.879883</td>\n",
       "      <td>2943.389893</td>\n",
       "      <td>2945.120117</td>\n",
       "      <td>2958.129883</td>\n",
       "      <td>798800</td>\n",
       "      <td>2958.129883</td>\n",
       "    </tr>\n",
       "    <tr>\n",
       "      <th>2021-12-28</th>\n",
       "      <td>2965.979980</td>\n",
       "      <td>2921.090088</td>\n",
       "      <td>2964.719971</td>\n",
       "      <td>2933.739990</td>\n",
       "      <td>910000</td>\n",
       "      <td>2933.739990</td>\n",
       "    </tr>\n",
       "    <tr>\n",
       "      <th>2021-12-29</th>\n",
       "      <td>2948.340088</td>\n",
       "      <td>2912.949951</td>\n",
       "      <td>2932.889893</td>\n",
       "      <td>2933.100098</td>\n",
       "      <td>889400</td>\n",
       "      <td>2933.100098</td>\n",
       "    </tr>\n",
       "    <tr>\n",
       "      <th>2021-12-30</th>\n",
       "      <td>2946.000000</td>\n",
       "      <td>2919.889893</td>\n",
       "      <td>2933.879883</td>\n",
       "      <td>2924.010010</td>\n",
       "      <td>784400</td>\n",
       "      <td>2924.010010</td>\n",
       "    </tr>\n",
       "    <tr>\n",
       "      <th>2021-12-31</th>\n",
       "      <td>2933.969971</td>\n",
       "      <td>2897.040039</td>\n",
       "      <td>2921.000000</td>\n",
       "      <td>2897.040039</td>\n",
       "      <td>906800</td>\n",
       "      <td>2897.040039</td>\n",
       "    </tr>\n",
       "  </tbody>\n",
       "</table>\n",
       "<p>253 rows × 6 columns</p>\n",
       "</div>"
      ],
      "text/plain": [
       "                   High          Low         Open        Close   Volume  \\\n",
       "Date                                                                      \n",
       "2020-12-31  1757.500000  1736.089966  1737.270020  1752.640015  1053500   \n",
       "2021-01-04  1762.489990  1707.140015  1760.000000  1726.130005  1866200   \n",
       "2021-01-05  1746.829956  1716.900024  1725.089966  1740.050049  1018000   \n",
       "2021-01-06  1743.969971  1696.099976  1700.260010  1722.880005  2329400   \n",
       "2021-01-07  1777.819946  1726.760010  1726.760010  1774.339966  2096800   \n",
       "...                 ...          ...          ...          ...      ...   \n",
       "2021-12-27  2966.879883  2943.389893  2945.120117  2958.129883   798800   \n",
       "2021-12-28  2965.979980  2921.090088  2964.719971  2933.739990   910000   \n",
       "2021-12-29  2948.340088  2912.949951  2932.889893  2933.100098   889400   \n",
       "2021-12-30  2946.000000  2919.889893  2933.879883  2924.010010   784400   \n",
       "2021-12-31  2933.969971  2897.040039  2921.000000  2897.040039   906800   \n",
       "\n",
       "              Adj Close  \n",
       "Date                     \n",
       "2020-12-31  1752.640015  \n",
       "2021-01-04  1726.130005  \n",
       "2021-01-05  1740.050049  \n",
       "2021-01-06  1722.880005  \n",
       "2021-01-07  1774.339966  \n",
       "...                 ...  \n",
       "2021-12-27  2958.129883  \n",
       "2021-12-28  2933.739990  \n",
       "2021-12-29  2933.100098  \n",
       "2021-12-30  2924.010010  \n",
       "2021-12-31  2897.040039  \n",
       "\n",
       "[253 rows x 6 columns]"
      ]
     },
     "execution_count": 123,
     "metadata": {},
     "output_type": "execute_result"
    }
   ],
   "source": [
    "df = reader.DataReader('GOOGL', 'yahoo', '2021-01-01', '2022-01-01')\n",
    "df"
   ]
  },
  {
   "cell_type": "code",
   "execution_count": 124,
   "metadata": {
    "colab": {
     "base_uri": "https://localhost:8080/",
     "height": 206
    },
    "id": "Xvx1UV5Qh6C2",
    "outputId": "13aad46d-1a25-4699-9a78-190c151b54b8"
   },
   "outputs": [
    {
     "name": "stderr",
     "output_type": "stream",
     "text": [
      "c:\\users\\mahen\\appdata\\local\\programs\\python\\python39\\lib\\site-packages\\pandas\\util\\_decorators.py:311: SettingWithCopyWarning: \n",
      "A value is trying to be set on a copy of a slice from a DataFrame\n",
      "\n",
      "See the caveats in the documentation: https://pandas.pydata.org/pandas-docs/stable/user_guide/indexing.html#returning-a-view-versus-a-copy\n",
      "  return func(*args, **kwargs)\n"
     ]
    }
   ],
   "source": [
    "df = df[['Open', 'High', 'Low', 'Close', 'Volume']]\n",
    "df.dropna(inplace = True)\n",
    "scaler = MinMaxScaler(feature_range=(0,1))\n",
    "data = scaler.fit_transform(df)\n",
    "scaler2 = MinMaxScaler(feature_range=(0,1))\n",
    "scaler2.fit_transform(df[['Close']])\n",
    "def modify(data, pastDays = 14):\n",
    "  X = []\n",
    "  Y = []\n",
    "  for i in range(pastDays, len(data)):\n",
    "      X.append(data[i - pastDays: i, 0: data.shape[1]])\n",
    "      Y.append(data[i : i + 1, 3])\n",
    "  return np.array(X), np.array(Y)\n",
    "testX, testY = modify(data)"
   ]
  },
  {
   "cell_type": "markdown",
   "metadata": {
    "id": "uSlibsFOJE2d"
   },
   "source": [
    "RNN"
   ]
  },
  {
   "cell_type": "code",
   "execution_count": 125,
   "metadata": {
    "colab": {
     "base_uri": "https://localhost:8080/"
    },
    "id": "yzyIzyCeJMmQ",
    "outputId": "dec487fe-2257-4eb5-8493-a9ea1b29abfc"
   },
   "outputs": [],
   "source": [
    "#model1 = load_model('RNN(Multi)')"
   ]
  },
  {
   "cell_type": "code",
   "execution_count": 126,
   "metadata": {
    "id": "nlr9V8kGKC0-"
   },
   "outputs": [],
   "source": [
    "testPredict1 = model1.predict(testX)\n",
    "testPredict1 = scaler2.inverse_transform(testPredict1)\n",
    "testY1 = scaler2.inverse_transform(testY.reshape(-1, 1))"
   ]
  },
  {
   "cell_type": "code",
   "execution_count": 127,
   "metadata": {
    "colab": {
     "base_uri": "https://localhost:8080/"
    },
    "id": "XMxITShKKY1m",
    "outputId": "420c10d8-167d-4afa-8ca1-de65cc395dc6"
   },
   "outputs": [
    {
     "data": {
      "text/plain": [
       "6.277838468461945"
      ]
     },
     "execution_count": 127,
     "metadata": {},
     "output_type": "execute_result"
    }
   ],
   "source": [
    "mape1 = np.mean(np.abs((testY1 - testPredict1)/testY1))*100\n",
    "mape1"
   ]
  },
  {
   "cell_type": "markdown",
   "metadata": {
    "id": "6HLNTNT3FqB1"
   },
   "source": [
    "Classic LSTM"
   ]
  },
  {
   "cell_type": "code",
   "execution_count": 128,
   "metadata": {
    "colab": {
     "base_uri": "https://localhost:8080/"
    },
    "id": "DLCcQBiADlBw",
    "outputId": "597895e0-8e20-4009-d63e-e6154c792b72"
   },
   "outputs": [],
   "source": [
    "#model2 = load_model('LSTM(Multi)')"
   ]
  },
  {
   "cell_type": "code",
   "execution_count": 129,
   "metadata": {
    "id": "7lbCXVOuFdZj"
   },
   "outputs": [],
   "source": [
    "testPredict2 = model2.predict(testX)\n",
    "testPredict2 = scaler2.inverse_transform(testPredict2)\n",
    "testY2 = scaler2.inverse_transform(testY.reshape(-1, 1))"
   ]
  },
  {
   "cell_type": "code",
   "execution_count": 130,
   "metadata": {
    "colab": {
     "base_uri": "https://localhost:8080/"
    },
    "id": "1EoZKsfkLXH5",
    "outputId": "9738044a-c2b5-4d8a-e2b2-ac5dd854a814"
   },
   "outputs": [
    {
     "data": {
      "text/plain": [
       "1.2601998163813428"
      ]
     },
     "execution_count": 130,
     "metadata": {},
     "output_type": "execute_result"
    }
   ],
   "source": [
    "mape2 = np.mean(np.abs((testY2 - testPredict2)/testY2))*100\n",
    "mape2"
   ]
  },
  {
   "cell_type": "markdown",
   "metadata": {
    "id": "bf7GoafTMuF1"
   },
   "source": [
    "LSTM Peephole"
   ]
  },
  {
   "cell_type": "code",
   "execution_count": 131,
   "metadata": {
    "colab": {
     "background_save": true,
     "base_uri": "https://localhost:8080/"
    },
    "id": "imUyvlS2GRxs",
    "outputId": "47e851f2-5380-4fec-c6e6-b26259239d78"
   },
   "outputs": [],
   "source": [
    "#model3 = load_model('PeepholeLSTM(Multi)')"
   ]
  },
  {
   "cell_type": "code",
   "execution_count": 132,
   "metadata": {
    "colab": {
     "background_save": true
    },
    "id": "uHnWQhesNsnS"
   },
   "outputs": [],
   "source": [
    "testPredict3 = model3.predict(testX)\n",
    "testPredict3 = scaler2.inverse_transform(testPredict3)\n",
    "testY3 = scaler2.inverse_transform(testY.reshape(-1, 1))"
   ]
  },
  {
   "cell_type": "code",
   "execution_count": 133,
   "metadata": {
    "colab": {
     "background_save": true
    },
    "id": "Nfnre6bLN2tC",
    "outputId": "2d6e642e-057e-49da-d2f8-c6b8c90af342"
   },
   "outputs": [
    {
     "data": {
      "text/plain": [
       "1.8198140741393045"
      ]
     },
     "execution_count": 133,
     "metadata": {},
     "output_type": "execute_result"
    }
   ],
   "source": [
    "mape3 = np.mean(np.abs((testY3 - testPredict3)/testY3))*100\n",
    "mape3"
   ]
  },
  {
   "cell_type": "markdown",
   "metadata": {
    "id": "5SBjSIw1PC9l"
   },
   "source": [
    "Bidirectional LSTM"
   ]
  },
  {
   "cell_type": "code",
   "execution_count": 134,
   "metadata": {
    "colab": {
     "background_save": true
    },
    "id": "y9CmgE-WPZ1X",
    "outputId": "667b7654-f1c9-437b-8343-05d6fc31baad"
   },
   "outputs": [],
   "source": [
    "#model4 = load_model('BiLSTM(Multi)')"
   ]
  },
  {
   "cell_type": "code",
   "execution_count": 135,
   "metadata": {
    "colab": {
     "background_save": true
    },
    "id": "hDN0cdu-QXIH"
   },
   "outputs": [],
   "source": [
    "testPredict4 = model4.predict(testX)\n",
    "testPredict4 = scaler2.inverse_transform(testPredict4)\n",
    "testY4 = scaler2.inverse_transform(testY.reshape(-1, 1))"
   ]
  },
  {
   "cell_type": "code",
   "execution_count": 136,
   "metadata": {
    "colab": {
     "background_save": true
    },
    "id": "gno_sGzuQojr",
    "outputId": "18d07c94-8534-4a45-9bc3-fb5cba90c56a"
   },
   "outputs": [
    {
     "data": {
      "text/plain": [
       "2.058396718469174"
      ]
     },
     "execution_count": 136,
     "metadata": {},
     "output_type": "execute_result"
    }
   ],
   "source": [
    "mape4 = np.mean(np.abs((testY4 - testPredict4)/testY4))*100\n",
    "mape4"
   ]
  },
  {
   "cell_type": "markdown",
   "metadata": {
    "id": "vGRjqqezRIGZ"
   },
   "source": [
    "GRU(Gated Recurrent Unit)"
   ]
  },
  {
   "cell_type": "code",
   "execution_count": 137,
   "metadata": {
    "colab": {
     "background_save": true
    },
    "id": "bR9U9BJiRATb",
    "outputId": "b1b90e14-d5ed-4f84-842e-939dfc92c405"
   },
   "outputs": [],
   "source": [
    "#model5 = load_model('GRU(Multi)')"
   ]
  },
  {
   "cell_type": "code",
   "execution_count": 138,
   "metadata": {
    "colab": {
     "background_save": true
    },
    "id": "n-yfAzmrRnrN"
   },
   "outputs": [],
   "source": [
    "testPredict5 = model5.predict(testX)\n",
    "testPredict5 = scaler2.inverse_transform(testPredict5)\n",
    "testY5 = scaler2.inverse_transform(testY.reshape(-1, 1))"
   ]
  },
  {
   "cell_type": "code",
   "execution_count": 139,
   "metadata": {
    "colab": {
     "background_save": true
    },
    "id": "kuyy4_n8Rz3v",
    "outputId": "19d316c2-975b-4455-e880-1e4d148a2791"
   },
   "outputs": [
    {
     "data": {
      "text/plain": [
       "1.2089787645760286"
      ]
     },
     "execution_count": 139,
     "metadata": {},
     "output_type": "execute_result"
    }
   ],
   "source": [
    "mape5 = np.mean(np.abs((testY5 - testPredict5)/testY5))*100\n",
    "mape5"
   ]
  },
  {
   "cell_type": "markdown",
   "metadata": {
    "id": "eHQBZ2-4RmaF"
   },
   "source": [
    "Bidirection GRU"
   ]
  },
  {
   "cell_type": "code",
   "execution_count": 140,
   "metadata": {
    "colab": {
     "background_save": true
    },
    "id": "XrRHeDtFRxz5",
    "outputId": "51a5681b-b580-4b49-ced0-dac29d924557"
   },
   "outputs": [],
   "source": [
    "#model6 = load_model('BiGRU(Multi)')"
   ]
  },
  {
   "cell_type": "code",
   "execution_count": 141,
   "metadata": {
    "colab": {
     "background_save": true
    },
    "id": "Ej3OFkQdR3h1"
   },
   "outputs": [],
   "source": [
    "testPredict6 = model6.predict(testX)\n",
    "testPredict6 = scaler2.inverse_transform(testPredict6)\n",
    "testY6 = scaler2.inverse_transform(testY.reshape(-1, 1))"
   ]
  },
  {
   "cell_type": "code",
   "execution_count": 142,
   "metadata": {
    "colab": {
     "background_save": true
    },
    "id": "6aeee7dgSI7i",
    "outputId": "c0be4783-5b7a-499d-e76b-fd0e73631f54"
   },
   "outputs": [
    {
     "data": {
      "text/plain": [
       "1.0720426375075234"
      ]
     },
     "execution_count": 142,
     "metadata": {},
     "output_type": "execute_result"
    }
   ],
   "source": [
    "mape6 = np.mean(np.abs((testY6 - testPredict6)/testY6))*100\n",
    "mape6"
   ]
  },
  {
   "cell_type": "code",
   "execution_count": 143,
   "metadata": {},
   "outputs": [
    {
     "data": {
      "image/png": "[encoded data removed]",
      "text/plain": [
       "<Figure size 432x288 with 1 Axes>"
      ]
     },
     "metadata": {
      "needs_background": "light"
     },
     "output_type": "display_data"
    }
   ],
   "source": [
    "days = [i for i in range(0, 100)]\n",
    "plt.plot(days, testY1[-100:], color='blue', label='Actual Price')\n",
    "plt.plot(days, testPredict1[-100:], color='red', label='Simple RNN')\n",
    "plt.plot(days, testPredict2[-100:], color='gold', label='LSTM')\n",
    "plt.plot(days, testPredict3[-100:], color='cyan', label='Peephole LSTM')\n",
    "plt.plot(days, testPredict4[-100:], color='magenta', label='BiLSTM')\n",
    "plt.plot(days, testPredict5[-100:], color='green', label='GRU')\n",
    "plt.plot(days, testPredict6[-100:], color='darkorange', label='BiGRU')\n",
    "plt.xlabel(\"Days\")\n",
    "plt.ylabel(\"Price\")\n",
    "plt.title(\"Stock Price Prediction\")\n",
    "plt.legend()\n",
    "plt.show()"
   ]
  },
  {
   "cell_type": "code",
   "execution_count": null,
   "metadata": {},
   "outputs": [],
   "source": []
  }
 ],
 "metadata": {
  "colab": {
   "collapsed_sections": [],
   "name": "StockPricePrediction(multivariate).ipynb",
   "provenance": []
  },
  "kernelspec": {
   "display_name": "Python 3 (ipykernel)",
   "language": "python",
   "name": "python3"
  },
  "language_info": {
   "codemirror_mode": {
    "name": "ipython",
    "version": 3
   },
   "file_extension": ".py",
   "mimetype": "text/x-python",
   "name": "python",
   "nbconvert_exporter": "python",
   "pygments_lexer": "ipython3",
   "version": "3.9.4"
  }
 },
 "nbformat": 4,
 "nbformat_minor": 1
}
