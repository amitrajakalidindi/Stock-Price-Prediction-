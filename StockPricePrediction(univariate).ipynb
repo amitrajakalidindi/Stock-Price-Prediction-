{
  "nbformat": 4,
  "nbformat_minor": 0,
  "metadata": {
    "colab": {
      "name": "StockPricePrediction(univariate).ipynb",
      "provenance": [],
      "collapsed_sections": []
    },
    "kernelspec": {
      "name": "python3",
      "display_name": "Python 3"
    },
    "language_info": {
      "name": "python"
    }
  },
  "cells": [
    {
      "cell_type": "code",
      "execution_count": 1,
      "metadata": {
        "id": "AlGegvYifLdD"
      },
      "outputs": [],
      "source": [
        "import pandas as pd\n",
        "import numpy as np\n",
        "import math\n",
        "import matplotlib.pyplot as plt\n",
        "import tensorflow_addons as tfa\n",
        "from sklearn.preprocessing import MinMaxScaler\n",
        "from sklearn.metrics import mean_squared_error\n",
        "from sklearn.metrics import mean_absolute_error\n",
        "from tensorflow.keras.models import Sequential\n",
        "from tensorflow.keras.layers import *"
      ]
    },
    {
      "cell_type": "code",
      "source": [
        "df = pd.read_csv('TCS.csv')\n",
        "df.head()"
      ],
      "metadata": {
        "id": "-mUM_cSThsZN",
        "colab": {
          "base_uri": "https://localhost:8080/",
          "height": 206
        },
        "outputId": "79b8d449-0c43-47ed-fa7f-f8f8570a888b"
      },
      "execution_count": 2,
      "outputs": [
        {
          "output_type": "execute_result",
          "data": {
            "text/plain": [
              "         Date       Open       High        Low      Close  Adj Close  \\\n",
              "0  2003-01-01  59.987499  61.974998  59.987499  61.087502  45.255402   \n",
              "1  2003-01-02  61.525002  62.924999  57.912498  58.299999  43.190327   \n",
              "2  2003-01-03  60.000000  61.049999  58.500000  59.012501  43.718178   \n",
              "3  2003-01-06  59.924999  60.187500  56.875000  57.262501  42.421741   \n",
              "4  2003-01-07  58.000000  58.500000  56.062500  56.599998  41.930927   \n",
              "\n",
              "      Volume  \n",
              "0  6027072.0  \n",
              "1  5325328.0  \n",
              "2  4198040.0  \n",
              "3  4121520.0  \n",
              "4  2650800.0  "
            ],
            "text/html": [
              "\n",
              "  <div id=\"df-bfe53cc0-88b0-42b5-9f4d-bc5e5d577b55\">\n",
              "    <div class=\"colab-df-container\">\n",
              "      <div>\n",
              "<style scoped>\n",
              "    .dataframe tbody tr th:only-of-type {\n",
              "        vertical-align: middle;\n",
              "    }\n",
              "\n",
              "    .dataframe tbody tr th {\n",
              "        vertical-align: top;\n",
              "    }\n",
              "\n",
              "    .dataframe thead th {\n",
              "        text-align: right;\n",
              "    }\n",
              "</style>\n",
              "<table border=\"1\" class=\"dataframe\">\n",
              "  <thead>\n",
              "    <tr style=\"text-align: right;\">\n",
              "      <th></th>\n",
              "      <th>Date</th>\n",
              "      <th>Open</th>\n",
              "      <th>High</th>\n",
              "      <th>Low</th>\n",
              "      <th>Close</th>\n",
              "      <th>Adj Close</th>\n",
              "      <th>Volume</th>\n",
              "    </tr>\n",
              "  </thead>\n",
              "  <tbody>\n",
              "    <tr>\n",
              "      <th>0</th>\n",
              "      <td>2003-01-01</td>\n",
              "      <td>59.987499</td>\n",
              "      <td>61.974998</td>\n",
              "      <td>59.987499</td>\n",
              "      <td>61.087502</td>\n",
              "      <td>45.255402</td>\n",
              "      <td>6027072.0</td>\n",
              "    </tr>\n",
              "    <tr>\n",
              "      <th>1</th>\n",
              "      <td>2003-01-02</td>\n",
              "      <td>61.525002</td>\n",
              "      <td>62.924999</td>\n",
              "      <td>57.912498</td>\n",
              "      <td>58.299999</td>\n",
              "      <td>43.190327</td>\n",
              "      <td>5325328.0</td>\n",
              "    </tr>\n",
              "    <tr>\n",
              "      <th>2</th>\n",
              "      <td>2003-01-03</td>\n",
              "      <td>60.000000</td>\n",
              "      <td>61.049999</td>\n",
              "      <td>58.500000</td>\n",
              "      <td>59.012501</td>\n",
              "      <td>43.718178</td>\n",
              "      <td>4198040.0</td>\n",
              "    </tr>\n",
              "    <tr>\n",
              "      <th>3</th>\n",
              "      <td>2003-01-06</td>\n",
              "      <td>59.924999</td>\n",
              "      <td>60.187500</td>\n",
              "      <td>56.875000</td>\n",
              "      <td>57.262501</td>\n",
              "      <td>42.421741</td>\n",
              "      <td>4121520.0</td>\n",
              "    </tr>\n",
              "    <tr>\n",
              "      <th>4</th>\n",
              "      <td>2003-01-07</td>\n",
              "      <td>58.000000</td>\n",
              "      <td>58.500000</td>\n",
              "      <td>56.062500</td>\n",
              "      <td>56.599998</td>\n",
              "      <td>41.930927</td>\n",
              "      <td>2650800.0</td>\n",
              "    </tr>\n",
              "  </tbody>\n",
              "</table>\n",
              "</div>\n",
              "      <button class=\"colab-df-convert\" onclick=\"convertToInteractive('df-bfe53cc0-88b0-42b5-9f4d-bc5e5d577b55')\"\n",
              "              title=\"Convert this dataframe to an interactive table.\"\n",
              "              style=\"display:none;\">\n",
              "        \n",
              "  <svg xmlns=\"http://www.w3.org/2000/svg\" height=\"24px\"viewBox=\"0 0 24 24\"\n",
              "       width=\"24px\">\n",
              "    <path d=\"M0 0h24v24H0V0z\" fill=\"none\"/>\n",
              "    <path d=\"M18.56 5.44l.94 2.06.94-2.06 2.06-.94-2.06-.94-.94-2.06-.94 2.06-2.06.94zm-11 1L8.5 8.5l.94-2.06 2.06-.94-2.06-.94L8.5 2.5l-.94 2.06-2.06.94zm10 10l.94 2.06.94-2.06 2.06-.94-2.06-.94-.94-2.06-.94 2.06-2.06.94z\"/><path d=\"M17.41 7.96l-1.37-1.37c-.4-.4-.92-.59-1.43-.59-.52 0-1.04.2-1.43.59L10.3 9.45l-7.72 7.72c-.78.78-.78 2.05 0 2.83L4 21.41c.39.39.9.59 1.41.59.51 0 1.02-.2 1.41-.59l7.78-7.78 2.81-2.81c.8-.78.8-2.07 0-2.86zM5.41 20L4 18.59l7.72-7.72 1.47 1.35L5.41 20z\"/>\n",
              "  </svg>\n",
              "      </button>\n",
              "      \n",
              "  <style>\n",
              "    .colab-df-container {\n",
              "      display:flex;\n",
              "      flex-wrap:wrap;\n",
              "      gap: 12px;\n",
              "    }\n",
              "\n",
              "    .colab-df-convert {\n",
              "      background-color: #E8F0FE;\n",
              "      border: none;\n",
              "      border-radius: 50%;\n",
              "      cursor: pointer;\n",
              "      display: none;\n",
              "      fill: #1967D2;\n",
              "      height: 32px;\n",
              "      padding: 0 0 0 0;\n",
              "      width: 32px;\n",
              "    }\n",
              "\n",
              "    .colab-df-convert:hover {\n",
              "      background-color: #E2EBFA;\n",
              "      box-shadow: 0px 1px 2px rgba(60, 64, 67, 0.3), 0px 1px 3px 1px rgba(60, 64, 67, 0.15);\n",
              "      fill: #174EA6;\n",
              "    }\n",
              "\n",
              "    [theme=dark] .colab-df-convert {\n",
              "      background-color: #3B4455;\n",
              "      fill: #D2E3FC;\n",
              "    }\n",
              "\n",
              "    [theme=dark] .colab-df-convert:hover {\n",
              "      background-color: #434B5C;\n",
              "      box-shadow: 0px 1px 3px 1px rgba(0, 0, 0, 0.15);\n",
              "      filter: drop-shadow(0px 1px 2px rgba(0, 0, 0, 0.3));\n",
              "      fill: #FFFFFF;\n",
              "    }\n",
              "  </style>\n",
              "\n",
              "      <script>\n",
              "        const buttonEl =\n",
              "          document.querySelector('#df-bfe53cc0-88b0-42b5-9f4d-bc5e5d577b55 button.colab-df-convert');\n",
              "        buttonEl.style.display =\n",
              "          google.colab.kernel.accessAllowed ? 'block' : 'none';\n",
              "\n",
              "        async function convertToInteractive(key) {\n",
              "          const element = document.querySelector('#df-bfe53cc0-88b0-42b5-9f4d-bc5e5d577b55');\n",
              "          const dataTable =\n",
              "            await google.colab.kernel.invokeFunction('convertToInteractive',\n",
              "                                                     [key], {});\n",
              "          if (!dataTable) return;\n",
              "\n",
              "          const docLinkHtml = 'Like what you see? Visit the ' +\n",
              "            '<a target=\"_blank\" href=https://colab.research.google.com/notebooks/data_table.ipynb>data table notebook</a>'\n",
              "            + ' to learn more about interactive tables.';\n",
              "          element.innerHTML = '';\n",
              "          dataTable['output_type'] = 'display_data';\n",
              "          await google.colab.output.renderOutput(dataTable, element);\n",
              "          const docLink = document.createElement('div');\n",
              "          docLink.innerHTML = docLinkHtml;\n",
              "          element.appendChild(docLink);\n",
              "        }\n",
              "      </script>\n",
              "    </div>\n",
              "  </div>\n",
              "  "
            ]
          },
          "metadata": {},
          "execution_count": 2
        }
      ]
    },
    {
      "cell_type": "code",
      "source": [
        "df.plot(x='Date', y='Close', kind='line', figsize=(10, 5))"
      ],
      "metadata": {
        "id": "eu5sOQXhi8hH",
        "colab": {
          "base_uri": "https://localhost:8080/",
          "height": 351
        },
        "outputId": "7d0a2d55-63aa-4e98-8fa5-083fd3301798"
      },
      "execution_count": 3,
      "outputs": [
        {
          "output_type": "execute_result",
          "data": {
            "text/plain": [
              "<matplotlib.axes._subplots.AxesSubplot at 0x7f37364e2850>"
            ]
          },
          "metadata": {},
          "execution_count": 3
        },
        {
          "output_type": "display_data",
          "data": {
            "text/plain": [
              "<Figure size 720x360 with 1 Axes>"
            ],
            "image/png": "[encoded data removed]"
          },
          "metadata": {
            "needs_background": "light"
          }
        }
      ]
    },
    {
      "cell_type": "code",
      "source": [
        "df = df[['Close']]\n",
        "df.dropna(inplace = True)\n",
        "df.head()"
      ],
      "metadata": {
        "id": "AM-5iw8Zpv86",
        "colab": {
          "base_uri": "https://localhost:8080/",
          "height": 313
        },
        "outputId": "63511f11-f867-4285-d6a7-60a76c672eae"
      },
      "execution_count": 4,
      "outputs": [
        {
          "output_type": "stream",
          "name": "stderr",
          "text": [
            "/usr/local/lib/python3.7/dist-packages/pandas/util/_decorators.py:311: SettingWithCopyWarning: \n",
            "A value is trying to be set on a copy of a slice from a DataFrame\n",
            "\n",
            "See the caveats in the documentation: https://pandas.pydata.org/pandas-docs/stable/user_guide/indexing.html#returning-a-view-versus-a-copy\n",
            "  return func(*args, **kwargs)\n"
          ]
        },
        {
          "output_type": "execute_result",
          "data": {
            "text/plain": [
              "       Close\n",
              "0  61.087502\n",
              "1  58.299999\n",
              "2  59.012501\n",
              "3  57.262501\n",
              "4  56.599998"
            ],
            "text/html": [
              "\n",
              "  <div id=\"df-4b705a21-ab65-4904-8308-672c7d932f42\">\n",
              "    <div class=\"colab-df-container\">\n",
              "      <div>\n",
              "<style scoped>\n",
              "    .dataframe tbody tr th:only-of-type {\n",
              "        vertical-align: middle;\n",
              "    }\n",
              "\n",
              "    .dataframe tbody tr th {\n",
              "        vertical-align: top;\n",
              "    }\n",
              "\n",
              "    .dataframe thead th {\n",
              "        text-align: right;\n",
              "    }\n",
              "</style>\n",
              "<table border=\"1\" class=\"dataframe\">\n",
              "  <thead>\n",
              "    <tr style=\"text-align: right;\">\n",
              "      <th></th>\n",
              "      <th>Close</th>\n",
              "    </tr>\n",
              "  </thead>\n",
              "  <tbody>\n",
              "    <tr>\n",
              "      <th>0</th>\n",
              "      <td>61.087502</td>\n",
              "    </tr>\n",
              "    <tr>\n",
              "      <th>1</th>\n",
              "      <td>58.299999</td>\n",
              "    </tr>\n",
              "    <tr>\n",
              "      <th>2</th>\n",
              "      <td>59.012501</td>\n",
              "    </tr>\n",
              "    <tr>\n",
              "      <th>3</th>\n",
              "      <td>57.262501</td>\n",
              "    </tr>\n",
              "    <tr>\n",
              "      <th>4</th>\n",
              "      <td>56.599998</td>\n",
              "    </tr>\n",
              "  </tbody>\n",
              "</table>\n",
              "</div>\n",
              "      <button class=\"colab-df-convert\" onclick=\"convertToInteractive('df-4b705a21-ab65-4904-8308-672c7d932f42')\"\n",
              "              title=\"Convert this dataframe to an interactive table.\"\n",
              "              style=\"display:none;\">\n",
              "        \n",
              "  <svg xmlns=\"http://www.w3.org/2000/svg\" height=\"24px\"viewBox=\"0 0 24 24\"\n",
              "       width=\"24px\">\n",
              "    <path d=\"M0 0h24v24H0V0z\" fill=\"none\"/>\n",
              "    <path d=\"M18.56 5.44l.94 2.06.94-2.06 2.06-.94-2.06-.94-.94-2.06-.94 2.06-2.06.94zm-11 1L8.5 8.5l.94-2.06 2.06-.94-2.06-.94L8.5 2.5l-.94 2.06-2.06.94zm10 10l.94 2.06.94-2.06 2.06-.94-2.06-.94-.94-2.06-.94 2.06-2.06.94z\"/><path d=\"M17.41 7.96l-1.37-1.37c-.4-.4-.92-.59-1.43-.59-.52 0-1.04.2-1.43.59L10.3 9.45l-7.72 7.72c-.78.78-.78 2.05 0 2.83L4 21.41c.39.39.9.59 1.41.59.51 0 1.02-.2 1.41-.59l7.78-7.78 2.81-2.81c.8-.78.8-2.07 0-2.86zM5.41 20L4 18.59l7.72-7.72 1.47 1.35L5.41 20z\"/>\n",
              "  </svg>\n",
              "      </button>\n",
              "      \n",
              "  <style>\n",
              "    .colab-df-container {\n",
              "      display:flex;\n",
              "      flex-wrap:wrap;\n",
              "      gap: 12px;\n",
              "    }\n",
              "\n",
              "    .colab-df-convert {\n",
              "      background-color: #E8F0FE;\n",
              "      border: none;\n",
              "      border-radius: 50%;\n",
              "      cursor: pointer;\n",
              "      display: none;\n",
              "      fill: #1967D2;\n",
              "      height: 32px;\n",
              "      padding: 0 0 0 0;\n",
              "      width: 32px;\n",
              "    }\n",
              "\n",
              "    .colab-df-convert:hover {\n",
              "      background-color: #E2EBFA;\n",
              "      box-shadow: 0px 1px 2px rgba(60, 64, 67, 0.3), 0px 1px 3px 1px rgba(60, 64, 67, 0.15);\n",
              "      fill: #174EA6;\n",
              "    }\n",
              "\n",
              "    [theme=dark] .colab-df-convert {\n",
              "      background-color: #3B4455;\n",
              "      fill: #D2E3FC;\n",
              "    }\n",
              "\n",
              "    [theme=dark] .colab-df-convert:hover {\n",
              "      background-color: #434B5C;\n",
              "      box-shadow: 0px 1px 3px 1px rgba(0, 0, 0, 0.15);\n",
              "      filter: drop-shadow(0px 1px 2px rgba(0, 0, 0, 0.3));\n",
              "      fill: #FFFFFF;\n",
              "    }\n",
              "  </style>\n",
              "\n",
              "      <script>\n",
              "        const buttonEl =\n",
              "          document.querySelector('#df-4b705a21-ab65-4904-8308-672c7d932f42 button.colab-df-convert');\n",
              "        buttonEl.style.display =\n",
              "          google.colab.kernel.accessAllowed ? 'block' : 'none';\n",
              "\n",
              "        async function convertToInteractive(key) {\n",
              "          const element = document.querySelector('#df-4b705a21-ab65-4904-8308-672c7d932f42');\n",
              "          const dataTable =\n",
              "            await google.colab.kernel.invokeFunction('convertToInteractive',\n",
              "                                                     [key], {});\n",
              "          if (!dataTable) return;\n",
              "\n",
              "          const docLinkHtml = 'Like what you see? Visit the ' +\n",
              "            '<a target=\"_blank\" href=https://colab.research.google.com/notebooks/data_table.ipynb>data table notebook</a>'\n",
              "            + ' to learn more about interactive tables.';\n",
              "          element.innerHTML = '';\n",
              "          dataTable['output_type'] = 'display_data';\n",
              "          await google.colab.output.renderOutput(dataTable, element);\n",
              "          const docLink = document.createElement('div');\n",
              "          docLink.innerHTML = docLinkHtml;\n",
              "          element.appendChild(docLink);\n",
              "        }\n",
              "      </script>\n",
              "    </div>\n",
              "  </div>\n",
              "  "
            ]
          },
          "metadata": {},
          "execution_count": 4
        }
      ]
    },
    {
      "cell_type": "code",
      "source": [
        "scaler = MinMaxScaler(feature_range=(0,1))\n",
        "data = scaler.fit_transform(df)"
      ],
      "metadata": {
        "id": "gQSH_F5MrCTb"
      },
      "execution_count": 5,
      "outputs": []
    },
    {
      "cell_type": "code",
      "source": [
        "trainSize = int(len(data)*0.7)\n",
        "testSize = len(data) - trainSize\n",
        "train = data[0:trainSize]\n",
        "test = data[trainSize:len(data)]"
      ],
      "metadata": {
        "id": "EHf9S2S05MOp"
      },
      "execution_count": 6,
      "outputs": []
    },
    {
      "cell_type": "code",
      "source": [
        "def modify(data, pastDays = 14):\n",
        "  X = []\n",
        "  Y = []\n",
        "  for i in range(pastDays, len(data)):\n",
        "      X.append(data[i - 14: i, 0: data.shape[1]])\n",
        "      Y.append(data[i : i + 1, 0])\n",
        "  return np.array(X), np.array(Y)"
      ],
      "metadata": {
        "id": "qnkLzVxh09VJ"
      },
      "execution_count": 7,
      "outputs": []
    },
    {
      "cell_type": "code",
      "source": [
        "trainX, trainY = modify(train)\n",
        "testX, testY = modify(test)"
      ],
      "metadata": {
        "id": "SrCav3Wz6_s3"
      },
      "execution_count": 8,
      "outputs": []
    },
    {
      "cell_type": "markdown",
      "source": [
        "RNN"
      ],
      "metadata": {
        "id": "uSlibsFOJE2d"
      }
    },
    {
      "cell_type": "code",
      "source": [
        "model1 = Sequential()\n",
        "model1.add(InputLayer((trainX.shape[1], trainX.shape[2])))\n",
        "model1.add(SimpleRNN(100))\n",
        "model1.add(Dense(trainY.shape[1]))\n",
        "model1.compile(optimizer='adam', loss='mse')\n",
        "model1.summary()"
      ],
      "metadata": {
        "id": "Q1rg19nVI-IW",
        "colab": {
          "base_uri": "https://localhost:8080/"
        },
        "outputId": "190329e4-60c3-48d1-8726-1610b9831aaa"
      },
      "execution_count": 9,
      "outputs": [
        {
          "output_type": "stream",
          "name": "stdout",
          "text": [
            "Model: \"sequential\"\n",
            "_________________________________________________________________\n",
            " Layer (type)                Output Shape              Param #   \n",
            "=================================================================\n",
            " simple_rnn (SimpleRNN)      (None, 100)               10200     \n",
            "                                                                 \n",
            " dense (Dense)               (None, 1)                 101       \n",
            "                                                                 \n",
            "=================================================================\n",
            "Total params: 10,301\n",
            "Trainable params: 10,301\n",
            "Non-trainable params: 0\n",
            "_________________________________________________________________\n"
          ]
        }
      ]
    },
    {
      "cell_type": "code",
      "source": [
        "model1.fit(trainX, trainY, validation_data = (testX, testY), epochs = 50)"
      ],
      "metadata": {
        "id": "yzyIzyCeJMmQ",
        "colab": {
          "base_uri": "https://localhost:8080/"
        },
        "outputId": "b48788f2-be48-4a24-d66f-53a634554008"
      },
      "execution_count": 10,
      "outputs": [
        {
          "output_type": "stream",
          "name": "stdout",
          "text": [
            "Epoch 1/50\n",
            "103/103 [==============================] - 5s 23ms/step - loss: 5.4584e-04 - val_loss: 0.0041\n",
            "Epoch 2/50\n",
            "103/103 [==============================] - 2s 15ms/step - loss: 2.4335e-05 - val_loss: 0.0027\n",
            "Epoch 3/50\n",
            "103/103 [==============================] - 1s 15ms/step - loss: 2.1406e-05 - val_loss: 0.0019\n",
            "Epoch 4/50\n",
            "103/103 [==============================] - 1s 12ms/step - loss: 1.6718e-05 - val_loss: 0.0016\n",
            "Epoch 5/50\n",
            "103/103 [==============================] - 1s 12ms/step - loss: 1.4189e-05 - val_loss: 7.5246e-04\n",
            "Epoch 6/50\n",
            "103/103 [==============================] - 1s 7ms/step - loss: 1.4761e-05 - val_loss: 5.7996e-04\n",
            "Epoch 7/50\n",
            "103/103 [==============================] - 1s 7ms/step - loss: 1.4220e-05 - val_loss: 7.7545e-04\n",
            "Epoch 8/50\n",
            "103/103 [==============================] - 1s 8ms/step - loss: 1.2034e-05 - val_loss: 5.2961e-04\n",
            "Epoch 9/50\n",
            "103/103 [==============================] - 1s 7ms/step - loss: 1.5026e-05 - val_loss: 2.3541e-04\n",
            "Epoch 10/50\n",
            "103/103 [==============================] - 1s 7ms/step - loss: 1.3120e-05 - val_loss: 5.6909e-04\n",
            "Epoch 11/50\n",
            "103/103 [==============================] - 1s 7ms/step - loss: 1.2942e-05 - val_loss: 3.9033e-04\n",
            "Epoch 12/50\n",
            "103/103 [==============================] - 1s 7ms/step - loss: 1.1830e-05 - val_loss: 4.3446e-04\n",
            "Epoch 13/50\n",
            "103/103 [==============================] - 1s 7ms/step - loss: 1.1223e-05 - val_loss: 2.6938e-04\n",
            "Epoch 14/50\n",
            "103/103 [==============================] - 1s 7ms/step - loss: 1.0210e-05 - val_loss: 1.6182e-04\n",
            "Epoch 15/50\n",
            "103/103 [==============================] - 1s 8ms/step - loss: 1.2537e-05 - val_loss: 3.2650e-04\n",
            "Epoch 16/50\n",
            "103/103 [==============================] - 1s 7ms/step - loss: 1.2229e-05 - val_loss: 2.4027e-04\n",
            "Epoch 17/50\n",
            "103/103 [==============================] - 1s 7ms/step - loss: 1.1728e-05 - val_loss: 2.5712e-04\n",
            "Epoch 18/50\n",
            "103/103 [==============================] - 1s 7ms/step - loss: 1.1418e-05 - val_loss: 3.7193e-04\n",
            "Epoch 19/50\n",
            "103/103 [==============================] - 1s 7ms/step - loss: 1.2578e-05 - val_loss: 1.3713e-04\n",
            "Epoch 20/50\n",
            "103/103 [==============================] - 1s 8ms/step - loss: 1.3425e-05 - val_loss: 1.8597e-04\n",
            "Epoch 21/50\n",
            "103/103 [==============================] - 1s 7ms/step - loss: 9.9004e-06 - val_loss: 2.2999e-04\n",
            "Epoch 22/50\n",
            "103/103 [==============================] - 1s 7ms/step - loss: 1.2437e-05 - val_loss: 1.2226e-04\n",
            "Epoch 23/50\n",
            "103/103 [==============================] - 1s 7ms/step - loss: 1.1840e-05 - val_loss: 1.6412e-04\n",
            "Epoch 24/50\n",
            "103/103 [==============================] - 1s 7ms/step - loss: 1.0763e-05 - val_loss: 1.2969e-04\n",
            "Epoch 25/50\n",
            "103/103 [==============================] - 1s 7ms/step - loss: 1.1377e-05 - val_loss: 2.4934e-04\n",
            "Epoch 26/50\n",
            "103/103 [==============================] - 1s 7ms/step - loss: 1.1281e-05 - val_loss: 1.8992e-04\n",
            "Epoch 27/50\n",
            "103/103 [==============================] - 1s 7ms/step - loss: 9.4773e-06 - val_loss: 1.0194e-04\n",
            "Epoch 28/50\n",
            "103/103 [==============================] - 1s 7ms/step - loss: 1.0451e-05 - val_loss: 1.5967e-04\n",
            "Epoch 29/50\n",
            "103/103 [==============================] - 1s 7ms/step - loss: 1.1083e-05 - val_loss: 1.3220e-04\n",
            "Epoch 30/50\n",
            "103/103 [==============================] - 1s 7ms/step - loss: 1.0319e-05 - val_loss: 1.2716e-04\n",
            "Epoch 31/50\n",
            "103/103 [==============================] - 1s 7ms/step - loss: 1.3642e-05 - val_loss: 2.8876e-04\n",
            "Epoch 32/50\n",
            "103/103 [==============================] - 1s 7ms/step - loss: 1.0416e-05 - val_loss: 2.5545e-04\n",
            "Epoch 33/50\n",
            "103/103 [==============================] - 1s 7ms/step - loss: 9.6910e-06 - val_loss: 1.6296e-04\n",
            "Epoch 34/50\n",
            "103/103 [==============================] - 1s 7ms/step - loss: 9.2537e-06 - val_loss: 9.6356e-05\n",
            "Epoch 35/50\n",
            "103/103 [==============================] - 1s 7ms/step - loss: 9.7116e-06 - val_loss: 1.0268e-04\n",
            "Epoch 36/50\n",
            "103/103 [==============================] - 1s 7ms/step - loss: 8.6785e-06 - val_loss: 9.1340e-05\n",
            "Epoch 37/50\n",
            "103/103 [==============================] - 1s 7ms/step - loss: 9.5506e-06 - val_loss: 1.8433e-04\n",
            "Epoch 38/50\n",
            "103/103 [==============================] - 1s 7ms/step - loss: 9.7128e-06 - val_loss: 1.2824e-04\n",
            "Epoch 39/50\n",
            "103/103 [==============================] - 1s 7ms/step - loss: 1.0484e-05 - val_loss: 9.8174e-05\n",
            "Epoch 40/50\n",
            "103/103 [==============================] - 1s 7ms/step - loss: 9.6988e-06 - val_loss: 9.4241e-05\n",
            "Epoch 41/50\n",
            "103/103 [==============================] - 1s 7ms/step - loss: 8.7042e-06 - val_loss: 1.5313e-04\n",
            "Epoch 42/50\n",
            "103/103 [==============================] - 1s 7ms/step - loss: 1.0512e-05 - val_loss: 9.6248e-05\n",
            "Epoch 43/50\n",
            "103/103 [==============================] - 1s 7ms/step - loss: 1.1904e-05 - val_loss: 1.1654e-04\n",
            "Epoch 44/50\n",
            "103/103 [==============================] - 1s 7ms/step - loss: 9.2625e-06 - val_loss: 1.0585e-04\n",
            "Epoch 45/50\n",
            "103/103 [==============================] - 1s 7ms/step - loss: 9.6684e-06 - val_loss: 9.0149e-05\n",
            "Epoch 46/50\n",
            "103/103 [==============================] - 1s 7ms/step - loss: 9.3361e-06 - val_loss: 8.7216e-05\n",
            "Epoch 47/50\n",
            "103/103 [==============================] - 1s 7ms/step - loss: 1.0230e-05 - val_loss: 8.4681e-05\n",
            "Epoch 48/50\n",
            "103/103 [==============================] - 1s 7ms/step - loss: 9.0247e-06 - val_loss: 8.2465e-05\n",
            "Epoch 49/50\n",
            "103/103 [==============================] - 1s 7ms/step - loss: 1.0547e-05 - val_loss: 1.2330e-04\n",
            "Epoch 50/50\n",
            "103/103 [==============================] - 1s 7ms/step - loss: 9.3923e-06 - val_loss: 1.5443e-04\n"
          ]
        },
        {
          "output_type": "execute_result",
          "data": {
            "text/plain": [
              "<keras.callbacks.History at 0x7f3731d53a90>"
            ]
          },
          "metadata": {},
          "execution_count": 10
        }
      ]
    },
    {
      "cell_type": "code",
      "source": [
        "trainPredict1 = model1.predict(trainX)\n",
        "testPredict1 = model1.predict(testX)\n",
        "trainPredict1 = scaler.inverse_transform(trainPredict1)\n",
        "testPredict1 = scaler.inverse_transform(testPredict1)\n",
        "trainY1 = scaler.inverse_transform(trainY.reshape(-1, 1))\n",
        "testY1 = scaler.inverse_transform(testY.reshape(-1, 1))"
      ],
      "metadata": {
        "id": "nlr9V8kGKC0-"
      },
      "execution_count": 11,
      "outputs": []
    },
    {
      "cell_type": "code",
      "source": [
        "mape1 = np.mean(np.abs((testY1 - testPredict1)/testY1))*100\n",
        "mape1"
      ],
      "metadata": {
        "id": "XMxITShKKY1m",
        "colab": {
          "base_uri": "https://localhost:8080/"
        },
        "outputId": "521d943f-39c4-4e54-9de1-636cbad1b992"
      },
      "execution_count": 12,
      "outputs": [
        {
          "output_type": "execute_result",
          "data": {
            "text/plain": [
              "1.6072051285072473"
            ]
          },
          "metadata": {},
          "execution_count": 12
        }
      ]
    },
    {
      "cell_type": "code",
      "source": [
        "days = [i for i in range(0, len(testY1))]\n",
        "plt.plot(days, testY1, color='r', label='Y')\n",
        "plt.plot(days, testPredict1, color='g', label='Ypredict')  \n",
        "plt.xlabel(\"Days\")\n",
        "plt.ylabel(\"Price\")\n",
        "plt.title(\"Stock Price\")\n",
        "plt.legend()\n",
        "plt.show()"
      ],
      "metadata": {
        "id": "PFthWKPZK6od",
        "colab": {
          "base_uri": "https://localhost:8080/",
          "height": 295
        },
        "outputId": "a8cbf445-3bc0-4aa9-93d0-b24a248d43d3"
      },
      "execution_count": 13,
      "outputs": [
        {
          "output_type": "display_data",
          "data": {
            "text/plain": [
              "<Figure size 432x288 with 1 Axes>"
            ],
            "image/png": "[encoded data removed]"
          },
          "metadata": {
            "needs_background": "light"
          }
        }
      ]
    },
    {
      "cell_type": "markdown",
      "source": [
        "Classic LSTM"
      ],
      "metadata": {
        "id": "6HLNTNT3FqB1"
      }
    },
    {
      "cell_type": "code",
      "source": [
        "model2 = Sequential()\n",
        "model2.add(InputLayer((trainX.shape[1], trainX.shape[2])))\n",
        "model2.add(LSTM(200))\n",
        "model2.add(Dense(trainY.shape[1]))\n",
        "model2.compile(optimizer='adam', loss='mse')\n",
        "model2.summary()"
      ],
      "metadata": {
        "id": "YrK6_RTR8Joj",
        "colab": {
          "base_uri": "https://localhost:8080/"
        },
        "outputId": "10f68b64-2382-4452-96fe-3e697fc7dfbf"
      },
      "execution_count": 14,
      "outputs": [
        {
          "output_type": "stream",
          "name": "stdout",
          "text": [
            "Model: \"sequential_1\"\n",
            "_________________________________________________________________\n",
            " Layer (type)                Output Shape              Param #   \n",
            "=================================================================\n",
            " lstm (LSTM)                 (None, 200)               161600    \n",
            "                                                                 \n",
            " dense_1 (Dense)             (None, 1)                 201       \n",
            "                                                                 \n",
            "=================================================================\n",
            "Total params: 161,801\n",
            "Trainable params: 161,801\n",
            "Non-trainable params: 0\n",
            "_________________________________________________________________\n"
          ]
        }
      ]
    },
    {
      "cell_type": "code",
      "source": [
        "model2.fit(trainX, trainY, validation_data = (testX, testY), epochs = 50)"
      ],
      "metadata": {
        "colab": {
          "base_uri": "https://localhost:8080/"
        },
        "id": "DLCcQBiADlBw",
        "outputId": "53a3dd0b-2197-44cc-86e1-38906f6b9c64"
      },
      "execution_count": 15,
      "outputs": [
        {
          "output_type": "stream",
          "name": "stdout",
          "text": [
            "Epoch 1/50\n",
            "103/103 [==============================] - 6s 42ms/step - loss: 6.5499e-04 - val_loss: 2.4557e-04\n",
            "Epoch 2/50\n",
            "103/103 [==============================] - 4s 38ms/step - loss: 2.5075e-05 - val_loss: 2.6064e-04\n",
            "Epoch 3/50\n",
            "103/103 [==============================] - 4s 39ms/step - loss: 2.3118e-05 - val_loss: 2.5669e-04\n",
            "Epoch 4/50\n",
            "103/103 [==============================] - 4s 39ms/step - loss: 2.5322e-05 - val_loss: 3.4329e-04\n",
            "Epoch 5/50\n",
            "103/103 [==============================] - 4s 39ms/step - loss: 2.5616e-05 - val_loss: 3.5588e-04\n",
            "Epoch 6/50\n",
            "103/103 [==============================] - 4s 42ms/step - loss: 2.4213e-05 - val_loss: 3.3393e-04\n",
            "Epoch 7/50\n",
            "103/103 [==============================] - 4s 41ms/step - loss: 2.3860e-05 - val_loss: 3.2034e-04\n",
            "Epoch 8/50\n",
            "103/103 [==============================] - 4s 40ms/step - loss: 2.4911e-05 - val_loss: 6.4639e-04\n",
            "Epoch 9/50\n",
            "103/103 [==============================] - 4s 40ms/step - loss: 2.4666e-05 - val_loss: 2.6752e-04\n",
            "Epoch 10/50\n",
            "103/103 [==============================] - 4s 38ms/step - loss: 2.6436e-05 - val_loss: 2.1617e-04\n",
            "Epoch 11/50\n",
            "103/103 [==============================] - 4s 39ms/step - loss: 2.3229e-05 - val_loss: 2.9316e-04\n",
            "Epoch 12/50\n",
            "103/103 [==============================] - 4s 38ms/step - loss: 2.2403e-05 - val_loss: 3.9571e-04\n",
            "Epoch 13/50\n",
            "103/103 [==============================] - 4s 40ms/step - loss: 2.2386e-05 - val_loss: 3.5010e-04\n",
            "Epoch 14/50\n",
            "103/103 [==============================] - 4s 38ms/step - loss: 2.0470e-05 - val_loss: 2.6280e-04\n",
            "Epoch 15/50\n",
            "103/103 [==============================] - 4s 39ms/step - loss: 2.3099e-05 - val_loss: 1.7564e-04\n",
            "Epoch 16/50\n",
            "103/103 [==============================] - 4s 38ms/step - loss: 2.2655e-05 - val_loss: 1.7704e-04\n",
            "Epoch 17/50\n",
            "103/103 [==============================] - 4s 38ms/step - loss: 1.9410e-05 - val_loss: 3.2041e-04\n",
            "Epoch 18/50\n",
            "103/103 [==============================] - 4s 39ms/step - loss: 1.9545e-05 - val_loss: 2.3649e-04\n",
            "Epoch 19/50\n",
            "103/103 [==============================] - 4s 39ms/step - loss: 1.6791e-05 - val_loss: 2.4854e-04\n",
            "Epoch 20/50\n",
            "103/103 [==============================] - 4s 39ms/step - loss: 1.9380e-05 - val_loss: 1.5710e-04\n",
            "Epoch 21/50\n",
            "103/103 [==============================] - 4s 39ms/step - loss: 1.9939e-05 - val_loss: 3.0630e-04\n",
            "Epoch 22/50\n",
            "103/103 [==============================] - 4s 40ms/step - loss: 2.2398e-05 - val_loss: 1.3505e-04\n",
            "Epoch 23/50\n",
            "103/103 [==============================] - 4s 40ms/step - loss: 1.7305e-05 - val_loss: 1.4230e-04\n",
            "Epoch 24/50\n",
            "103/103 [==============================] - 4s 39ms/step - loss: 1.5597e-05 - val_loss: 1.3181e-04\n",
            "Epoch 25/50\n",
            "103/103 [==============================] - 4s 40ms/step - loss: 2.0818e-05 - val_loss: 1.3990e-04\n",
            "Epoch 26/50\n",
            "103/103 [==============================] - 4s 40ms/step - loss: 1.6019e-05 - val_loss: 1.2323e-04\n",
            "Epoch 27/50\n",
            "103/103 [==============================] - 4s 41ms/step - loss: 1.4229e-05 - val_loss: 1.7810e-04\n",
            "Epoch 28/50\n",
            "103/103 [==============================] - 4s 39ms/step - loss: 1.5122e-05 - val_loss: 1.4781e-04\n",
            "Epoch 29/50\n",
            "103/103 [==============================] - 4s 38ms/step - loss: 1.6527e-05 - val_loss: 2.7011e-04\n",
            "Epoch 30/50\n",
            "103/103 [==============================] - 4s 38ms/step - loss: 1.5535e-05 - val_loss: 2.1857e-04\n",
            "Epoch 31/50\n",
            "103/103 [==============================] - 4s 39ms/step - loss: 1.7363e-05 - val_loss: 2.1090e-04\n",
            "Epoch 32/50\n",
            "103/103 [==============================] - 4s 39ms/step - loss: 1.3298e-05 - val_loss: 1.1320e-04\n",
            "Epoch 33/50\n",
            "103/103 [==============================] - 4s 38ms/step - loss: 1.3685e-05 - val_loss: 1.0978e-04\n",
            "Epoch 34/50\n",
            "103/103 [==============================] - 4s 39ms/step - loss: 1.4014e-05 - val_loss: 1.1735e-04\n",
            "Epoch 35/50\n",
            "103/103 [==============================] - 4s 39ms/step - loss: 1.5002e-05 - val_loss: 1.1546e-04\n",
            "Epoch 36/50\n",
            "103/103 [==============================] - 4s 42ms/step - loss: 1.4500e-05 - val_loss: 1.0570e-04\n",
            "Epoch 37/50\n",
            "103/103 [==============================] - 4s 39ms/step - loss: 1.3762e-05 - val_loss: 1.3188e-04\n",
            "Epoch 38/50\n",
            "103/103 [==============================] - 4s 39ms/step - loss: 1.3590e-05 - val_loss: 1.1510e-04\n",
            "Epoch 39/50\n",
            "103/103 [==============================] - 4s 37ms/step - loss: 1.4812e-05 - val_loss: 1.0249e-04\n",
            "Epoch 40/50\n",
            "103/103 [==============================] - 4s 37ms/step - loss: 1.5280e-05 - val_loss: 1.7152e-04\n",
            "Epoch 41/50\n",
            "103/103 [==============================] - 4s 38ms/step - loss: 1.2180e-05 - val_loss: 1.0910e-04\n",
            "Epoch 42/50\n",
            "103/103 [==============================] - 4s 39ms/step - loss: 1.3070e-05 - val_loss: 2.6481e-04\n",
            "Epoch 43/50\n",
            "103/103 [==============================] - 4s 38ms/step - loss: 1.1756e-05 - val_loss: 1.4671e-04\n",
            "Epoch 44/50\n",
            "103/103 [==============================] - 4s 39ms/step - loss: 1.3067e-05 - val_loss: 1.3394e-04\n",
            "Epoch 45/50\n",
            "103/103 [==============================] - 4s 39ms/step - loss: 1.3102e-05 - val_loss: 9.3839e-05\n",
            "Epoch 46/50\n",
            "103/103 [==============================] - 4s 39ms/step - loss: 1.1842e-05 - val_loss: 1.0379e-04\n",
            "Epoch 47/50\n",
            "103/103 [==============================] - 4s 38ms/step - loss: 1.3898e-05 - val_loss: 8.8780e-05\n",
            "Epoch 48/50\n",
            "103/103 [==============================] - 4s 39ms/step - loss: 1.0294e-05 - val_loss: 1.1405e-04\n",
            "Epoch 49/50\n",
            "103/103 [==============================] - 4s 40ms/step - loss: 1.1373e-05 - val_loss: 1.3933e-04\n",
            "Epoch 50/50\n",
            "103/103 [==============================] - 4s 39ms/step - loss: 1.1023e-05 - val_loss: 1.2245e-04\n"
          ]
        },
        {
          "output_type": "execute_result",
          "data": {
            "text/plain": [
              "<keras.callbacks.History at 0x7f372e420450>"
            ]
          },
          "metadata": {},
          "execution_count": 15
        }
      ]
    },
    {
      "cell_type": "code",
      "source": [
        "trainPredict2 = model2.predict(trainX)\n",
        "testPredict2 = model2.predict(testX)\n",
        "trainPredict2 = scaler.inverse_transform(trainPredict2)\n",
        "testPredict2 = scaler.inverse_transform(testPredict2)\n",
        "trainY2 = scaler.inverse_transform(trainY.reshape(-1, 1))\n",
        "testY2 = scaler.inverse_transform(testY.reshape(-1, 1))"
      ],
      "metadata": {
        "id": "7lbCXVOuFdZj"
      },
      "execution_count": 16,
      "outputs": []
    },
    {
      "cell_type": "code",
      "source": [
        "mape2 = np.mean(np.abs((testY2 - testPredict2)/testY2))*100\n",
        "mape2"
      ],
      "metadata": {
        "id": "1EoZKsfkLXH5",
        "colab": {
          "base_uri": "https://localhost:8080/"
        },
        "outputId": "41d41ecc-e988-4897-fc5f-e9ff69f6b388"
      },
      "execution_count": 17,
      "outputs": [
        {
          "output_type": "execute_result",
          "data": {
            "text/plain": [
              "1.4479187671980784"
            ]
          },
          "metadata": {},
          "execution_count": 17
        }
      ]
    },
    {
      "cell_type": "code",
      "source": [
        "days = [i for i in range(0, len(testY2))]\n",
        "plt.plot(days, testY2, color='r', label='Y')\n",
        "plt.plot(days, testPredict2, color='g', label='Ypredict')\n",
        "plt.xlabel(\"Days\")\n",
        "plt.ylabel(\"Price\")\n",
        "plt.title(\"Stock Price\")\n",
        "plt.legend()\n",
        "plt.show()"
      ],
      "metadata": {
        "id": "-yZZuGZrBNeP",
        "colab": {
          "base_uri": "https://localhost:8080/",
          "height": 295
        },
        "outputId": "26baeb7a-80e3-4c3f-84cb-ba60d501c8e1"
      },
      "execution_count": 18,
      "outputs": [
        {
          "output_type": "display_data",
          "data": {
            "text/plain": [
              "<Figure size 432x288 with 1 Axes>"
            ],
            "image/png": "[encoded data removed]"
          },
          "metadata": {
            "needs_background": "light"
          }
        }
      ]
    },
    {
      "cell_type": "markdown",
      "source": [
        "LSTM Peephole"
      ],
      "metadata": {
        "id": "bf7GoafTMuF1"
      }
    },
    {
      "cell_type": "code",
      "source": [
        "model3 = Sequential()\n",
        "model3.add(InputLayer((trainX.shape[1], trainX.shape[2])))\n",
        "model3.add(RNN(tfa.rnn.PeepholeLSTMCell(200)))\n",
        "model3.add(Dense(trainY.shape[1]))\n",
        "model3.compile(optimizer='adam', loss='mse')\n",
        "model3.summary()"
      ],
      "metadata": {
        "id": "CMBfWAw7MmD6",
        "colab": {
          "base_uri": "https://localhost:8080/"
        },
        "outputId": "e8f9d286-b6eb-40c7-ae6d-4721edf88585"
      },
      "execution_count": 19,
      "outputs": [
        {
          "output_type": "stream",
          "name": "stdout",
          "text": [
            "Model: \"sequential_2\"\n",
            "_________________________________________________________________\n",
            " Layer (type)                Output Shape              Param #   \n",
            "=================================================================\n",
            " rnn (RNN)                   (None, 200)               162200    \n",
            "                                                                 \n",
            " dense_2 (Dense)             (None, 1)                 201       \n",
            "                                                                 \n",
            "=================================================================\n",
            "Total params: 162,401\n",
            "Trainable params: 162,401\n",
            "Non-trainable params: 0\n",
            "_________________________________________________________________\n"
          ]
        }
      ]
    },
    {
      "cell_type": "code",
      "source": [
        "model3.fit(trainX, trainY, validation_data = (testX, testY), epochs = 50)"
      ],
      "metadata": {
        "id": "imUyvlS2GRxs",
        "colab": {
          "base_uri": "https://localhost:8080/"
        },
        "outputId": "d82aca26-3174-4664-f5d3-bc7eee5e45dc"
      },
      "execution_count": 20,
      "outputs": [
        {
          "output_type": "stream",
          "name": "stdout",
          "text": [
            "Epoch 1/50\n",
            "103/103 [==============================] - 6s 43ms/step - loss: 6.5577e-04 - val_loss: 3.1244e-04\n",
            "Epoch 2/50\n",
            "103/103 [==============================] - 4s 40ms/step - loss: 2.4161e-05 - val_loss: 2.4593e-04\n",
            "Epoch 3/50\n",
            "103/103 [==============================] - 4s 40ms/step - loss: 2.4092e-05 - val_loss: 2.3857e-04\n",
            "Epoch 4/50\n",
            "103/103 [==============================] - 4s 41ms/step - loss: 2.4398e-05 - val_loss: 2.8203e-04\n",
            "Epoch 5/50\n",
            "103/103 [==============================] - 4s 41ms/step - loss: 2.4849e-05 - val_loss: 2.5851e-04\n",
            "Epoch 6/50\n",
            "103/103 [==============================] - 4s 41ms/step - loss: 2.4668e-05 - val_loss: 2.2999e-04\n",
            "Epoch 7/50\n",
            "103/103 [==============================] - 4s 40ms/step - loss: 2.5147e-05 - val_loss: 2.8971e-04\n",
            "Epoch 8/50\n",
            "103/103 [==============================] - 4s 41ms/step - loss: 2.3548e-05 - val_loss: 5.7809e-04\n",
            "Epoch 9/50\n",
            "103/103 [==============================] - 4s 40ms/step - loss: 2.8240e-05 - val_loss: 2.3901e-04\n",
            "Epoch 10/50\n",
            "103/103 [==============================] - 4s 40ms/step - loss: 2.5299e-05 - val_loss: 2.4179e-04\n",
            "Epoch 11/50\n",
            "103/103 [==============================] - 4s 41ms/step - loss: 2.2979e-05 - val_loss: 2.1728e-04\n",
            "Epoch 12/50\n",
            "103/103 [==============================] - 4s 42ms/step - loss: 2.2043e-05 - val_loss: 3.1073e-04\n",
            "Epoch 13/50\n",
            "103/103 [==============================] - 4s 42ms/step - loss: 2.0690e-05 - val_loss: 3.2754e-04\n",
            "Epoch 14/50\n",
            "103/103 [==============================] - 4s 44ms/step - loss: 1.9937e-05 - val_loss: 3.7623e-04\n",
            "Epoch 15/50\n",
            "103/103 [==============================] - 4s 41ms/step - loss: 1.9554e-05 - val_loss: 2.0227e-04\n",
            "Epoch 16/50\n",
            "103/103 [==============================] - 4s 42ms/step - loss: 1.9158e-05 - val_loss: 2.9361e-04\n",
            "Epoch 17/50\n",
            "103/103 [==============================] - 4s 41ms/step - loss: 2.2888e-05 - val_loss: 3.1479e-04\n",
            "Epoch 18/50\n",
            "103/103 [==============================] - 4s 42ms/step - loss: 1.8572e-05 - val_loss: 2.7018e-04\n",
            "Epoch 19/50\n",
            "103/103 [==============================] - 4s 43ms/step - loss: 1.8469e-05 - val_loss: 2.8748e-04\n",
            "Epoch 20/50\n",
            "103/103 [==============================] - 4s 42ms/step - loss: 2.0007e-05 - val_loss: 1.8973e-04\n",
            "Epoch 21/50\n",
            "103/103 [==============================] - 4s 42ms/step - loss: 1.7601e-05 - val_loss: 2.0417e-04\n",
            "Epoch 22/50\n",
            "103/103 [==============================] - 7s 70ms/step - loss: 2.2739e-05 - val_loss: 1.5356e-04\n",
            "Epoch 23/50\n",
            "103/103 [==============================] - 8s 80ms/step - loss: 1.7605e-05 - val_loss: 2.0760e-04\n",
            "Epoch 24/50\n",
            "103/103 [==============================] - 8s 82ms/step - loss: 1.7432e-05 - val_loss: 3.5965e-04\n",
            "Epoch 25/50\n",
            "103/103 [==============================] - 5s 53ms/step - loss: 1.5009e-05 - val_loss: 1.6171e-04\n",
            "Epoch 26/50\n",
            "103/103 [==============================] - 7s 72ms/step - loss: 1.6584e-05 - val_loss: 1.2903e-04\n",
            "Epoch 27/50\n",
            "103/103 [==============================] - 5s 48ms/step - loss: 1.4781e-05 - val_loss: 1.3907e-04\n",
            "Epoch 28/50\n",
            "103/103 [==============================] - 4s 42ms/step - loss: 1.5450e-05 - val_loss: 1.4922e-04\n",
            "Epoch 29/50\n",
            "103/103 [==============================] - 4s 41ms/step - loss: 1.4493e-05 - val_loss: 2.6001e-04\n",
            "Epoch 30/50\n",
            "103/103 [==============================] - 4s 41ms/step - loss: 1.7102e-05 - val_loss: 1.3127e-04\n",
            "Epoch 31/50\n",
            "103/103 [==============================] - 4s 42ms/step - loss: 1.6075e-05 - val_loss: 2.9603e-04\n",
            "Epoch 32/50\n",
            "103/103 [==============================] - 4s 41ms/step - loss: 1.7407e-05 - val_loss: 1.1276e-04\n",
            "Epoch 33/50\n",
            "103/103 [==============================] - 4s 41ms/step - loss: 1.4243e-05 - val_loss: 1.4099e-04\n",
            "Epoch 34/50\n",
            "103/103 [==============================] - 4s 41ms/step - loss: 1.4306e-05 - val_loss: 1.2911e-04\n",
            "Epoch 35/50\n",
            "103/103 [==============================] - 4s 42ms/step - loss: 1.4136e-05 - val_loss: 1.1490e-04\n",
            "Epoch 36/50\n",
            "103/103 [==============================] - 4s 42ms/step - loss: 1.3704e-05 - val_loss: 1.1407e-04\n",
            "Epoch 37/50\n",
            "103/103 [==============================] - 4s 43ms/step - loss: 1.3843e-05 - val_loss: 1.0819e-04\n",
            "Epoch 38/50\n",
            "103/103 [==============================] - 5s 45ms/step - loss: 1.2362e-05 - val_loss: 1.3448e-04\n",
            "Epoch 39/50\n",
            "103/103 [==============================] - 4s 42ms/step - loss: 1.4551e-05 - val_loss: 1.4759e-04\n",
            "Epoch 40/50\n",
            "103/103 [==============================] - 4s 42ms/step - loss: 1.1916e-05 - val_loss: 1.0339e-04\n",
            "Epoch 41/50\n",
            "103/103 [==============================] - 4s 42ms/step - loss: 1.2698e-05 - val_loss: 1.3341e-04\n",
            "Epoch 42/50\n",
            "103/103 [==============================] - 4s 43ms/step - loss: 1.2577e-05 - val_loss: 1.1244e-04\n",
            "Epoch 43/50\n",
            "103/103 [==============================] - 4s 42ms/step - loss: 1.1187e-05 - val_loss: 1.0555e-04\n",
            "Epoch 44/50\n",
            "103/103 [==============================] - 4s 43ms/step - loss: 1.2476e-05 - val_loss: 1.4569e-04\n",
            "Epoch 45/50\n",
            "103/103 [==============================] - 5s 48ms/step - loss: 1.2715e-05 - val_loss: 9.3121e-05\n",
            "Epoch 46/50\n",
            "103/103 [==============================] - 4s 41ms/step - loss: 1.2063e-05 - val_loss: 1.3582e-04\n",
            "Epoch 47/50\n",
            "103/103 [==============================] - 4s 41ms/step - loss: 1.1864e-05 - val_loss: 1.2262e-04\n",
            "Epoch 48/50\n",
            "103/103 [==============================] - 4s 42ms/step - loss: 1.1381e-05 - val_loss: 1.6267e-04\n",
            "Epoch 49/50\n",
            "103/103 [==============================] - 4s 42ms/step - loss: 1.1539e-05 - val_loss: 1.5889e-04\n",
            "Epoch 50/50\n",
            "103/103 [==============================] - 4s 43ms/step - loss: 1.0392e-05 - val_loss: 1.2032e-04\n"
          ]
        },
        {
          "output_type": "execute_result",
          "data": {
            "text/plain": [
              "<keras.callbacks.History at 0x7f372c33cd50>"
            ]
          },
          "metadata": {},
          "execution_count": 20
        }
      ]
    },
    {
      "cell_type": "code",
      "source": [
        "trainPredict3 = model3.predict(trainX)\n",
        "testPredict3 = model3.predict(testX)\n",
        "trainPredict3 = scaler.inverse_transform(trainPredict3)\n",
        "testPredict3 = scaler.inverse_transform(testPredict3)\n",
        "trainY3 = scaler.inverse_transform(trainY.reshape(-1, 1))\n",
        "testY3 = scaler.inverse_transform(testY.reshape(-1, 1))"
      ],
      "metadata": {
        "id": "uHnWQhesNsnS"
      },
      "execution_count": 21,
      "outputs": []
    },
    {
      "cell_type": "code",
      "source": [
        "mape3 = np.mean(np.abs((testY3 - testPredict3)/testY3))*100\n",
        "mape3"
      ],
      "metadata": {
        "id": "Nfnre6bLN2tC",
        "colab": {
          "base_uri": "https://localhost:8080/"
        },
        "outputId": "93b355f3-2af1-4aec-874b-a45f13ec82ce"
      },
      "execution_count": 22,
      "outputs": [
        {
          "output_type": "execute_result",
          "data": {
            "text/plain": [
              "1.4478519081870085"
            ]
          },
          "metadata": {},
          "execution_count": 22
        }
      ]
    },
    {
      "cell_type": "code",
      "source": [
        "days = [i for i in range(0, len(testY3))]\n",
        "plt.plot(days, testY3, color='r', label='Y')\n",
        "plt.plot(days, testPredict3, color='g', label='Ypredict')\n",
        "plt.xlabel(\"Days\")\n",
        "plt.ylabel(\"Price\")\n",
        "plt.title(\"Stock Price\")\n",
        "plt.legend()\n",
        "plt.show()"
      ],
      "metadata": {
        "id": "VX_e3csZOFSq",
        "colab": {
          "base_uri": "https://localhost:8080/",
          "height": 295
        },
        "outputId": "46b5cce3-1b55-4523-d4de-05bfd4950320"
      },
      "execution_count": 23,
      "outputs": [
        {
          "output_type": "display_data",
          "data": {
            "text/plain": [
              "<Figure size 432x288 with 1 Axes>"
            ],
            "image/png": "[encoded data removed]"
          },
          "metadata": {
            "needs_background": "light"
          }
        }
      ]
    },
    {
      "cell_type": "markdown",
      "source": [
        "Bidirectional LSTM"
      ],
      "metadata": {
        "id": "5SBjSIw1PC9l"
      }
    },
    {
      "cell_type": "code",
      "source": [
        "model4 = Sequential()\n",
        "model4.add(InputLayer((trainX.shape[1], trainX.shape[2])))\n",
        "model4.add(Bidirectional(LSTM(200)))\n",
        "model4.add(Dense(trainY.shape[1]))\n",
        "model4.compile(optimizer='adam', loss='mse')\n",
        "model4.summary()"
      ],
      "metadata": {
        "id": "rP8L8zroOwxu",
        "colab": {
          "base_uri": "https://localhost:8080/"
        },
        "outputId": "4c62412f-36e6-4fc0-d186-69e683cb2236"
      },
      "execution_count": 24,
      "outputs": [
        {
          "output_type": "stream",
          "name": "stdout",
          "text": [
            "Model: \"sequential_3\"\n",
            "_________________________________________________________________\n",
            " Layer (type)                Output Shape              Param #   \n",
            "=================================================================\n",
            " bidirectional (Bidirectiona  (None, 400)              323200    \n",
            " l)                                                              \n",
            "                                                                 \n",
            " dense_3 (Dense)             (None, 1)                 401       \n",
            "                                                                 \n",
            "=================================================================\n",
            "Total params: 323,601\n",
            "Trainable params: 323,601\n",
            "Non-trainable params: 0\n",
            "_________________________________________________________________\n"
          ]
        }
      ]
    },
    {
      "cell_type": "code",
      "source": [
        "model4.fit(trainX, trainY, validation_data = (testX, testY), epochs = 50)"
      ],
      "metadata": {
        "id": "y9CmgE-WPZ1X",
        "colab": {
          "base_uri": "https://localhost:8080/"
        },
        "outputId": "c3a57ab5-1c10-425e-b802-2a82da820581"
      },
      "execution_count": 25,
      "outputs": [
        {
          "output_type": "stream",
          "name": "stdout",
          "text": [
            "Epoch 1/50\n",
            "103/103 [==============================] - 12s 74ms/step - loss: 5.6397e-04 - val_loss: 3.6677e-04\n",
            "Epoch 2/50\n",
            "103/103 [==============================] - 7s 66ms/step - loss: 3.0752e-05 - val_loss: 3.2853e-04\n",
            "Epoch 3/50\n",
            "103/103 [==============================] - 7s 68ms/step - loss: 3.0424e-05 - val_loss: 3.4645e-04\n",
            "Epoch 4/50\n",
            "103/103 [==============================] - 7s 68ms/step - loss: 2.9719e-05 - val_loss: 4.9394e-04\n",
            "Epoch 5/50\n",
            "103/103 [==============================] - 7s 68ms/step - loss: 2.8145e-05 - val_loss: 5.4401e-04\n",
            "Epoch 6/50\n",
            "103/103 [==============================] - 7s 66ms/step - loss: 3.3537e-05 - val_loss: 3.8452e-04\n",
            "Epoch 7/50\n",
            "103/103 [==============================] - 7s 64ms/step - loss: 2.8772e-05 - val_loss: 4.3060e-04\n",
            "Epoch 8/50\n",
            "103/103 [==============================] - 7s 66ms/step - loss: 2.6392e-05 - val_loss: 3.2604e-04\n",
            "Epoch 9/50\n",
            "103/103 [==============================] - 7s 68ms/step - loss: 2.6731e-05 - val_loss: 5.0464e-04\n",
            "Epoch 10/50\n",
            "103/103 [==============================] - 7s 68ms/step - loss: 2.6268e-05 - val_loss: 2.8444e-04\n",
            "Epoch 11/50\n",
            "103/103 [==============================] - 7s 67ms/step - loss: 2.3152e-05 - val_loss: 6.4830e-04\n",
            "Epoch 12/50\n",
            "103/103 [==============================] - 7s 69ms/step - loss: 2.3937e-05 - val_loss: 2.2113e-04\n",
            "Epoch 13/50\n",
            "103/103 [==============================] - 7s 69ms/step - loss: 2.4728e-05 - val_loss: 2.0985e-04\n",
            "Epoch 14/50\n",
            "103/103 [==============================] - 7s 68ms/step - loss: 2.1244e-05 - val_loss: 3.8714e-04\n",
            "Epoch 15/50\n",
            "103/103 [==============================] - 7s 69ms/step - loss: 2.2089e-05 - val_loss: 3.4701e-04\n",
            "Epoch 16/50\n",
            "103/103 [==============================] - 7s 68ms/step - loss: 1.9760e-05 - val_loss: 1.8620e-04\n",
            "Epoch 17/50\n",
            "103/103 [==============================] - 7s 67ms/step - loss: 1.8057e-05 - val_loss: 2.0949e-04\n",
            "Epoch 18/50\n",
            "103/103 [==============================] - 7s 68ms/step - loss: 1.7476e-05 - val_loss: 2.0788e-04\n",
            "Epoch 19/50\n",
            "103/103 [==============================] - 7s 68ms/step - loss: 1.7650e-05 - val_loss: 1.6034e-04\n",
            "Epoch 20/50\n",
            "103/103 [==============================] - 7s 69ms/step - loss: 2.2549e-05 - val_loss: 5.9692e-04\n",
            "Epoch 21/50\n",
            "103/103 [==============================] - 7s 68ms/step - loss: 1.7173e-05 - val_loss: 3.7761e-04\n",
            "Epoch 22/50\n",
            "103/103 [==============================] - 7s 72ms/step - loss: 1.6506e-05 - val_loss: 2.5670e-04\n",
            "Epoch 23/50\n",
            "103/103 [==============================] - 7s 71ms/step - loss: 1.9465e-05 - val_loss: 1.5679e-04\n",
            "Epoch 24/50\n",
            "103/103 [==============================] - 7s 69ms/step - loss: 1.8223e-05 - val_loss: 4.2586e-04\n",
            "Epoch 25/50\n",
            "103/103 [==============================] - 7s 68ms/step - loss: 1.6103e-05 - val_loss: 1.8031e-04\n",
            "Epoch 26/50\n",
            "103/103 [==============================] - 7s 68ms/step - loss: 2.1670e-05 - val_loss: 4.7399e-04\n",
            "Epoch 27/50\n",
            "103/103 [==============================] - 7s 70ms/step - loss: 2.2036e-05 - val_loss: 2.3334e-04\n",
            "Epoch 28/50\n",
            "103/103 [==============================] - 7s 69ms/step - loss: 1.5854e-05 - val_loss: 1.4030e-04\n",
            "Epoch 29/50\n",
            "103/103 [==============================] - 7s 70ms/step - loss: 1.6597e-05 - val_loss: 2.6072e-04\n",
            "Epoch 30/50\n",
            "103/103 [==============================] - 7s 69ms/step - loss: 1.5656e-05 - val_loss: 1.2415e-04\n",
            "Epoch 31/50\n",
            "103/103 [==============================] - 7s 69ms/step - loss: 1.6963e-05 - val_loss: 5.0727e-04\n",
            "Epoch 32/50\n",
            "103/103 [==============================] - 7s 71ms/step - loss: 1.5870e-05 - val_loss: 1.6663e-04\n",
            "Epoch 33/50\n",
            "103/103 [==============================] - 7s 70ms/step - loss: 1.5177e-05 - val_loss: 2.0154e-04\n",
            "Epoch 34/50\n",
            "103/103 [==============================] - 7s 69ms/step - loss: 1.5101e-05 - val_loss: 1.2104e-04\n",
            "Epoch 35/50\n",
            "103/103 [==============================] - 7s 67ms/step - loss: 1.9401e-05 - val_loss: 2.9756e-04\n",
            "Epoch 36/50\n",
            "103/103 [==============================] - 7s 67ms/step - loss: 1.4134e-05 - val_loss: 1.6367e-04\n",
            "Epoch 37/50\n",
            "103/103 [==============================] - 7s 66ms/step - loss: 1.5473e-05 - val_loss: 1.3319e-04\n",
            "Epoch 38/50\n",
            "103/103 [==============================] - 7s 69ms/step - loss: 1.2868e-05 - val_loss: 2.1444e-04\n",
            "Epoch 39/50\n",
            "103/103 [==============================] - 7s 70ms/step - loss: 1.3555e-05 - val_loss: 3.4266e-04\n",
            "Epoch 40/50\n",
            "103/103 [==============================] - 7s 69ms/step - loss: 1.4027e-05 - val_loss: 1.1318e-04\n",
            "Epoch 41/50\n",
            "103/103 [==============================] - 7s 69ms/step - loss: 1.5020e-05 - val_loss: 1.1323e-04\n",
            "Epoch 42/50\n",
            "103/103 [==============================] - 7s 68ms/step - loss: 1.5433e-05 - val_loss: 1.2350e-04\n",
            "Epoch 43/50\n",
            "103/103 [==============================] - 7s 68ms/step - loss: 1.5929e-05 - val_loss: 1.2599e-04\n",
            "Epoch 44/50\n",
            "103/103 [==============================] - 7s 68ms/step - loss: 1.3181e-05 - val_loss: 1.2425e-04\n",
            "Epoch 45/50\n",
            "103/103 [==============================] - 7s 69ms/step - loss: 1.4250e-05 - val_loss: 1.5202e-04\n",
            "Epoch 46/50\n",
            "103/103 [==============================] - 7s 71ms/step - loss: 1.2277e-05 - val_loss: 1.1741e-04\n",
            "Epoch 47/50\n",
            "103/103 [==============================] - 7s 69ms/step - loss: 1.2254e-05 - val_loss: 1.0523e-04\n",
            "Epoch 48/50\n",
            "103/103 [==============================] - 7s 67ms/step - loss: 1.3347e-05 - val_loss: 1.3097e-04\n",
            "Epoch 49/50\n",
            "103/103 [==============================] - 7s 70ms/step - loss: 1.0927e-05 - val_loss: 9.7522e-05\n",
            "Epoch 50/50\n",
            "103/103 [==============================] - 7s 69ms/step - loss: 1.1768e-05 - val_loss: 1.3265e-04\n"
          ]
        },
        {
          "output_type": "execute_result",
          "data": {
            "text/plain": [
              "<keras.callbacks.History at 0x7f372c91db10>"
            ]
          },
          "metadata": {},
          "execution_count": 25
        }
      ]
    },
    {
      "cell_type": "code",
      "source": [
        "trainPredict4 = model4.predict(trainX)\n",
        "testPredict4 = model4.predict(testX)\n",
        "trainPredict4 = scaler.inverse_transform(trainPredict4)\n",
        "testPredict4 = scaler.inverse_transform(testPredict4)\n",
        "trainY4 = scaler.inverse_transform(trainY.reshape(-1, 1))\n",
        "testY4 = scaler.inverse_transform(testY.reshape(-1, 1))"
      ],
      "metadata": {
        "id": "hDN0cdu-QXIH"
      },
      "execution_count": 26,
      "outputs": []
    },
    {
      "cell_type": "code",
      "source": [
        "mape4 = np.mean(np.abs((testY4 - testPredict4)/testY4))*100\n",
        "mape4"
      ],
      "metadata": {
        "id": "gno_sGzuQojr",
        "colab": {
          "base_uri": "https://localhost:8080/"
        },
        "outputId": "39072058-6580-4319-c28f-9610b379f20f"
      },
      "execution_count": 27,
      "outputs": [
        {
          "output_type": "execute_result",
          "data": {
            "text/plain": [
              "1.5326246161944388"
            ]
          },
          "metadata": {},
          "execution_count": 27
        }
      ]
    },
    {
      "cell_type": "code",
      "source": [
        "days = [i for i in range(0, len(testY4))]\n",
        "plt.plot(days, testY4, color='r', label='Y')\n",
        "plt.plot(days, testPredict4, color='g', label='Ypredict')\n",
        "plt.xlabel(\"Days\")\n",
        "plt.ylabel(\"Price\")\n",
        "plt.title(\"Stock Price\")\n",
        "plt.legend()\n",
        "plt.show()"
      ],
      "metadata": {
        "id": "4a-IVNMQQtqQ",
        "colab": {
          "base_uri": "https://localhost:8080/",
          "height": 295
        },
        "outputId": "0b2a703f-8cb1-4dd6-eed0-459ba277439a"
      },
      "execution_count": 28,
      "outputs": [
        {
          "output_type": "display_data",
          "data": {
            "text/plain": [
              "<Figure size 432x288 with 1 Axes>"
            ],
            "image/png": "[encoded data removed]"
          },
          "metadata": {
            "needs_background": "light"
          }
        }
      ]
    },
    {
      "cell_type": "markdown",
      "source": [
        "GRU(Gated Recurrent Unit)"
      ],
      "metadata": {
        "id": "vGRjqqezRIGZ"
      }
    },
    {
      "cell_type": "code",
      "source": [
        "model5 = Sequential()\n",
        "model5.add(InputLayer((trainX.shape[1], trainX.shape[2])))\n",
        "model5.add(GRU(200))\n",
        "model5.add(Dense(trainY.shape[1]))\n",
        "model5.compile(optimizer='adam', loss='mse')\n",
        "model5.summary()"
      ],
      "metadata": {
        "id": "F-Xn1YJzRHBc",
        "colab": {
          "base_uri": "https://localhost:8080/"
        },
        "outputId": "3fd37da1-fb05-4d92-934d-64122cdca203"
      },
      "execution_count": 29,
      "outputs": [
        {
          "output_type": "stream",
          "name": "stdout",
          "text": [
            "Model: \"sequential_4\"\n",
            "_________________________________________________________________\n",
            " Layer (type)                Output Shape              Param #   \n",
            "=================================================================\n",
            " gru (GRU)                   (None, 200)               121800    \n",
            "                                                                 \n",
            " dense_4 (Dense)             (None, 1)                 201       \n",
            "                                                                 \n",
            "=================================================================\n",
            "Total params: 122,001\n",
            "Trainable params: 122,001\n",
            "Non-trainable params: 0\n",
            "_________________________________________________________________\n"
          ]
        }
      ]
    },
    {
      "cell_type": "code",
      "source": [
        "model5.fit(trainX, trainY, validation_data = (testX, testY), epochs = 50)"
      ],
      "metadata": {
        "id": "bR9U9BJiRATb",
        "colab": {
          "base_uri": "https://localhost:8080/"
        },
        "outputId": "096e0a3e-f01b-468e-b2e8-570507440e3e"
      },
      "execution_count": 30,
      "outputs": [
        {
          "output_type": "stream",
          "name": "stdout",
          "text": [
            "Epoch 1/50\n",
            "103/103 [==============================] - 6s 38ms/step - loss: 7.5373e-04 - val_loss: 1.4735e-04\n",
            "Epoch 2/50\n",
            "103/103 [==============================] - 3s 33ms/step - loss: 1.6563e-05 - val_loss: 1.4576e-04\n",
            "Epoch 3/50\n",
            "103/103 [==============================] - 3s 33ms/step - loss: 1.6332e-05 - val_loss: 1.4011e-04\n",
            "Epoch 4/50\n",
            "103/103 [==============================] - 3s 33ms/step - loss: 1.5792e-05 - val_loss: 1.4214e-04\n",
            "Epoch 5/50\n",
            "103/103 [==============================] - 3s 33ms/step - loss: 1.7222e-05 - val_loss: 1.3628e-04\n",
            "Epoch 6/50\n",
            "103/103 [==============================] - 3s 34ms/step - loss: 1.6036e-05 - val_loss: 1.9632e-04\n",
            "Epoch 7/50\n",
            "103/103 [==============================] - 3s 34ms/step - loss: 1.7279e-05 - val_loss: 1.4144e-04\n",
            "Epoch 8/50\n",
            "103/103 [==============================] - 3s 33ms/step - loss: 1.5076e-05 - val_loss: 2.3238e-04\n",
            "Epoch 9/50\n",
            "103/103 [==============================] - 4s 34ms/step - loss: 1.5780e-05 - val_loss: 1.2181e-04\n",
            "Epoch 10/50\n",
            "103/103 [==============================] - 3s 33ms/step - loss: 1.4659e-05 - val_loss: 1.3673e-04\n",
            "Epoch 11/50\n",
            "103/103 [==============================] - 3s 33ms/step - loss: 1.3744e-05 - val_loss: 1.1512e-04\n",
            "Epoch 12/50\n",
            "103/103 [==============================] - 3s 33ms/step - loss: 1.6697e-05 - val_loss: 1.7650e-04\n",
            "Epoch 13/50\n",
            "103/103 [==============================] - 3s 34ms/step - loss: 1.5518e-05 - val_loss: 1.5175e-04\n",
            "Epoch 14/50\n",
            "103/103 [==============================] - 3s 34ms/step - loss: 1.3333e-05 - val_loss: 1.0568e-04\n",
            "Epoch 15/50\n",
            "103/103 [==============================] - 3s 33ms/step - loss: 1.2797e-05 - val_loss: 1.5710e-04\n",
            "Epoch 16/50\n",
            "103/103 [==============================] - 3s 33ms/step - loss: 1.4713e-05 - val_loss: 1.0839e-04\n",
            "Epoch 17/50\n",
            "103/103 [==============================] - 3s 33ms/step - loss: 1.3123e-05 - val_loss: 1.0565e-04\n",
            "Epoch 18/50\n",
            "103/103 [==============================] - 3s 33ms/step - loss: 1.3829e-05 - val_loss: 1.3578e-04\n",
            "Epoch 19/50\n",
            "103/103 [==============================] - 3s 33ms/step - loss: 1.2511e-05 - val_loss: 1.4786e-04\n",
            "Epoch 20/50\n",
            "103/103 [==============================] - 3s 33ms/step - loss: 1.2268e-05 - val_loss: 9.9528e-05\n",
            "Epoch 21/50\n",
            "103/103 [==============================] - 3s 34ms/step - loss: 1.2606e-05 - val_loss: 9.3838e-05\n",
            "Epoch 22/50\n",
            "103/103 [==============================] - 3s 34ms/step - loss: 1.1565e-05 - val_loss: 1.0086e-04\n",
            "Epoch 23/50\n",
            "103/103 [==============================] - 4s 34ms/step - loss: 1.1329e-05 - val_loss: 1.1025e-04\n",
            "Epoch 24/50\n",
            "103/103 [==============================] - 3s 34ms/step - loss: 1.3137e-05 - val_loss: 9.1239e-05\n",
            "Epoch 25/50\n",
            "103/103 [==============================] - 3s 34ms/step - loss: 1.0622e-05 - val_loss: 1.7582e-04\n",
            "Epoch 26/50\n",
            "103/103 [==============================] - 4s 36ms/step - loss: 1.1058e-05 - val_loss: 1.8240e-04\n",
            "Epoch 27/50\n",
            "103/103 [==============================] - 4s 35ms/step - loss: 1.1960e-05 - val_loss: 1.0773e-04\n",
            "Epoch 28/50\n",
            "103/103 [==============================] - 4s 35ms/step - loss: 1.2864e-05 - val_loss: 9.8402e-05\n",
            "Epoch 29/50\n",
            "103/103 [==============================] - 4s 34ms/step - loss: 1.2720e-05 - val_loss: 1.1096e-04\n",
            "Epoch 30/50\n",
            "103/103 [==============================] - 4s 35ms/step - loss: 1.1037e-05 - val_loss: 8.4195e-05\n",
            "Epoch 31/50\n",
            "103/103 [==============================] - 4s 35ms/step - loss: 1.0908e-05 - val_loss: 8.2995e-05\n",
            "Epoch 32/50\n",
            "103/103 [==============================] - 4s 35ms/step - loss: 1.2148e-05 - val_loss: 1.0266e-04\n",
            "Epoch 33/50\n",
            "103/103 [==============================] - 4s 35ms/step - loss: 1.3921e-05 - val_loss: 8.7729e-05\n",
            "Epoch 34/50\n",
            "103/103 [==============================] - 4s 35ms/step - loss: 1.0423e-05 - val_loss: 7.9542e-05\n",
            "Epoch 35/50\n",
            "103/103 [==============================] - 4s 34ms/step - loss: 1.0985e-05 - val_loss: 8.4048e-05\n",
            "Epoch 36/50\n",
            "103/103 [==============================] - 3s 34ms/step - loss: 9.6115e-06 - val_loss: 7.9699e-05\n",
            "Epoch 37/50\n",
            "103/103 [==============================] - 4s 34ms/step - loss: 1.1526e-05 - val_loss: 8.5043e-05\n",
            "Epoch 38/50\n",
            "103/103 [==============================] - 4s 34ms/step - loss: 1.1243e-05 - val_loss: 8.2478e-05\n",
            "Epoch 39/50\n",
            "103/103 [==============================] - 3s 34ms/step - loss: 9.9610e-06 - val_loss: 7.9929e-05\n",
            "Epoch 40/50\n",
            "103/103 [==============================] - 4s 35ms/step - loss: 9.1086e-06 - val_loss: 7.6698e-05\n",
            "Epoch 41/50\n",
            "103/103 [==============================] - 4s 34ms/step - loss: 1.0132e-05 - val_loss: 9.4436e-05\n",
            "Epoch 42/50\n",
            "103/103 [==============================] - 3s 33ms/step - loss: 9.5630e-06 - val_loss: 1.4569e-04\n",
            "Epoch 43/50\n",
            "103/103 [==============================] - 4s 35ms/step - loss: 1.0098e-05 - val_loss: 7.6209e-05\n",
            "Epoch 44/50\n",
            "103/103 [==============================] - 4s 35ms/step - loss: 9.5016e-06 - val_loss: 8.0560e-05\n",
            "Epoch 45/50\n",
            "103/103 [==============================] - 3s 33ms/step - loss: 1.1082e-05 - val_loss: 1.2160e-04\n",
            "Epoch 46/50\n",
            "103/103 [==============================] - 4s 34ms/step - loss: 1.2630e-05 - val_loss: 7.7589e-05\n",
            "Epoch 47/50\n",
            "103/103 [==============================] - 4s 34ms/step - loss: 9.1848e-06 - val_loss: 8.5918e-05\n",
            "Epoch 48/50\n",
            "103/103 [==============================] - 4s 35ms/step - loss: 1.1995e-05 - val_loss: 8.5102e-05\n",
            "Epoch 49/50\n",
            "103/103 [==============================] - 4s 35ms/step - loss: 9.2695e-06 - val_loss: 7.8816e-05\n",
            "Epoch 50/50\n",
            "103/103 [==============================] - 4s 35ms/step - loss: 9.5643e-06 - val_loss: 7.4220e-05\n"
          ]
        },
        {
          "output_type": "execute_result",
          "data": {
            "text/plain": [
              "<keras.callbacks.History at 0x7f3728262410>"
            ]
          },
          "metadata": {},
          "execution_count": 30
        }
      ]
    },
    {
      "cell_type": "code",
      "source": [
        "trainPredict5 = model5.predict(trainX)\n",
        "testPredict5 = model5.predict(testX)\n",
        "trainPredict5 = scaler.inverse_transform(trainPredict5)\n",
        "testPredict5 = scaler.inverse_transform(testPredict5)\n",
        "trainY5 = scaler.inverse_transform(trainY.reshape(-1, 1))\n",
        "testY5 = scaler.inverse_transform(testY.reshape(-1, 1))"
      ],
      "metadata": {
        "id": "n-yfAzmrRnrN"
      },
      "execution_count": 31,
      "outputs": []
    },
    {
      "cell_type": "code",
      "source": [
        "mape5 = np.mean(np.abs((testY5 - testPredict5)/testY5))*100\n",
        "mape5"
      ],
      "metadata": {
        "id": "kuyy4_n8Rz3v",
        "colab": {
          "base_uri": "https://localhost:8080/"
        },
        "outputId": "e4c99ff0-2867-404e-bfca-b938f3bd33a6"
      },
      "execution_count": 32,
      "outputs": [
        {
          "output_type": "execute_result",
          "data": {
            "text/plain": [
              "1.1514348391351656"
            ]
          },
          "metadata": {},
          "execution_count": 32
        }
      ]
    },
    {
      "cell_type": "code",
      "source": [
        "days = [i for i in range(0, len(testY5))]\n",
        "plt.plot(days, testY5, color='r', label='Y')\n",
        "plt.plot(days, testPredict5, color='g', label='Ypredict')\n",
        "plt.xlabel(\"Days\")\n",
        "plt.ylabel(\"Price\")\n",
        "plt.title(\"Stock Price\")\n",
        "plt.legend()\n",
        "plt.show()"
      ],
      "metadata": {
        "id": "3x_57tyQR_SL",
        "colab": {
          "base_uri": "https://localhost:8080/",
          "height": 295
        },
        "outputId": "2be935fd-805b-4e9f-9507-4291fe98d34a"
      },
      "execution_count": 33,
      "outputs": [
        {
          "output_type": "display_data",
          "data": {
            "text/plain": [
              "<Figure size 432x288 with 1 Axes>"
            ],
            "image/png": "[encoded data removed]"
          },
          "metadata": {
            "needs_background": "light"
          }
        }
      ]
    }
  ]
}