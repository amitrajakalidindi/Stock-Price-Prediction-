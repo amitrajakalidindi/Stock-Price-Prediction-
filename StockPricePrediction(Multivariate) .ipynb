{
  "nbformat": 4,
  "nbformat_minor": 0,
  "metadata": {
    "colab": {
      "name": "StockPricePrediction(multivariate).ipynb",
      "provenance": [],
      "collapsed_sections": []
    },
    "kernelspec": {
      "name": "python3",
      "display_name": "Python 3"
    },
    "language_info": {
      "name": "python"
    }
  },
  "cells": [
    {
      "cell_type": "markdown",
      "source": [
        "Stock price prediction using multivariate data(Open, High, Low, Close, Volume)"
      ],
      "metadata": {
        "id": "MNG-nK7pcR-7"
      }
    },
    {
      "cell_type": "code",
      "source": [
        "!pip install tensorflow_addons"
      ],
      "metadata": {
        "colab": {
          "base_uri": "https://localhost:8080/"
        },
        "id": "TkQkA9QfFL2S",
        "outputId": "44787f3d-8574-4cba-d3af-507ad826a4c6"
      },
      "execution_count": null,
      "outputs": [
        {
          "output_type": "stream",
          "name": "stdout",
          "text": [
            "Collecting tensorflow_addons\n",
            "  Downloading tensorflow_addons-0.16.1-cp37-cp37m-manylinux_2_12_x86_64.manylinux2010_x86_64.whl (1.1 MB)\n",
            "\u001b[K     |████████████████████████████████| 1.1 MB 5.6 MB/s \n",
            "\u001b[?25hRequirement already satisfied: typeguard>=2.7 in /usr/local/lib/python3.7/dist-packages (from tensorflow_addons) (2.7.1)\n",
            "Installing collected packages: tensorflow-addons\n",
            "Successfully installed tensorflow-addons-0.16.1\n"
          ]
        }
      ]
    },
    {
      "cell_type": "code",
      "execution_count": null,
      "metadata": {
        "id": "AlGegvYifLdD"
      },
      "outputs": [],
      "source": [
        "import pandas as pd\n",
        "import numpy as np\n",
        "import math\n",
        "import matplotlib.pyplot as plt\n",
        "import tensorflow_addons as tfa\n",
        "from sklearn.preprocessing import MinMaxScaler\n",
        "from sklearn.metrics import mean_squared_error\n",
        "from sklearn.metrics import mean_absolute_error\n",
        "from tensorflow.keras.models import Sequential\n",
        "from tensorflow.keras.layers import *"
      ]
    },
    {
      "cell_type": "code",
      "source": [
        "df = pd.read_csv('TCS.csv')\n",
        "df.head()"
      ],
      "metadata": {
        "colab": {
          "base_uri": "https://localhost:8080/",
          "height": 206
        },
        "id": "-mUM_cSThsZN",
        "outputId": "0f9d9f97-d063-48ff-80b8-29871a330d0e"
      },
      "execution_count": null,
      "outputs": [
        {
          "output_type": "execute_result",
          "data": {
            "text/plain": [
              "         Date       Open       High        Low      Close  Adj Close  \\\n",
              "0  2003-01-01  59.987499  61.974998  59.987499  61.087502  45.255402   \n",
              "1  2003-01-02  61.525002  62.924999  57.912498  58.299999  43.190327   \n",
              "2  2003-01-03  60.000000  61.049999  58.500000  59.012501  43.718178   \n",
              "3  2003-01-06  59.924999  60.187500  56.875000  57.262501  42.421741   \n",
              "4  2003-01-07  58.000000  58.500000  56.062500  56.599998  41.930927   \n",
              "\n",
              "      Volume  \n",
              "0  6027072.0  \n",
              "1  5325328.0  \n",
              "2  4198040.0  \n",
              "3  4121520.0  \n",
              "4  2650800.0  "
            ],
            "text/html": [
              "\n",
              "  <div id=\"df-a985e79d-4e5c-43d5-a141-e002b10c4fe1\">\n",
              "    <div class=\"colab-df-container\">\n",
              "      <div>\n",
              "<style scoped>\n",
              "    .dataframe tbody tr th:only-of-type {\n",
              "        vertical-align: middle;\n",
              "    }\n",
              "\n",
              "    .dataframe tbody tr th {\n",
              "        vertical-align: top;\n",
              "    }\n",
              "\n",
              "    .dataframe thead th {\n",
              "        text-align: right;\n",
              "    }\n",
              "</style>\n",
              "<table border=\"1\" class=\"dataframe\">\n",
              "  <thead>\n",
              "    <tr style=\"text-align: right;\">\n",
              "      <th></th>\n",
              "      <th>Date</th>\n",
              "      <th>Open</th>\n",
              "      <th>High</th>\n",
              "      <th>Low</th>\n",
              "      <th>Close</th>\n",
              "      <th>Adj Close</th>\n",
              "      <th>Volume</th>\n",
              "    </tr>\n",
              "  </thead>\n",
              "  <tbody>\n",
              "    <tr>\n",
              "      <th>0</th>\n",
              "      <td>2003-01-01</td>\n",
              "      <td>59.987499</td>\n",
              "      <td>61.974998</td>\n",
              "      <td>59.987499</td>\n",
              "      <td>61.087502</td>\n",
              "      <td>45.255402</td>\n",
              "      <td>6027072.0</td>\n",
              "    </tr>\n",
              "    <tr>\n",
              "      <th>1</th>\n",
              "      <td>2003-01-02</td>\n",
              "      <td>61.525002</td>\n",
              "      <td>62.924999</td>\n",
              "      <td>57.912498</td>\n",
              "      <td>58.299999</td>\n",
              "      <td>43.190327</td>\n",
              "      <td>5325328.0</td>\n",
              "    </tr>\n",
              "    <tr>\n",
              "      <th>2</th>\n",
              "      <td>2003-01-03</td>\n",
              "      <td>60.000000</td>\n",
              "      <td>61.049999</td>\n",
              "      <td>58.500000</td>\n",
              "      <td>59.012501</td>\n",
              "      <td>43.718178</td>\n",
              "      <td>4198040.0</td>\n",
              "    </tr>\n",
              "    <tr>\n",
              "      <th>3</th>\n",
              "      <td>2003-01-06</td>\n",
              "      <td>59.924999</td>\n",
              "      <td>60.187500</td>\n",
              "      <td>56.875000</td>\n",
              "      <td>57.262501</td>\n",
              "      <td>42.421741</td>\n",
              "      <td>4121520.0</td>\n",
              "    </tr>\n",
              "    <tr>\n",
              "      <th>4</th>\n",
              "      <td>2003-01-07</td>\n",
              "      <td>58.000000</td>\n",
              "      <td>58.500000</td>\n",
              "      <td>56.062500</td>\n",
              "      <td>56.599998</td>\n",
              "      <td>41.930927</td>\n",
              "      <td>2650800.0</td>\n",
              "    </tr>\n",
              "  </tbody>\n",
              "</table>\n",
              "</div>\n",
              "      <button class=\"colab-df-convert\" onclick=\"convertToInteractive('df-a985e79d-4e5c-43d5-a141-e002b10c4fe1')\"\n",
              "              title=\"Convert this dataframe to an interactive table.\"\n",
              "              style=\"display:none;\">\n",
              "        \n",
              "  <svg xmlns=\"http://www.w3.org/2000/svg\" height=\"24px\"viewBox=\"0 0 24 24\"\n",
              "       width=\"24px\">\n",
              "    <path d=\"M0 0h24v24H0V0z\" fill=\"none\"/>\n",
              "    <path d=\"M18.56 5.44l.94 2.06.94-2.06 2.06-.94-2.06-.94-.94-2.06-.94 2.06-2.06.94zm-11 1L8.5 8.5l.94-2.06 2.06-.94-2.06-.94L8.5 2.5l-.94 2.06-2.06.94zm10 10l.94 2.06.94-2.06 2.06-.94-2.06-.94-.94-2.06-.94 2.06-2.06.94z\"/><path d=\"M17.41 7.96l-1.37-1.37c-.4-.4-.92-.59-1.43-.59-.52 0-1.04.2-1.43.59L10.3 9.45l-7.72 7.72c-.78.78-.78 2.05 0 2.83L4 21.41c.39.39.9.59 1.41.59.51 0 1.02-.2 1.41-.59l7.78-7.78 2.81-2.81c.8-.78.8-2.07 0-2.86zM5.41 20L4 18.59l7.72-7.72 1.47 1.35L5.41 20z\"/>\n",
              "  </svg>\n",
              "      </button>\n",
              "      \n",
              "  <style>\n",
              "    .colab-df-container {\n",
              "      display:flex;\n",
              "      flex-wrap:wrap;\n",
              "      gap: 12px;\n",
              "    }\n",
              "\n",
              "    .colab-df-convert {\n",
              "      background-color: #E8F0FE;\n",
              "      border: none;\n",
              "      border-radius: 50%;\n",
              "      cursor: pointer;\n",
              "      display: none;\n",
              "      fill: #1967D2;\n",
              "      height: 32px;\n",
              "      padding: 0 0 0 0;\n",
              "      width: 32px;\n",
              "    }\n",
              "\n",
              "    .colab-df-convert:hover {\n",
              "      background-color: #E2EBFA;\n",
              "      box-shadow: 0px 1px 2px rgba(60, 64, 67, 0.3), 0px 1px 3px 1px rgba(60, 64, 67, 0.15);\n",
              "      fill: #174EA6;\n",
              "    }\n",
              "\n",
              "    [theme=dark] .colab-df-convert {\n",
              "      background-color: #3B4455;\n",
              "      fill: #D2E3FC;\n",
              "    }\n",
              "\n",
              "    [theme=dark] .colab-df-convert:hover {\n",
              "      background-color: #434B5C;\n",
              "      box-shadow: 0px 1px 3px 1px rgba(0, 0, 0, 0.15);\n",
              "      filter: drop-shadow(0px 1px 2px rgba(0, 0, 0, 0.3));\n",
              "      fill: #FFFFFF;\n",
              "    }\n",
              "  </style>\n",
              "\n",
              "      <script>\n",
              "        const buttonEl =\n",
              "          document.querySelector('#df-a985e79d-4e5c-43d5-a141-e002b10c4fe1 button.colab-df-convert');\n",
              "        buttonEl.style.display =\n",
              "          google.colab.kernel.accessAllowed ? 'block' : 'none';\n",
              "\n",
              "        async function convertToInteractive(key) {\n",
              "          const element = document.querySelector('#df-a985e79d-4e5c-43d5-a141-e002b10c4fe1');\n",
              "          const dataTable =\n",
              "            await google.colab.kernel.invokeFunction('convertToInteractive',\n",
              "                                                     [key], {});\n",
              "          if (!dataTable) return;\n",
              "\n",
              "          const docLinkHtml = 'Like what you see? Visit the ' +\n",
              "            '<a target=\"_blank\" href=https://colab.research.google.com/notebooks/data_table.ipynb>data table notebook</a>'\n",
              "            + ' to learn more about interactive tables.';\n",
              "          element.innerHTML = '';\n",
              "          dataTable['output_type'] = 'display_data';\n",
              "          await google.colab.output.renderOutput(dataTable, element);\n",
              "          const docLink = document.createElement('div');\n",
              "          docLink.innerHTML = docLinkHtml;\n",
              "          element.appendChild(docLink);\n",
              "        }\n",
              "      </script>\n",
              "    </div>\n",
              "  </div>\n",
              "  "
            ]
          },
          "metadata": {},
          "execution_count": 4
        }
      ]
    },
    {
      "cell_type": "code",
      "source": [
        "df = df[['Date', 'Open', 'High', 'Low', 'Close', 'Volume']]\n",
        "df.dropna(inplace = True)\n",
        "df.head()"
      ],
      "metadata": {
        "colab": {
          "base_uri": "https://localhost:8080/",
          "height": 313
        },
        "id": "Xvx1UV5Qh6C2",
        "outputId": "1445522e-0196-4710-b394-f8ef117717cf"
      },
      "execution_count": null,
      "outputs": [
        {
          "output_type": "stream",
          "name": "stderr",
          "text": [
            "/usr/local/lib/python3.7/dist-packages/pandas/util/_decorators.py:311: SettingWithCopyWarning: \n",
            "A value is trying to be set on a copy of a slice from a DataFrame\n",
            "\n",
            "See the caveats in the documentation: https://pandas.pydata.org/pandas-docs/stable/user_guide/indexing.html#returning-a-view-versus-a-copy\n",
            "  return func(*args, **kwargs)\n"
          ]
        },
        {
          "output_type": "execute_result",
          "data": {
            "text/plain": [
              "         Date       Open       High        Low      Close     Volume\n",
              "0  2003-01-01  59.987499  61.974998  59.987499  61.087502  6027072.0\n",
              "1  2003-01-02  61.525002  62.924999  57.912498  58.299999  5325328.0\n",
              "2  2003-01-03  60.000000  61.049999  58.500000  59.012501  4198040.0\n",
              "3  2003-01-06  59.924999  60.187500  56.875000  57.262501  4121520.0\n",
              "4  2003-01-07  58.000000  58.500000  56.062500  56.599998  2650800.0"
            ],
            "text/html": [
              "\n",
              "  <div id=\"df-c2a8404e-d49c-4a98-a976-779dcc4feebe\">\n",
              "    <div class=\"colab-df-container\">\n",
              "      <div>\n",
              "<style scoped>\n",
              "    .dataframe tbody tr th:only-of-type {\n",
              "        vertical-align: middle;\n",
              "    }\n",
              "\n",
              "    .dataframe tbody tr th {\n",
              "        vertical-align: top;\n",
              "    }\n",
              "\n",
              "    .dataframe thead th {\n",
              "        text-align: right;\n",
              "    }\n",
              "</style>\n",
              "<table border=\"1\" class=\"dataframe\">\n",
              "  <thead>\n",
              "    <tr style=\"text-align: right;\">\n",
              "      <th></th>\n",
              "      <th>Date</th>\n",
              "      <th>Open</th>\n",
              "      <th>High</th>\n",
              "      <th>Low</th>\n",
              "      <th>Close</th>\n",
              "      <th>Volume</th>\n",
              "    </tr>\n",
              "  </thead>\n",
              "  <tbody>\n",
              "    <tr>\n",
              "      <th>0</th>\n",
              "      <td>2003-01-01</td>\n",
              "      <td>59.987499</td>\n",
              "      <td>61.974998</td>\n",
              "      <td>59.987499</td>\n",
              "      <td>61.087502</td>\n",
              "      <td>6027072.0</td>\n",
              "    </tr>\n",
              "    <tr>\n",
              "      <th>1</th>\n",
              "      <td>2003-01-02</td>\n",
              "      <td>61.525002</td>\n",
              "      <td>62.924999</td>\n",
              "      <td>57.912498</td>\n",
              "      <td>58.299999</td>\n",
              "      <td>5325328.0</td>\n",
              "    </tr>\n",
              "    <tr>\n",
              "      <th>2</th>\n",
              "      <td>2003-01-03</td>\n",
              "      <td>60.000000</td>\n",
              "      <td>61.049999</td>\n",
              "      <td>58.500000</td>\n",
              "      <td>59.012501</td>\n",
              "      <td>4198040.0</td>\n",
              "    </tr>\n",
              "    <tr>\n",
              "      <th>3</th>\n",
              "      <td>2003-01-06</td>\n",
              "      <td>59.924999</td>\n",
              "      <td>60.187500</td>\n",
              "      <td>56.875000</td>\n",
              "      <td>57.262501</td>\n",
              "      <td>4121520.0</td>\n",
              "    </tr>\n",
              "    <tr>\n",
              "      <th>4</th>\n",
              "      <td>2003-01-07</td>\n",
              "      <td>58.000000</td>\n",
              "      <td>58.500000</td>\n",
              "      <td>56.062500</td>\n",
              "      <td>56.599998</td>\n",
              "      <td>2650800.0</td>\n",
              "    </tr>\n",
              "  </tbody>\n",
              "</table>\n",
              "</div>\n",
              "      <button class=\"colab-df-convert\" onclick=\"convertToInteractive('df-c2a8404e-d49c-4a98-a976-779dcc4feebe')\"\n",
              "              title=\"Convert this dataframe to an interactive table.\"\n",
              "              style=\"display:none;\">\n",
              "        \n",
              "  <svg xmlns=\"http://www.w3.org/2000/svg\" height=\"24px\"viewBox=\"0 0 24 24\"\n",
              "       width=\"24px\">\n",
              "    <path d=\"M0 0h24v24H0V0z\" fill=\"none\"/>\n",
              "    <path d=\"M18.56 5.44l.94 2.06.94-2.06 2.06-.94-2.06-.94-.94-2.06-.94 2.06-2.06.94zm-11 1L8.5 8.5l.94-2.06 2.06-.94-2.06-.94L8.5 2.5l-.94 2.06-2.06.94zm10 10l.94 2.06.94-2.06 2.06-.94-2.06-.94-.94-2.06-.94 2.06-2.06.94z\"/><path d=\"M17.41 7.96l-1.37-1.37c-.4-.4-.92-.59-1.43-.59-.52 0-1.04.2-1.43.59L10.3 9.45l-7.72 7.72c-.78.78-.78 2.05 0 2.83L4 21.41c.39.39.9.59 1.41.59.51 0 1.02-.2 1.41-.59l7.78-7.78 2.81-2.81c.8-.78.8-2.07 0-2.86zM5.41 20L4 18.59l7.72-7.72 1.47 1.35L5.41 20z\"/>\n",
              "  </svg>\n",
              "      </button>\n",
              "      \n",
              "  <style>\n",
              "    .colab-df-container {\n",
              "      display:flex;\n",
              "      flex-wrap:wrap;\n",
              "      gap: 12px;\n",
              "    }\n",
              "\n",
              "    .colab-df-convert {\n",
              "      background-color: #E8F0FE;\n",
              "      border: none;\n",
              "      border-radius: 50%;\n",
              "      cursor: pointer;\n",
              "      display: none;\n",
              "      fill: #1967D2;\n",
              "      height: 32px;\n",
              "      padding: 0 0 0 0;\n",
              "      width: 32px;\n",
              "    }\n",
              "\n",
              "    .colab-df-convert:hover {\n",
              "      background-color: #E2EBFA;\n",
              "      box-shadow: 0px 1px 2px rgba(60, 64, 67, 0.3), 0px 1px 3px 1px rgba(60, 64, 67, 0.15);\n",
              "      fill: #174EA6;\n",
              "    }\n",
              "\n",
              "    [theme=dark] .colab-df-convert {\n",
              "      background-color: #3B4455;\n",
              "      fill: #D2E3FC;\n",
              "    }\n",
              "\n",
              "    [theme=dark] .colab-df-convert:hover {\n",
              "      background-color: #434B5C;\n",
              "      box-shadow: 0px 1px 3px 1px rgba(0, 0, 0, 0.15);\n",
              "      filter: drop-shadow(0px 1px 2px rgba(0, 0, 0, 0.3));\n",
              "      fill: #FFFFFF;\n",
              "    }\n",
              "  </style>\n",
              "\n",
              "      <script>\n",
              "        const buttonEl =\n",
              "          document.querySelector('#df-c2a8404e-d49c-4a98-a976-779dcc4feebe button.colab-df-convert');\n",
              "        buttonEl.style.display =\n",
              "          google.colab.kernel.accessAllowed ? 'block' : 'none';\n",
              "\n",
              "        async function convertToInteractive(key) {\n",
              "          const element = document.querySelector('#df-c2a8404e-d49c-4a98-a976-779dcc4feebe');\n",
              "          const dataTable =\n",
              "            await google.colab.kernel.invokeFunction('convertToInteractive',\n",
              "                                                     [key], {});\n",
              "          if (!dataTable) return;\n",
              "\n",
              "          const docLinkHtml = 'Like what you see? Visit the ' +\n",
              "            '<a target=\"_blank\" href=https://colab.research.google.com/notebooks/data_table.ipynb>data table notebook</a>'\n",
              "            + ' to learn more about interactive tables.';\n",
              "          element.innerHTML = '';\n",
              "          dataTable['output_type'] = 'display_data';\n",
              "          await google.colab.output.renderOutput(dataTable, element);\n",
              "          const docLink = document.createElement('div');\n",
              "          docLink.innerHTML = docLinkHtml;\n",
              "          element.appendChild(docLink);\n",
              "        }\n",
              "      </script>\n",
              "    </div>\n",
              "  </div>\n",
              "  "
            ]
          },
          "metadata": {},
          "execution_count": 5
        }
      ]
    },
    {
      "cell_type": "code",
      "source": [
        "df.plot(x='Date', y='Close', kind='line', figsize=(10, 5))"
      ],
      "metadata": {
        "colab": {
          "base_uri": "https://localhost:8080/",
          "height": 351
        },
        "id": "eu5sOQXhi8hH",
        "outputId": "3b174ce6-ea10-4cd8-9c30-ef4521fdcba5"
      },
      "execution_count": null,
      "outputs": [
        {
          "output_type": "execute_result",
          "data": {
            "text/plain": [
              "<matplotlib.axes._subplots.AxesSubplot at 0x7f45ae0ece50>"
            ]
          },
          "metadata": {},
          "execution_count": 6
        },
        {
          "output_type": "display_data",
          "data": {
            "text/plain": [
              "<Figure size 720x360 with 1 Axes>"
            ],
            "image/png": "[encoded data removed]"
          },
          "metadata": {
            "needs_background": "light"
          }
        }
      ]
    },
    {
      "cell_type": "code",
      "source": [
        "dates = df.Date\n",
        "df.drop(['Date'], inplace = True, axis = 1)\n",
        "df.head()"
      ],
      "metadata": {
        "colab": {
          "base_uri": "https://localhost:8080/",
          "height": 206
        },
        "id": "AM-5iw8Zpv86",
        "outputId": "393af6c2-756e-4310-d824-b44b0c28f2d1"
      },
      "execution_count": null,
      "outputs": [
        {
          "output_type": "execute_result",
          "data": {
            "text/plain": [
              "        Open       High        Low      Close     Volume\n",
              "0  59.987499  61.974998  59.987499  61.087502  6027072.0\n",
              "1  61.525002  62.924999  57.912498  58.299999  5325328.0\n",
              "2  60.000000  61.049999  58.500000  59.012501  4198040.0\n",
              "3  59.924999  60.187500  56.875000  57.262501  4121520.0\n",
              "4  58.000000  58.500000  56.062500  56.599998  2650800.0"
            ],
            "text/html": [
              "\n",
              "  <div id=\"df-0d24025a-f060-40c9-b998-1f22ac1bdd66\">\n",
              "    <div class=\"colab-df-container\">\n",
              "      <div>\n",
              "<style scoped>\n",
              "    .dataframe tbody tr th:only-of-type {\n",
              "        vertical-align: middle;\n",
              "    }\n",
              "\n",
              "    .dataframe tbody tr th {\n",
              "        vertical-align: top;\n",
              "    }\n",
              "\n",
              "    .dataframe thead th {\n",
              "        text-align: right;\n",
              "    }\n",
              "</style>\n",
              "<table border=\"1\" class=\"dataframe\">\n",
              "  <thead>\n",
              "    <tr style=\"text-align: right;\">\n",
              "      <th></th>\n",
              "      <th>Open</th>\n",
              "      <th>High</th>\n",
              "      <th>Low</th>\n",
              "      <th>Close</th>\n",
              "      <th>Volume</th>\n",
              "    </tr>\n",
              "  </thead>\n",
              "  <tbody>\n",
              "    <tr>\n",
              "      <th>0</th>\n",
              "      <td>59.987499</td>\n",
              "      <td>61.974998</td>\n",
              "      <td>59.987499</td>\n",
              "      <td>61.087502</td>\n",
              "      <td>6027072.0</td>\n",
              "    </tr>\n",
              "    <tr>\n",
              "      <th>1</th>\n",
              "      <td>61.525002</td>\n",
              "      <td>62.924999</td>\n",
              "      <td>57.912498</td>\n",
              "      <td>58.299999</td>\n",
              "      <td>5325328.0</td>\n",
              "    </tr>\n",
              "    <tr>\n",
              "      <th>2</th>\n",
              "      <td>60.000000</td>\n",
              "      <td>61.049999</td>\n",
              "      <td>58.500000</td>\n",
              "      <td>59.012501</td>\n",
              "      <td>4198040.0</td>\n",
              "    </tr>\n",
              "    <tr>\n",
              "      <th>3</th>\n",
              "      <td>59.924999</td>\n",
              "      <td>60.187500</td>\n",
              "      <td>56.875000</td>\n",
              "      <td>57.262501</td>\n",
              "      <td>4121520.0</td>\n",
              "    </tr>\n",
              "    <tr>\n",
              "      <th>4</th>\n",
              "      <td>58.000000</td>\n",
              "      <td>58.500000</td>\n",
              "      <td>56.062500</td>\n",
              "      <td>56.599998</td>\n",
              "      <td>2650800.0</td>\n",
              "    </tr>\n",
              "  </tbody>\n",
              "</table>\n",
              "</div>\n",
              "      <button class=\"colab-df-convert\" onclick=\"convertToInteractive('df-0d24025a-f060-40c9-b998-1f22ac1bdd66')\"\n",
              "              title=\"Convert this dataframe to an interactive table.\"\n",
              "              style=\"display:none;\">\n",
              "        \n",
              "  <svg xmlns=\"http://www.w3.org/2000/svg\" height=\"24px\"viewBox=\"0 0 24 24\"\n",
              "       width=\"24px\">\n",
              "    <path d=\"M0 0h24v24H0V0z\" fill=\"none\"/>\n",
              "    <path d=\"M18.56 5.44l.94 2.06.94-2.06 2.06-.94-2.06-.94-.94-2.06-.94 2.06-2.06.94zm-11 1L8.5 8.5l.94-2.06 2.06-.94-2.06-.94L8.5 2.5l-.94 2.06-2.06.94zm10 10l.94 2.06.94-2.06 2.06-.94-2.06-.94-.94-2.06-.94 2.06-2.06.94z\"/><path d=\"M17.41 7.96l-1.37-1.37c-.4-.4-.92-.59-1.43-.59-.52 0-1.04.2-1.43.59L10.3 9.45l-7.72 7.72c-.78.78-.78 2.05 0 2.83L4 21.41c.39.39.9.59 1.41.59.51 0 1.02-.2 1.41-.59l7.78-7.78 2.81-2.81c.8-.78.8-2.07 0-2.86zM5.41 20L4 18.59l7.72-7.72 1.47 1.35L5.41 20z\"/>\n",
              "  </svg>\n",
              "      </button>\n",
              "      \n",
              "  <style>\n",
              "    .colab-df-container {\n",
              "      display:flex;\n",
              "      flex-wrap:wrap;\n",
              "      gap: 12px;\n",
              "    }\n",
              "\n",
              "    .colab-df-convert {\n",
              "      background-color: #E8F0FE;\n",
              "      border: none;\n",
              "      border-radius: 50%;\n",
              "      cursor: pointer;\n",
              "      display: none;\n",
              "      fill: #1967D2;\n",
              "      height: 32px;\n",
              "      padding: 0 0 0 0;\n",
              "      width: 32px;\n",
              "    }\n",
              "\n",
              "    .colab-df-convert:hover {\n",
              "      background-color: #E2EBFA;\n",
              "      box-shadow: 0px 1px 2px rgba(60, 64, 67, 0.3), 0px 1px 3px 1px rgba(60, 64, 67, 0.15);\n",
              "      fill: #174EA6;\n",
              "    }\n",
              "\n",
              "    [theme=dark] .colab-df-convert {\n",
              "      background-color: #3B4455;\n",
              "      fill: #D2E3FC;\n",
              "    }\n",
              "\n",
              "    [theme=dark] .colab-df-convert:hover {\n",
              "      background-color: #434B5C;\n",
              "      box-shadow: 0px 1px 3px 1px rgba(0, 0, 0, 0.15);\n",
              "      filter: drop-shadow(0px 1px 2px rgba(0, 0, 0, 0.3));\n",
              "      fill: #FFFFFF;\n",
              "    }\n",
              "  </style>\n",
              "\n",
              "      <script>\n",
              "        const buttonEl =\n",
              "          document.querySelector('#df-0d24025a-f060-40c9-b998-1f22ac1bdd66 button.colab-df-convert');\n",
              "        buttonEl.style.display =\n",
              "          google.colab.kernel.accessAllowed ? 'block' : 'none';\n",
              "\n",
              "        async function convertToInteractive(key) {\n",
              "          const element = document.querySelector('#df-0d24025a-f060-40c9-b998-1f22ac1bdd66');\n",
              "          const dataTable =\n",
              "            await google.colab.kernel.invokeFunction('convertToInteractive',\n",
              "                                                     [key], {});\n",
              "          if (!dataTable) return;\n",
              "\n",
              "          const docLinkHtml = 'Like what you see? Visit the ' +\n",
              "            '<a target=\"_blank\" href=https://colab.research.google.com/notebooks/data_table.ipynb>data table notebook</a>'\n",
              "            + ' to learn more about interactive tables.';\n",
              "          element.innerHTML = '';\n",
              "          dataTable['output_type'] = 'display_data';\n",
              "          await google.colab.output.renderOutput(dataTable, element);\n",
              "          const docLink = document.createElement('div');\n",
              "          docLink.innerHTML = docLinkHtml;\n",
              "          element.appendChild(docLink);\n",
              "        }\n",
              "      </script>\n",
              "    </div>\n",
              "  </div>\n",
              "  "
            ]
          },
          "metadata": {},
          "execution_count": 7
        }
      ]
    },
    {
      "cell_type": "code",
      "source": [
        "scaler = MinMaxScaler(feature_range=(0,1))\n",
        "data = scaler.fit_transform(df)"
      ],
      "metadata": {
        "id": "gQSH_F5MrCTb"
      },
      "execution_count": null,
      "outputs": []
    },
    {
      "cell_type": "code",
      "source": [
        "scaler2 = MinMaxScaler(feature_range=(0,1))\n",
        "scaler2.fit_transform(df[['Close']])"
      ],
      "metadata": {
        "colab": {
          "base_uri": "https://localhost:8080/"
        },
        "id": "uG5IpU7e68ON",
        "outputId": "d75ecb2b-5352-49ba-9959-c054c9effbf2"
      },
      "execution_count": null,
      "outputs": [
        {
          "output_type": "execute_result",
          "data": {
            "text/plain": [
              "array([[0.00579649],\n",
              "       [0.0050847 ],\n",
              "       [0.00526664],\n",
              "       ...,\n",
              "       [0.9366727 ],\n",
              "       [0.93364675],\n",
              "       [0.94361826]])"
            ]
          },
          "metadata": {},
          "execution_count": 9
        }
      ]
    },
    {
      "cell_type": "code",
      "source": [
        "data.shape"
      ],
      "metadata": {
        "colab": {
          "base_uri": "https://localhost:8080/"
        },
        "id": "xnItwygzWO5G",
        "outputId": "eda424ba-a320-4c8c-87bd-b599d26ad335"
      },
      "execution_count": null,
      "outputs": [
        {
          "output_type": "execute_result",
          "data": {
            "text/plain": [
              "(4715, 5)"
            ]
          },
          "metadata": {},
          "execution_count": 26
        }
      ]
    },
    {
      "cell_type": "code",
      "source": [
        "trainSize = int(len(data)*0.7)\n",
        "testSize = len(data) - trainSize\n",
        "train = data[0:trainSize]\n",
        "test = data[trainSize:len(data)]"
      ],
      "metadata": {
        "id": "EHf9S2S05MOp"
      },
      "execution_count": null,
      "outputs": []
    },
    {
      "cell_type": "code",
      "source": [
        "def modify(data, pastDays = 14):\n",
        "  X = []\n",
        "  Y = []\n",
        "  for i in range(pastDays, len(data)):\n",
        "      X.append(data[i - 14: i, 0: data.shape[1]])\n",
        "      Y.append(data[i : i + 1, 3])\n",
        "  return np.array(X), np.array(Y)"
      ],
      "metadata": {
        "id": "qnkLzVxh09VJ"
      },
      "execution_count": null,
      "outputs": []
    },
    {
      "cell_type": "code",
      "source": [
        "trainX, trainY = modify(train)\n",
        "testX, testY = modify(test)"
      ],
      "metadata": {
        "id": "SrCav3Wz6_s3"
      },
      "execution_count": null,
      "outputs": []
    },
    {
      "cell_type": "markdown",
      "source": [
        "RNN"
      ],
      "metadata": {
        "id": "uSlibsFOJE2d"
      }
    },
    {
      "cell_type": "code",
      "source": [
        "model1 = Sequential()\n",
        "model1.add(InputLayer((trainX.shape[1], trainX.shape[2])))\n",
        "model1.add(SimpleRNN(200))\n",
        "model1.add(Dense(trainY.shape[1]))\n",
        "model1.compile(optimizer='adam', loss='mse')\n",
        "model1.summary()"
      ],
      "metadata": {
        "colab": {
          "base_uri": "https://localhost:8080/"
        },
        "id": "Q1rg19nVI-IW",
        "outputId": "5254e715-0b7f-473e-d1b6-a1756eb1fb78"
      },
      "execution_count": null,
      "outputs": [
        {
          "output_type": "stream",
          "name": "stdout",
          "text": [
            "Model: \"sequential_20\"\n",
            "_________________________________________________________________\n",
            " Layer (type)                Output Shape              Param #   \n",
            "=================================================================\n",
            " simple_rnn_4 (SimpleRNN)    (None, 200)               41200     \n",
            "                                                                 \n",
            " dense_19 (Dense)            (None, 1)                 201       \n",
            "                                                                 \n",
            "=================================================================\n",
            "Total params: 41,401\n",
            "Trainable params: 41,401\n",
            "Non-trainable params: 0\n",
            "_________________________________________________________________\n"
          ]
        }
      ]
    },
    {
      "cell_type": "code",
      "source": [
        "model1.fit(trainX, trainY, validation_split = 0.2, epochs = 50)"
      ],
      "metadata": {
        "colab": {
          "base_uri": "https://localhost:8080/"
        },
        "id": "yzyIzyCeJMmQ",
        "outputId": "467a391e-6a80-4a19-fd28-bfca7fd91bb9"
      },
      "execution_count": null,
      "outputs": [
        {
          "output_type": "stream",
          "name": "stdout",
          "text": [
            "Epoch 1/50\n",
            "103/103 [==============================] - 3s 18ms/step - loss: 0.0081 - val_loss: 0.0102\n",
            "Epoch 2/50\n",
            "103/103 [==============================] - 1s 11ms/step - loss: 4.5019e-05 - val_loss: 0.0080\n",
            "Epoch 3/50\n",
            "103/103 [==============================] - 1s 10ms/step - loss: 3.1133e-05 - val_loss: 0.0061\n",
            "Epoch 4/50\n",
            "103/103 [==============================] - 1s 11ms/step - loss: 2.6278e-05 - val_loss: 0.0055\n",
            "Epoch 5/50\n",
            "103/103 [==============================] - 1s 12ms/step - loss: 2.5171e-05 - val_loss: 0.0039\n",
            "Epoch 6/50\n",
            "103/103 [==============================] - 1s 11ms/step - loss: 2.2268e-05 - val_loss: 0.0026\n",
            "Epoch 7/50\n",
            "103/103 [==============================] - 1s 15ms/step - loss: 2.7355e-05 - val_loss: 0.0033\n",
            "Epoch 8/50\n",
            "103/103 [==============================] - 2s 17ms/step - loss: 2.2637e-05 - val_loss: 0.0019\n",
            "Epoch 9/50\n",
            "103/103 [==============================] - 2s 18ms/step - loss: 2.1773e-05 - val_loss: 0.0022\n",
            "Epoch 10/50\n",
            "103/103 [==============================] - 2s 16ms/step - loss: 1.8881e-05 - val_loss: 0.0018\n",
            "Epoch 11/50\n",
            "103/103 [==============================] - 2s 20ms/step - loss: 2.0191e-05 - val_loss: 0.0023\n",
            "Epoch 12/50\n",
            "103/103 [==============================] - 2s 18ms/step - loss: 2.1142e-05 - val_loss: 0.0016\n",
            "Epoch 13/50\n",
            "103/103 [==============================] - 2s 20ms/step - loss: 2.3883e-05 - val_loss: 0.0014\n",
            "Epoch 14/50\n",
            "103/103 [==============================] - 2s 21ms/step - loss: 2.2909e-05 - val_loss: 0.0017\n",
            "Epoch 15/50\n",
            "103/103 [==============================] - 2s 21ms/step - loss: 1.8795e-05 - val_loss: 9.1819e-04\n",
            "Epoch 16/50\n",
            "103/103 [==============================] - 2s 19ms/step - loss: 1.7165e-05 - val_loss: 0.0011\n",
            "Epoch 17/50\n",
            "103/103 [==============================] - 2s 19ms/step - loss: 1.8240e-05 - val_loss: 0.0013\n",
            "Epoch 18/50\n",
            "103/103 [==============================] - 2s 21ms/step - loss: 2.0557e-05 - val_loss: 0.0020\n",
            "Epoch 19/50\n",
            "103/103 [==============================] - 2s 21ms/step - loss: 2.4500e-05 - val_loss: 9.8091e-04\n",
            "Epoch 20/50\n",
            "103/103 [==============================] - 2s 19ms/step - loss: 2.0636e-05 - val_loss: 7.8998e-04\n",
            "Epoch 21/50\n",
            "103/103 [==============================] - 2s 19ms/step - loss: 1.9001e-05 - val_loss: 0.0012\n",
            "Epoch 22/50\n",
            "103/103 [==============================] - 2s 16ms/step - loss: 1.8094e-05 - val_loss: 3.8979e-04\n",
            "Epoch 23/50\n",
            "103/103 [==============================] - 1s 10ms/step - loss: 1.9821e-05 - val_loss: 6.8282e-04\n",
            "Epoch 24/50\n",
            "103/103 [==============================] - 1s 10ms/step - loss: 1.7896e-05 - val_loss: 8.4451e-04\n",
            "Epoch 25/50\n",
            "103/103 [==============================] - 1s 10ms/step - loss: 1.6501e-05 - val_loss: 3.7628e-04\n",
            "Epoch 26/50\n",
            "103/103 [==============================] - 1s 10ms/step - loss: 2.1709e-05 - val_loss: 0.0012\n",
            "Epoch 27/50\n",
            "103/103 [==============================] - 1s 10ms/step - loss: 2.1033e-05 - val_loss: 4.6853e-04\n",
            "Epoch 28/50\n",
            "103/103 [==============================] - 1s 10ms/step - loss: 2.0738e-05 - val_loss: 6.6114e-04\n",
            "Epoch 29/50\n",
            "103/103 [==============================] - 1s 11ms/step - loss: 1.7771e-05 - val_loss: 4.7768e-04\n",
            "Epoch 30/50\n",
            "103/103 [==============================] - 1s 10ms/step - loss: 1.7947e-05 - val_loss: 6.4069e-04\n",
            "Epoch 31/50\n",
            "103/103 [==============================] - 1s 10ms/step - loss: 1.6261e-05 - val_loss: 4.8676e-04\n",
            "Epoch 32/50\n",
            "103/103 [==============================] - 1s 10ms/step - loss: 1.6260e-05 - val_loss: 3.5106e-04\n",
            "Epoch 33/50\n",
            "103/103 [==============================] - 1s 10ms/step - loss: 1.5345e-05 - val_loss: 8.8527e-04\n",
            "Epoch 34/50\n",
            "103/103 [==============================] - 1s 10ms/step - loss: 1.8051e-05 - val_loss: 5.0023e-04\n",
            "Epoch 35/50\n",
            "103/103 [==============================] - 1s 10ms/step - loss: 1.6151e-05 - val_loss: 7.0323e-04\n",
            "Epoch 36/50\n",
            "103/103 [==============================] - 1s 11ms/step - loss: 1.4942e-05 - val_loss: 3.3497e-04\n",
            "Epoch 37/50\n",
            "103/103 [==============================] - 1s 10ms/step - loss: 1.5579e-05 - val_loss: 2.4791e-04\n",
            "Epoch 38/50\n",
            "103/103 [==============================] - 1s 10ms/step - loss: 2.1733e-05 - val_loss: 2.7090e-04\n",
            "Epoch 39/50\n",
            "103/103 [==============================] - 1s 11ms/step - loss: 1.4453e-05 - val_loss: 4.1635e-04\n",
            "Epoch 40/50\n",
            "103/103 [==============================] - 1s 11ms/step - loss: 1.3308e-05 - val_loss: 3.0211e-04\n",
            "Epoch 41/50\n",
            "103/103 [==============================] - 1s 14ms/step - loss: 1.2461e-05 - val_loss: 4.9488e-04\n",
            "Epoch 42/50\n",
            "103/103 [==============================] - 2s 17ms/step - loss: 1.3192e-05 - val_loss: 3.2976e-04\n",
            "Epoch 43/50\n",
            "103/103 [==============================] - 2s 19ms/step - loss: 1.5231e-05 - val_loss: 4.1793e-04\n",
            "Epoch 44/50\n",
            "103/103 [==============================] - 2s 20ms/step - loss: 1.2777e-05 - val_loss: 4.5737e-04\n",
            "Epoch 45/50\n",
            "103/103 [==============================] - 2s 19ms/step - loss: 1.2213e-05 - val_loss: 3.3031e-04\n",
            "Epoch 46/50\n",
            "103/103 [==============================] - 2s 24ms/step - loss: 1.4960e-05 - val_loss: 1.7155e-04\n",
            "Epoch 47/50\n",
            "103/103 [==============================] - 2s 20ms/step - loss: 1.3409e-05 - val_loss: 1.7000e-04\n",
            "Epoch 48/50\n",
            "103/103 [==============================] - 2s 20ms/step - loss: 1.5399e-05 - val_loss: 3.9950e-04\n",
            "Epoch 49/50\n",
            "103/103 [==============================] - 2s 23ms/step - loss: 1.5247e-05 - val_loss: 3.7654e-04\n",
            "Epoch 50/50\n",
            "103/103 [==============================] - 2s 20ms/step - loss: 1.7560e-05 - val_loss: 3.8923e-04\n"
          ]
        },
        {
          "output_type": "execute_result",
          "data": {
            "text/plain": [
              "<keras.callbacks.History at 0x7fd7e2894290>"
            ]
          },
          "metadata": {},
          "execution_count": 165
        }
      ]
    },
    {
      "cell_type": "code",
      "source": [
        "trainPredict1 = model1.predict(trainX)\n",
        "testPredict1 = model1.predict(testX)\n",
        "trainPredict1 = scaler2.inverse_transform(trainPredict1)\n",
        "testPredict1 = scaler2.inverse_transform(testPredict1)\n",
        "trainY1 = scaler2.inverse_transform(trainY.reshape(-1, 1))\n",
        "testY1 = scaler2.inverse_transform(testY.reshape(-1, 1))"
      ],
      "metadata": {
        "id": "nlr9V8kGKC0-"
      },
      "execution_count": null,
      "outputs": []
    },
    {
      "cell_type": "code",
      "source": [
        "mape1 = np.mean(np.abs((testY1 - testPredict1)/testY1))*100\n",
        "mape1"
      ],
      "metadata": {
        "colab": {
          "base_uri": "https://localhost:8080/"
        },
        "id": "XMxITShKKY1m",
        "outputId": "c77050c9-7383-433a-d4a6-7408fa2fda05"
      },
      "execution_count": null,
      "outputs": [
        {
          "output_type": "execute_result",
          "data": {
            "text/plain": [
              "2.4136739576933683"
            ]
          },
          "metadata": {},
          "execution_count": 167
        }
      ]
    },
    {
      "cell_type": "code",
      "source": [
        "days = [i for i in range(0, len(testY1))]\n",
        "plt.plot(days, testY1, color='r', label='Y')\n",
        "plt.plot(days, testPredict1, color='g', label='Ypredict')  \n",
        "plt.xlabel(\"Days\")\n",
        "plt.ylabel(\"Price\")\n",
        "plt.title(\"Stock Price\")\n",
        "plt.legend()\n",
        "plt.show()"
      ],
      "metadata": {
        "colab": {
          "base_uri": "https://localhost:8080/",
          "height": 295
        },
        "id": "PFthWKPZK6od",
        "outputId": "852c9565-caca-426a-caab-d0c3c328d775"
      },
      "execution_count": null,
      "outputs": [
        {
          "output_type": "display_data",
          "data": {
            "text/plain": [
              "<Figure size 432x288 with 1 Axes>"
            ],
            "image/png": "[encoded data removed]"
          },
          "metadata": {
            "needs_background": "light"
          }
        }
      ]
    },
    {
      "cell_type": "markdown",
      "source": [
        "Classic LSTM"
      ],
      "metadata": {
        "id": "6HLNTNT3FqB1"
      }
    },
    {
      "cell_type": "code",
      "source": [
        "model2 = Sequential()\n",
        "model2.add(InputLayer((trainX.shape[1], trainX.shape[2])))\n",
        "model2.add(LSTM(200))\n",
        "model2.add(Dense(trainY.shape[1]))\n",
        "model2.compile(optimizer='adam', loss='mse')\n",
        "model2.summary()"
      ],
      "metadata": {
        "colab": {
          "base_uri": "https://localhost:8080/"
        },
        "id": "YrK6_RTR8Joj",
        "outputId": "afd9235f-8a4e-4268-c14a-3490c8b0e478"
      },
      "execution_count": null,
      "outputs": [
        {
          "output_type": "stream",
          "name": "stdout",
          "text": [
            "Model: \"sequential_2\"\n",
            "_________________________________________________________________\n",
            " Layer (type)                Output Shape              Param #   \n",
            "=================================================================\n",
            " lstm_4 (LSTM)               (None, 200)               164800    \n",
            "                                                                 \n",
            " dense_2 (Dense)             (None, 1)                 201       \n",
            "                                                                 \n",
            "=================================================================\n",
            "Total params: 165,001\n",
            "Trainable params: 165,001\n",
            "Non-trainable params: 0\n",
            "_________________________________________________________________\n"
          ]
        }
      ]
    },
    {
      "cell_type": "code",
      "source": [
        "model2.fit(trainX, trainY, validation_split = 0.2, epochs = 50)"
      ],
      "metadata": {
        "colab": {
          "base_uri": "https://localhost:8080/"
        },
        "id": "DLCcQBiADlBw",
        "outputId": "335a06ad-22e6-4501-c10d-d6c4c6a4bee0"
      },
      "execution_count": null,
      "outputs": [
        {
          "output_type": "stream",
          "name": "stdout",
          "text": [
            "Epoch 1/50\n",
            "103/103 [==============================] - 6s 42ms/step - loss: 8.0141e-04 - val_loss: 5.5499e-04\n",
            "Epoch 2/50\n",
            "103/103 [==============================] - 4s 37ms/step - loss: 2.2362e-05 - val_loss: 5.6483e-04\n",
            "Epoch 3/50\n",
            "103/103 [==============================] - 4s 37ms/step - loss: 2.2813e-05 - val_loss: 4.3628e-04\n",
            "Epoch 4/50\n",
            "103/103 [==============================] - 4s 38ms/step - loss: 2.1817e-05 - val_loss: 5.5762e-04\n",
            "Epoch 5/50\n",
            "103/103 [==============================] - 4s 38ms/step - loss: 2.2761e-05 - val_loss: 5.7299e-04\n",
            "Epoch 6/50\n",
            "103/103 [==============================] - 4s 38ms/step - loss: 2.2661e-05 - val_loss: 3.8164e-04\n",
            "Epoch 7/50\n",
            "103/103 [==============================] - 4s 39ms/step - loss: 2.1530e-05 - val_loss: 6.3123e-04\n",
            "Epoch 8/50\n",
            "103/103 [==============================] - 4s 38ms/step - loss: 2.5814e-05 - val_loss: 8.1084e-04\n",
            "Epoch 9/50\n",
            "103/103 [==============================] - 4s 39ms/step - loss: 2.1680e-05 - val_loss: 5.0984e-04\n",
            "Epoch 10/50\n",
            "103/103 [==============================] - 4s 38ms/step - loss: 2.1665e-05 - val_loss: 2.8225e-04\n",
            "Epoch 11/50\n",
            "103/103 [==============================] - 4s 38ms/step - loss: 2.2449e-05 - val_loss: 5.3490e-04\n",
            "Epoch 12/50\n",
            "103/103 [==============================] - 4s 39ms/step - loss: 2.0914e-05 - val_loss: 3.6602e-04\n",
            "Epoch 13/50\n",
            "103/103 [==============================] - 4s 38ms/step - loss: 1.9157e-05 - val_loss: 2.2502e-04\n",
            "Epoch 14/50\n",
            "103/103 [==============================] - 4s 38ms/step - loss: 1.8690e-05 - val_loss: 2.9283e-04\n",
            "Epoch 15/50\n",
            "103/103 [==============================] - 4s 38ms/step - loss: 2.0184e-05 - val_loss: 3.0331e-04\n",
            "Epoch 16/50\n",
            "103/103 [==============================] - 4s 38ms/step - loss: 1.8206e-05 - val_loss: 4.5828e-04\n",
            "Epoch 17/50\n",
            "103/103 [==============================] - 4s 38ms/step - loss: 2.0210e-05 - val_loss: 3.6348e-04\n",
            "Epoch 18/50\n",
            "103/103 [==============================] - 4s 37ms/step - loss: 1.6480e-05 - val_loss: 1.9486e-04\n",
            "Epoch 19/50\n",
            "103/103 [==============================] - 4s 38ms/step - loss: 1.6695e-05 - val_loss: 2.4767e-04\n",
            "Epoch 20/50\n",
            "103/103 [==============================] - 4s 39ms/step - loss: 1.6736e-05 - val_loss: 2.2725e-04\n",
            "Epoch 21/50\n",
            "103/103 [==============================] - 4s 38ms/step - loss: 1.7763e-05 - val_loss: 1.6397e-04\n",
            "Epoch 22/50\n",
            "103/103 [==============================] - 4s 39ms/step - loss: 1.6405e-05 - val_loss: 1.9680e-04\n",
            "Epoch 23/50\n",
            "103/103 [==============================] - 4s 38ms/step - loss: 1.5662e-05 - val_loss: 2.0301e-04\n",
            "Epoch 24/50\n",
            "103/103 [==============================] - 4s 38ms/step - loss: 1.5794e-05 - val_loss: 2.3042e-04\n",
            "Epoch 25/50\n",
            "103/103 [==============================] - 4s 39ms/step - loss: 1.5844e-05 - val_loss: 1.5636e-04\n",
            "Epoch 26/50\n",
            "103/103 [==============================] - 4s 42ms/step - loss: 1.4646e-05 - val_loss: 2.1927e-04\n",
            "Epoch 27/50\n",
            "103/103 [==============================] - 4s 40ms/step - loss: 1.5597e-05 - val_loss: 2.6328e-04\n",
            "Epoch 28/50\n",
            "103/103 [==============================] - 4s 38ms/step - loss: 1.4228e-05 - val_loss: 1.9106e-04\n",
            "Epoch 29/50\n",
            "103/103 [==============================] - 4s 38ms/step - loss: 1.4239e-05 - val_loss: 2.1201e-04\n",
            "Epoch 30/50\n",
            "103/103 [==============================] - 4s 39ms/step - loss: 1.6312e-05 - val_loss: 1.2868e-04\n",
            "Epoch 31/50\n",
            "103/103 [==============================] - 4s 39ms/step - loss: 1.3547e-05 - val_loss: 2.2963e-04\n",
            "Epoch 32/50\n",
            "103/103 [==============================] - 4s 38ms/step - loss: 1.4281e-05 - val_loss: 1.9122e-04\n",
            "Epoch 33/50\n",
            "103/103 [==============================] - 5s 45ms/step - loss: 1.4638e-05 - val_loss: 2.1969e-04\n",
            "Epoch 34/50\n",
            "103/103 [==============================] - 4s 40ms/step - loss: 1.4785e-05 - val_loss: 1.1498e-04\n",
            "Epoch 35/50\n",
            "103/103 [==============================] - 4s 39ms/step - loss: 1.6582e-05 - val_loss: 1.1156e-04\n",
            "Epoch 36/50\n",
            "103/103 [==============================] - 4s 40ms/step - loss: 1.3066e-05 - val_loss: 2.5694e-04\n",
            "Epoch 37/50\n",
            "103/103 [==============================] - 4s 39ms/step - loss: 1.3039e-05 - val_loss: 1.7028e-04\n",
            "Epoch 38/50\n",
            "103/103 [==============================] - 4s 39ms/step - loss: 1.2404e-05 - val_loss: 1.2553e-04\n",
            "Epoch 39/50\n",
            "103/103 [==============================] - 4s 39ms/step - loss: 1.3691e-05 - val_loss: 2.3129e-04\n",
            "Epoch 40/50\n",
            "103/103 [==============================] - 4s 37ms/step - loss: 1.4069e-05 - val_loss: 1.1771e-04\n",
            "Epoch 41/50\n",
            "103/103 [==============================] - 4s 39ms/step - loss: 1.2174e-05 - val_loss: 1.0926e-04\n",
            "Epoch 42/50\n",
            "103/103 [==============================] - 4s 39ms/step - loss: 1.2160e-05 - val_loss: 1.1833e-04\n",
            "Epoch 43/50\n",
            "103/103 [==============================] - 4s 40ms/step - loss: 1.1929e-05 - val_loss: 1.6050e-04\n",
            "Epoch 44/50\n",
            "103/103 [==============================] - 4s 39ms/step - loss: 1.1199e-05 - val_loss: 2.0239e-04\n",
            "Epoch 45/50\n",
            "103/103 [==============================] - 4s 39ms/step - loss: 1.1482e-05 - val_loss: 9.4262e-05\n",
            "Epoch 46/50\n",
            "103/103 [==============================] - 4s 40ms/step - loss: 1.2458e-05 - val_loss: 9.3331e-05\n",
            "Epoch 47/50\n",
            "103/103 [==============================] - 4s 39ms/step - loss: 1.0875e-05 - val_loss: 1.0336e-04\n",
            "Epoch 48/50\n",
            "103/103 [==============================] - 4s 38ms/step - loss: 1.1066e-05 - val_loss: 1.1508e-04\n",
            "Epoch 49/50\n",
            "103/103 [==============================] - 4s 39ms/step - loss: 1.0525e-05 - val_loss: 1.0307e-04\n",
            "Epoch 50/50\n",
            "103/103 [==============================] - 4s 39ms/step - loss: 1.0760e-05 - val_loss: 1.5415e-04\n"
          ]
        },
        {
          "output_type": "execute_result",
          "data": {
            "text/plain": [
              "<keras.callbacks.History at 0x7f45a4f19e90>"
            ]
          },
          "metadata": {},
          "execution_count": 18
        }
      ]
    },
    {
      "cell_type": "code",
      "source": [
        "trainPredict2 = model2.predict(trainX)\n",
        "testPredict2 = model2.predict(testX)\n",
        "trainPredict2 = scaler2.inverse_transform(trainPredict2)\n",
        "testPredict2 = scaler2.inverse_transform(testPredict2)\n",
        "trainY2 = scaler2.inverse_transform(trainY.reshape(-1, 1))\n",
        "testY2 = scaler2.inverse_transform(testY.reshape(-1, 1))"
      ],
      "metadata": {
        "id": "7lbCXVOuFdZj"
      },
      "execution_count": null,
      "outputs": []
    },
    {
      "cell_type": "code",
      "source": [
        "mape2 = np.mean(np.abs((testY2 - testPredict2)/testY2))*100\n",
        "mape2"
      ],
      "metadata": {
        "colab": {
          "base_uri": "https://localhost:8080/"
        },
        "id": "1EoZKsfkLXH5",
        "outputId": "64dd013c-3185-420a-9dee-1917b8420505"
      },
      "execution_count": null,
      "outputs": [
        {
          "output_type": "execute_result",
          "data": {
            "text/plain": [
              "1.5727508208688714"
            ]
          },
          "metadata": {},
          "execution_count": 20
        }
      ]
    },
    {
      "cell_type": "code",
      "source": [
        "days = [i for i in range(0, len(testY2))]\n",
        "plt.plot(days, testY2, color='r', label='Y')\n",
        "plt.plot(days, testPredict2, color='g', label='Ypredict')\n",
        "plt.xlabel(\"Days\")\n",
        "plt.ylabel(\"Price\")\n",
        "plt.title(\"Stock Price\")\n",
        "plt.legend()\n",
        "plt.show()"
      ],
      "metadata": {
        "colab": {
          "base_uri": "https://localhost:8080/",
          "height": 295
        },
        "id": "-yZZuGZrBNeP",
        "outputId": "90d3cbff-04bf-431c-d839-1455b925367f"
      },
      "execution_count": null,
      "outputs": [
        {
          "output_type": "display_data",
          "data": {
            "text/plain": [
              "<Figure size 432x288 with 1 Axes>"
            ],
            "image/png": "[encoded data removed]"
          },
          "metadata": {
            "needs_background": "light"
          }
        }
      ]
    },
    {
      "cell_type": "markdown",
      "source": [
        "LSTM Peephole"
      ],
      "metadata": {
        "id": "bf7GoafTMuF1"
      }
    },
    {
      "cell_type": "code",
      "source": [
        "model3 = Sequential()\n",
        "model3.add(InputLayer((trainX.shape[1], trainX.shape[2])))\n",
        "model3.add(RNN(tfa.rnn.PeepholeLSTMCell(200)))\n",
        "model3.add(Dense(trainY.shape[1]))\n",
        "model3.compile(optimizer='adam', loss='mse')\n",
        "model3.summary()"
      ],
      "metadata": {
        "colab": {
          "base_uri": "https://localhost:8080/"
        },
        "id": "CMBfWAw7MmD6",
        "outputId": "bbee6af5-d584-44e2-e0d6-f07deb01bade"
      },
      "execution_count": null,
      "outputs": [
        {
          "output_type": "stream",
          "name": "stdout",
          "text": [
            "Model: \"sequential_22\"\n",
            "_________________________________________________________________\n",
            " Layer (type)                Output Shape              Param #   \n",
            "=================================================================\n",
            " rnn_3 (RNN)                 (None, 200)               165400    \n",
            "                                                                 \n",
            " dense_21 (Dense)            (None, 1)                 201       \n",
            "                                                                 \n",
            "=================================================================\n",
            "Total params: 165,601\n",
            "Trainable params: 165,601\n",
            "Non-trainable params: 0\n",
            "_________________________________________________________________\n"
          ]
        }
      ]
    },
    {
      "cell_type": "code",
      "source": [
        "model3.fit(trainX, trainY, validation_split = 0.2, epochs = 50)"
      ],
      "metadata": {
        "colab": {
          "base_uri": "https://localhost:8080/"
        },
        "id": "imUyvlS2GRxs",
        "outputId": "fe1e6182-8bd6-4947-98ae-f40955b7a984"
      },
      "execution_count": null,
      "outputs": [
        {
          "output_type": "stream",
          "name": "stdout",
          "text": [
            "Epoch 1/50\n",
            "103/103 [==============================] - 6s 40ms/step - loss: 5.2655e-04 - val_loss: 3.3286e-04\n",
            "Epoch 2/50\n",
            "103/103 [==============================] - 4s 37ms/step - loss: 2.3802e-05 - val_loss: 3.0666e-04\n",
            "Epoch 3/50\n",
            "103/103 [==============================] - 4s 37ms/step - loss: 2.2862e-05 - val_loss: 4.5657e-04\n",
            "Epoch 4/50\n",
            "103/103 [==============================] - 4s 38ms/step - loss: 2.1568e-05 - val_loss: 3.1356e-04\n",
            "Epoch 5/50\n",
            "103/103 [==============================] - 4s 38ms/step - loss: 2.2374e-05 - val_loss: 4.9554e-04\n",
            "Epoch 6/50\n",
            "103/103 [==============================] - 4s 37ms/step - loss: 2.0969e-05 - val_loss: 3.0968e-04\n",
            "Epoch 7/50\n",
            "103/103 [==============================] - 4s 37ms/step - loss: 2.0169e-05 - val_loss: 4.1578e-04\n",
            "Epoch 8/50\n",
            "103/103 [==============================] - 4s 36ms/step - loss: 2.2084e-05 - val_loss: 4.4208e-04\n",
            "Epoch 9/50\n",
            "103/103 [==============================] - 4s 37ms/step - loss: 2.1649e-05 - val_loss: 3.9037e-04\n",
            "Epoch 10/50\n",
            "103/103 [==============================] - 4s 37ms/step - loss: 2.4730e-05 - val_loss: 2.3994e-04\n",
            "Epoch 11/50\n",
            "103/103 [==============================] - 4s 37ms/step - loss: 1.8189e-05 - val_loss: 2.9563e-04\n",
            "Epoch 12/50\n",
            "103/103 [==============================] - 4s 38ms/step - loss: 2.0507e-05 - val_loss: 2.3984e-04\n",
            "Epoch 13/50\n",
            "103/103 [==============================] - 4s 42ms/step - loss: 1.8800e-05 - val_loss: 1.6958e-04\n",
            "Epoch 14/50\n",
            "103/103 [==============================] - 4s 42ms/step - loss: 1.7469e-05 - val_loss: 1.6659e-04\n",
            "Epoch 15/50\n",
            "103/103 [==============================] - 4s 37ms/step - loss: 1.6952e-05 - val_loss: 1.7542e-04\n",
            "Epoch 16/50\n",
            "103/103 [==============================] - 4s 37ms/step - loss: 1.6800e-05 - val_loss: 3.0546e-04\n",
            "Epoch 17/50\n",
            "103/103 [==============================] - 4s 37ms/step - loss: 1.7160e-05 - val_loss: 1.5453e-04\n",
            "Epoch 18/50\n",
            "103/103 [==============================] - 4s 37ms/step - loss: 1.6333e-05 - val_loss: 1.4515e-04\n",
            "Epoch 19/50\n",
            "103/103 [==============================] - 4s 37ms/step - loss: 1.7761e-05 - val_loss: 1.5646e-04\n",
            "Epoch 20/50\n",
            "103/103 [==============================] - 4s 39ms/step - loss: 1.5492e-05 - val_loss: 1.5066e-04\n",
            "Epoch 21/50\n",
            "103/103 [==============================] - 4s 38ms/step - loss: 1.6243e-05 - val_loss: 3.3444e-04\n",
            "Epoch 22/50\n",
            "103/103 [==============================] - 4s 38ms/step - loss: 1.5267e-05 - val_loss: 1.4321e-04\n",
            "Epoch 23/50\n",
            "103/103 [==============================] - 4s 38ms/step - loss: 1.6505e-05 - val_loss: 4.0534e-04\n",
            "Epoch 24/50\n",
            "103/103 [==============================] - 4s 39ms/step - loss: 1.4062e-05 - val_loss: 1.7052e-04\n",
            "Epoch 25/50\n",
            "103/103 [==============================] - 4s 39ms/step - loss: 1.3496e-05 - val_loss: 1.6941e-04\n",
            "Epoch 26/50\n",
            "103/103 [==============================] - 4s 39ms/step - loss: 1.5417e-05 - val_loss: 2.1023e-04\n",
            "Epoch 27/50\n",
            "103/103 [==============================] - 4s 39ms/step - loss: 1.6557e-05 - val_loss: 1.2244e-04\n",
            "Epoch 28/50\n",
            "103/103 [==============================] - 4s 38ms/step - loss: 1.3851e-05 - val_loss: 1.5423e-04\n",
            "Epoch 29/50\n",
            "103/103 [==============================] - 4s 38ms/step - loss: 1.2774e-05 - val_loss: 1.7068e-04\n",
            "Epoch 30/50\n",
            "103/103 [==============================] - 4s 38ms/step - loss: 1.4485e-05 - val_loss: 1.2649e-04\n",
            "Epoch 31/50\n",
            "103/103 [==============================] - 4s 37ms/step - loss: 1.3053e-05 - val_loss: 1.0935e-04\n",
            "Epoch 32/50\n",
            "103/103 [==============================] - 4s 38ms/step - loss: 1.4700e-05 - val_loss: 2.5000e-04\n",
            "Epoch 33/50\n",
            "103/103 [==============================] - 4s 38ms/step - loss: 1.2411e-05 - val_loss: 1.5294e-04\n",
            "Epoch 34/50\n",
            "103/103 [==============================] - 4s 38ms/step - loss: 1.1658e-05 - val_loss: 1.4558e-04\n",
            "Epoch 35/50\n",
            "103/103 [==============================] - 4s 38ms/step - loss: 1.4796e-05 - val_loss: 1.1072e-04\n",
            "Epoch 36/50\n",
            "103/103 [==============================] - 4s 38ms/step - loss: 1.4500e-05 - val_loss: 1.0299e-04\n",
            "Epoch 37/50\n",
            "103/103 [==============================] - 4s 37ms/step - loss: 1.3120e-05 - val_loss: 9.7701e-05\n",
            "Epoch 38/50\n",
            "103/103 [==============================] - 4s 38ms/step - loss: 1.3141e-05 - val_loss: 1.6258e-04\n",
            "Epoch 39/50\n",
            "103/103 [==============================] - 4s 38ms/step - loss: 1.0905e-05 - val_loss: 1.0694e-04\n",
            "Epoch 40/50\n",
            "103/103 [==============================] - 4s 38ms/step - loss: 1.1172e-05 - val_loss: 1.4948e-04\n",
            "Epoch 41/50\n",
            "103/103 [==============================] - 4s 37ms/step - loss: 1.2559e-05 - val_loss: 1.3484e-04\n",
            "Epoch 42/50\n",
            "103/103 [==============================] - 4s 38ms/step - loss: 1.1551e-05 - val_loss: 1.5643e-04\n",
            "Epoch 43/50\n",
            "103/103 [==============================] - 4s 40ms/step - loss: 1.2315e-05 - val_loss: 9.4468e-05\n",
            "Epoch 44/50\n",
            "103/103 [==============================] - 4s 38ms/step - loss: 1.0116e-05 - val_loss: 1.0946e-04\n",
            "Epoch 45/50\n",
            "103/103 [==============================] - 4s 38ms/step - loss: 1.1156e-05 - val_loss: 1.1388e-04\n",
            "Epoch 46/50\n",
            "103/103 [==============================] - 4s 38ms/step - loss: 1.0924e-05 - val_loss: 1.0962e-04\n",
            "Epoch 47/50\n",
            "103/103 [==============================] - 4s 38ms/step - loss: 1.0057e-05 - val_loss: 9.3967e-05\n",
            "Epoch 48/50\n",
            "103/103 [==============================] - 4s 37ms/step - loss: 9.7186e-06 - val_loss: 8.9324e-05\n",
            "Epoch 49/50\n",
            "103/103 [==============================] - 4s 37ms/step - loss: 1.1821e-05 - val_loss: 9.6383e-05\n",
            "Epoch 50/50\n",
            "103/103 [==============================] - 4s 38ms/step - loss: 1.0304e-05 - val_loss: 9.9116e-05\n"
          ]
        },
        {
          "output_type": "execute_result",
          "data": {
            "text/plain": [
              "<keras.callbacks.History at 0x7fd7d8fc22d0>"
            ]
          },
          "metadata": {},
          "execution_count": 175
        }
      ]
    },
    {
      "cell_type": "code",
      "source": [
        "trainPredict3 = model3.predict(trainX)\n",
        "testPredict3 = model3.predict(testX)\n",
        "trainPredict3 = scaler2.inverse_transform(trainPredict3)\n",
        "testPredict3 = scaler2.inverse_transform(testPredict3)\n",
        "trainY3 = scaler2.inverse_transform(trainY.reshape(-1, 1))\n",
        "testY3 = scaler2.inverse_transform(testY.reshape(-1, 1))"
      ],
      "metadata": {
        "id": "uHnWQhesNsnS"
      },
      "execution_count": null,
      "outputs": []
    },
    {
      "cell_type": "code",
      "source": [
        "mape3 = np.mean(np.abs((testY3 - testPredict3)/testY3))*100\n",
        "mape3"
      ],
      "metadata": {
        "colab": {
          "base_uri": "https://localhost:8080/"
        },
        "id": "Nfnre6bLN2tC",
        "outputId": "fa0ab7f6-700b-40a0-9f94-1f30e0ffd2e2"
      },
      "execution_count": null,
      "outputs": [
        {
          "output_type": "execute_result",
          "data": {
            "text/plain": [
              "1.3259473511623339"
            ]
          },
          "metadata": {},
          "execution_count": 177
        }
      ]
    },
    {
      "cell_type": "code",
      "source": [
        "days = [i for i in range(0, len(testY3))]\n",
        "plt.plot(days, testY3, color='r', label='Y')\n",
        "plt.plot(days, testPredict3, color='g', label='Ypredict')\n",
        "plt.xlabel(\"Days\")\n",
        "plt.ylabel(\"Price\")\n",
        "plt.title(\"Stock Price\")\n",
        "plt.legend()\n",
        "plt.show()"
      ],
      "metadata": {
        "colab": {
          "base_uri": "https://localhost:8080/",
          "height": 295
        },
        "id": "VX_e3csZOFSq",
        "outputId": "2b897e5d-1f66-4894-afef-a898eaaf5f23"
      },
      "execution_count": null,
      "outputs": [
        {
          "output_type": "display_data",
          "data": {
            "text/plain": [
              "<Figure size 432x288 with 1 Axes>"
            ],
            "image/png": "[encoded data removed]"
          },
          "metadata": {
            "needs_background": "light"
          }
        }
      ]
    },
    {
      "cell_type": "markdown",
      "source": [
        "Bidirectional LSTM"
      ],
      "metadata": {
        "id": "5SBjSIw1PC9l"
      }
    },
    {
      "cell_type": "code",
      "source": [
        "model4 = Sequential()\n",
        "model4.add(InputLayer((trainX.shape[1], trainX.shape[2])))\n",
        "model4.add(Bidirectional(LSTM(200)))\n",
        "model4.add(Dense(trainY.shape[1]))\n",
        "model4.compile(optimizer='adam', loss='mse')\n",
        "model4.summary()"
      ],
      "metadata": {
        "colab": {
          "base_uri": "https://localhost:8080/"
        },
        "id": "rP8L8zroOwxu",
        "outputId": "37ed4469-be22-4ee6-d168-8c7cf2df8a9e"
      },
      "execution_count": null,
      "outputs": [
        {
          "output_type": "stream",
          "name": "stdout",
          "text": [
            "Model: \"sequential_23\"\n",
            "_________________________________________________________________\n",
            " Layer (type)                Output Shape              Param #   \n",
            "=================================================================\n",
            " bidirectional_3 (Bidirectio  (None, 400)              329600    \n",
            " nal)                                                            \n",
            "                                                                 \n",
            " dense_22 (Dense)            (None, 1)                 401       \n",
            "                                                                 \n",
            "=================================================================\n",
            "Total params: 330,001\n",
            "Trainable params: 330,001\n",
            "Non-trainable params: 0\n",
            "_________________________________________________________________\n"
          ]
        }
      ]
    },
    {
      "cell_type": "code",
      "source": [
        "model4.fit(trainX, trainY, validation_split = 0.2, epochs = 50)"
      ],
      "metadata": {
        "colab": {
          "base_uri": "https://localhost:8080/"
        },
        "id": "y9CmgE-WPZ1X",
        "outputId": "b0768982-af50-44fb-9df8-53ec1268dac0"
      },
      "execution_count": null,
      "outputs": [
        {
          "output_type": "stream",
          "name": "stdout",
          "text": [
            "Epoch 1/50\n",
            "103/103 [==============================] - 11s 70ms/step - loss: 6.3718e-04 - val_loss: 5.0748e-04\n",
            "Epoch 2/50\n",
            "103/103 [==============================] - 6s 63ms/step - loss: 3.1046e-05 - val_loss: 4.7141e-04\n",
            "Epoch 3/50\n",
            "103/103 [==============================] - 7s 63ms/step - loss: 3.0807e-05 - val_loss: 6.0200e-04\n",
            "Epoch 4/50\n",
            "103/103 [==============================] - 6s 62ms/step - loss: 2.9809e-05 - val_loss: 5.6719e-04\n",
            "Epoch 5/50\n",
            "103/103 [==============================] - 6s 62ms/step - loss: 2.8884e-05 - val_loss: 4.5436e-04\n",
            "Epoch 6/50\n",
            "103/103 [==============================] - 6s 63ms/step - loss: 2.7842e-05 - val_loss: 8.8342e-04\n",
            "Epoch 7/50\n",
            "103/103 [==============================] - 6s 63ms/step - loss: 2.9093e-05 - val_loss: 7.7402e-04\n",
            "Epoch 8/50\n",
            "103/103 [==============================] - 7s 63ms/step - loss: 2.5245e-05 - val_loss: 4.0517e-04\n",
            "Epoch 9/50\n",
            "103/103 [==============================] - 6s 62ms/step - loss: 2.6132e-05 - val_loss: 5.4665e-04\n",
            "Epoch 10/50\n",
            "103/103 [==============================] - 7s 64ms/step - loss: 2.2724e-05 - val_loss: 5.5478e-04\n",
            "Epoch 11/50\n",
            "103/103 [==============================] - 7s 63ms/step - loss: 2.0802e-05 - val_loss: 2.5297e-04\n",
            "Epoch 12/50\n",
            "103/103 [==============================] - 7s 63ms/step - loss: 2.1680e-05 - val_loss: 2.5295e-04\n",
            "Epoch 13/50\n",
            "103/103 [==============================] - 7s 63ms/step - loss: 2.1667e-05 - val_loss: 6.2458e-04\n",
            "Epoch 14/50\n",
            "103/103 [==============================] - 6s 63ms/step - loss: 1.9358e-05 - val_loss: 4.3932e-04\n",
            "Epoch 15/50\n",
            "103/103 [==============================] - 7s 64ms/step - loss: 2.6035e-05 - val_loss: 3.6713e-04\n",
            "Epoch 16/50\n",
            "103/103 [==============================] - 6s 60ms/step - loss: 1.8192e-05 - val_loss: 4.6261e-04\n",
            "Epoch 17/50\n",
            "103/103 [==============================] - 6s 60ms/step - loss: 2.0778e-05 - val_loss: 3.1832e-04\n",
            "Epoch 18/50\n",
            "103/103 [==============================] - 6s 61ms/step - loss: 2.0181e-05 - val_loss: 1.6333e-04\n",
            "Epoch 19/50\n",
            "103/103 [==============================] - 6s 61ms/step - loss: 1.8389e-05 - val_loss: 3.4282e-04\n",
            "Epoch 20/50\n",
            "103/103 [==============================] - 6s 62ms/step - loss: 1.8522e-05 - val_loss: 1.3746e-04\n",
            "Epoch 21/50\n",
            "103/103 [==============================] - 6s 62ms/step - loss: 1.6461e-05 - val_loss: 2.7238e-04\n",
            "Epoch 22/50\n",
            "103/103 [==============================] - 6s 62ms/step - loss: 1.6822e-05 - val_loss: 1.3984e-04\n",
            "Epoch 23/50\n",
            "103/103 [==============================] - 6s 62ms/step - loss: 1.6642e-05 - val_loss: 2.6345e-04\n",
            "Epoch 24/50\n",
            "103/103 [==============================] - 6s 62ms/step - loss: 1.6811e-05 - val_loss: 1.3394e-04\n",
            "Epoch 25/50\n",
            "103/103 [==============================] - 6s 63ms/step - loss: 1.5164e-05 - val_loss: 1.6291e-04\n",
            "Epoch 26/50\n",
            "103/103 [==============================] - 6s 63ms/step - loss: 1.7184e-05 - val_loss: 2.0878e-04\n",
            "Epoch 27/50\n",
            "103/103 [==============================] - 7s 63ms/step - loss: 1.5563e-05 - val_loss: 1.5367e-04\n",
            "Epoch 28/50\n",
            "103/103 [==============================] - 7s 65ms/step - loss: 1.3703e-05 - val_loss: 4.1342e-04\n",
            "Epoch 29/50\n",
            "103/103 [==============================] - 7s 64ms/step - loss: 1.5844e-05 - val_loss: 1.5953e-04\n",
            "Epoch 30/50\n",
            "103/103 [==============================] - 7s 64ms/step - loss: 1.4345e-05 - val_loss: 1.5944e-04\n",
            "Epoch 31/50\n",
            "103/103 [==============================] - 7s 65ms/step - loss: 1.2867e-05 - val_loss: 1.2823e-04\n",
            "Epoch 32/50\n",
            "103/103 [==============================] - 7s 66ms/step - loss: 1.2723e-05 - val_loss: 1.3782e-04\n",
            "Epoch 33/50\n",
            "103/103 [==============================] - 7s 64ms/step - loss: 1.3899e-05 - val_loss: 1.7951e-04\n",
            "Epoch 34/50\n",
            "103/103 [==============================] - 7s 63ms/step - loss: 1.2841e-05 - val_loss: 3.0907e-04\n",
            "Epoch 35/50\n",
            "103/103 [==============================] - 7s 65ms/step - loss: 1.3841e-05 - val_loss: 1.2217e-04\n",
            "Epoch 36/50\n",
            "103/103 [==============================] - 7s 64ms/step - loss: 1.3517e-05 - val_loss: 1.2366e-04\n",
            "Epoch 37/50\n",
            "103/103 [==============================] - 7s 64ms/step - loss: 1.3663e-05 - val_loss: 3.5380e-04\n",
            "Epoch 38/50\n",
            "103/103 [==============================] - 7s 64ms/step - loss: 1.3305e-05 - val_loss: 1.7136e-04\n",
            "Epoch 39/50\n",
            "103/103 [==============================] - 7s 66ms/step - loss: 1.2317e-05 - val_loss: 1.6295e-04\n",
            "Epoch 40/50\n",
            "103/103 [==============================] - 7s 66ms/step - loss: 1.2949e-05 - val_loss: 1.5796e-04\n",
            "Epoch 41/50\n",
            "103/103 [==============================] - 7s 65ms/step - loss: 1.3770e-05 - val_loss: 2.2325e-04\n",
            "Epoch 42/50\n",
            "103/103 [==============================] - 7s 64ms/step - loss: 1.1801e-05 - val_loss: 3.1592e-04\n",
            "Epoch 43/50\n",
            "103/103 [==============================] - 7s 64ms/step - loss: 1.2869e-05 - val_loss: 1.9928e-04\n",
            "Epoch 44/50\n",
            "103/103 [==============================] - 7s 65ms/step - loss: 1.1903e-05 - val_loss: 1.0387e-04\n",
            "Epoch 45/50\n",
            "103/103 [==============================] - 7s 64ms/step - loss: 1.1981e-05 - val_loss: 2.8308e-04\n",
            "Epoch 46/50\n",
            "103/103 [==============================] - 7s 65ms/step - loss: 1.3680e-05 - val_loss: 1.1161e-04\n",
            "Epoch 47/50\n",
            "103/103 [==============================] - 7s 65ms/step - loss: 1.2419e-05 - val_loss: 1.6882e-04\n",
            "Epoch 48/50\n",
            "103/103 [==============================] - 7s 64ms/step - loss: 1.1384e-05 - val_loss: 1.2103e-04\n",
            "Epoch 49/50\n",
            "103/103 [==============================] - 6s 63ms/step - loss: 1.3311e-05 - val_loss: 1.9770e-04\n",
            "Epoch 50/50\n",
            "103/103 [==============================] - 7s 64ms/step - loss: 1.0834e-05 - val_loss: 2.5055e-04\n"
          ]
        },
        {
          "output_type": "execute_result",
          "data": {
            "text/plain": [
              "<keras.callbacks.History at 0x7fd7d8ad4a50>"
            ]
          },
          "metadata": {},
          "execution_count": 180
        }
      ]
    },
    {
      "cell_type": "code",
      "source": [
        "trainPredict4 = model4.predict(trainX)\n",
        "testPredict4 = model4.predict(testX)\n",
        "trainPredict4 = scaler2.inverse_transform(trainPredict4)\n",
        "testPredict4 = scaler2.inverse_transform(testPredict4)\n",
        "trainY4 = scaler2.inverse_transform(trainY.reshape(-1, 1))\n",
        "testY4 = scaler2.inverse_transform(testY.reshape(-1, 1))"
      ],
      "metadata": {
        "id": "hDN0cdu-QXIH"
      },
      "execution_count": null,
      "outputs": []
    },
    {
      "cell_type": "code",
      "source": [
        "mape4 = np.mean(np.abs((testY4 - testPredict4)/testY4))*100\n",
        "mape4"
      ],
      "metadata": {
        "colab": {
          "base_uri": "https://localhost:8080/"
        },
        "id": "gno_sGzuQojr",
        "outputId": "40314ce4-31d7-4ec8-df70-78e8a86a353c"
      },
      "execution_count": null,
      "outputs": [
        {
          "output_type": "execute_result",
          "data": {
            "text/plain": [
              "1.9747483293318608"
            ]
          },
          "metadata": {},
          "execution_count": 182
        }
      ]
    },
    {
      "cell_type": "code",
      "source": [
        "days = [i for i in range(0, len(testY4))]\n",
        "plt.plot(days, testY4, color='r', label='Y')\n",
        "plt.plot(days, testPredict4, color='g', label='Ypredict')\n",
        "plt.xlabel(\"Days\")\n",
        "plt.ylabel(\"Price\")\n",
        "plt.title(\"Stock Price\")\n",
        "plt.legend()\n",
        "plt.show()"
      ],
      "metadata": {
        "colab": {
          "base_uri": "https://localhost:8080/",
          "height": 295
        },
        "id": "4a-IVNMQQtqQ",
        "outputId": "95fe0d94-bb9e-4fa8-fd4c-cef45ff3ff4e"
      },
      "execution_count": null,
      "outputs": [
        {
          "output_type": "display_data",
          "data": {
            "text/plain": [
              "<Figure size 432x288 with 1 Axes>"
            ],
            "image/png": "[encoded data removed]"
          },
          "metadata": {
            "needs_background": "light"
          }
        }
      ]
    },
    {
      "cell_type": "markdown",
      "source": [
        "GRU(Gated Recurrent Unit)"
      ],
      "metadata": {
        "id": "vGRjqqezRIGZ"
      }
    },
    {
      "cell_type": "code",
      "source": [
        "model5 = Sequential()\n",
        "model5.add(InputLayer((trainX.shape[1], trainX.shape[2])))\n",
        "model5.add(GRU(200))\n",
        "model5.add(Dense(trainY.shape[1]))\n",
        "model5.compile(optimizer='adam', loss='mse')\n",
        "model5.summary()"
      ],
      "metadata": {
        "colab": {
          "base_uri": "https://localhost:8080/"
        },
        "id": "F-Xn1YJzRHBc",
        "outputId": "a0bd2483-ab8b-4a8e-aaf9-08f95f4858ee"
      },
      "execution_count": null,
      "outputs": [
        {
          "output_type": "stream",
          "name": "stdout",
          "text": [
            "Model: \"sequential_24\"\n",
            "_________________________________________________________________\n",
            " Layer (type)                Output Shape              Param #   \n",
            "=================================================================\n",
            " gru_2 (GRU)                 (None, 200)               124200    \n",
            "                                                                 \n",
            " dense_23 (Dense)            (None, 1)                 201       \n",
            "                                                                 \n",
            "=================================================================\n",
            "Total params: 124,401\n",
            "Trainable params: 124,401\n",
            "Non-trainable params: 0\n",
            "_________________________________________________________________\n"
          ]
        }
      ]
    },
    {
      "cell_type": "code",
      "source": [
        "model5.fit(trainX, trainY, validation_split = 0.2, epochs = 50)"
      ],
      "metadata": {
        "colab": {
          "base_uri": "https://localhost:8080/"
        },
        "id": "bR9U9BJiRATb",
        "outputId": "a94efa88-e068-460b-cd56-129a8a159c3e"
      },
      "execution_count": null,
      "outputs": [
        {
          "output_type": "stream",
          "name": "stdout",
          "text": [
            "Epoch 1/50\n",
            "103/103 [==============================] - 6s 35ms/step - loss: 6.2346e-04 - val_loss: 1.4771e-04\n",
            "Epoch 2/50\n",
            "103/103 [==============================] - 3s 31ms/step - loss: 1.5605e-05 - val_loss: 1.4897e-04\n",
            "Epoch 3/50\n",
            "103/103 [==============================] - 3s 30ms/step - loss: 1.6147e-05 - val_loss: 1.3630e-04\n",
            "Epoch 4/50\n",
            "103/103 [==============================] - 3s 30ms/step - loss: 1.5244e-05 - val_loss: 1.7361e-04\n",
            "Epoch 5/50\n",
            "103/103 [==============================] - 3s 30ms/step - loss: 1.5416e-05 - val_loss: 1.5044e-04\n",
            "Epoch 6/50\n",
            "103/103 [==============================] - 3s 31ms/step - loss: 1.5323e-05 - val_loss: 1.2723e-04\n",
            "Epoch 7/50\n",
            "103/103 [==============================] - 3s 31ms/step - loss: 1.4396e-05 - val_loss: 1.2892e-04\n",
            "Epoch 8/50\n",
            "103/103 [==============================] - 3s 30ms/step - loss: 1.4807e-05 - val_loss: 1.3416e-04\n",
            "Epoch 9/50\n",
            "103/103 [==============================] - 3s 31ms/step - loss: 1.3908e-05 - val_loss: 1.1258e-04\n",
            "Epoch 10/50\n",
            "103/103 [==============================] - 3s 31ms/step - loss: 1.3867e-05 - val_loss: 1.1249e-04\n",
            "Epoch 11/50\n",
            "103/103 [==============================] - 3s 31ms/step - loss: 1.4351e-05 - val_loss: 2.2109e-04\n",
            "Epoch 12/50\n",
            "103/103 [==============================] - 3s 31ms/step - loss: 1.6316e-05 - val_loss: 1.2421e-04\n",
            "Epoch 13/50\n",
            "103/103 [==============================] - 3s 32ms/step - loss: 1.6685e-05 - val_loss: 3.3792e-04\n",
            "Epoch 14/50\n",
            "103/103 [==============================] - 3s 32ms/step - loss: 1.3816e-05 - val_loss: 2.7265e-04\n",
            "Epoch 15/50\n",
            "103/103 [==============================] - 3s 32ms/step - loss: 1.4119e-05 - val_loss: 1.7531e-04\n",
            "Epoch 16/50\n",
            "103/103 [==============================] - 3s 31ms/step - loss: 1.3573e-05 - val_loss: 9.9681e-05\n",
            "Epoch 17/50\n",
            "103/103 [==============================] - 3s 31ms/step - loss: 1.8673e-05 - val_loss: 1.2141e-04\n",
            "Epoch 18/50\n",
            "103/103 [==============================] - 3s 31ms/step - loss: 1.2259e-05 - val_loss: 2.0761e-04\n",
            "Epoch 19/50\n",
            "103/103 [==============================] - 3s 34ms/step - loss: 1.2392e-05 - val_loss: 1.0934e-04\n",
            "Epoch 20/50\n",
            "103/103 [==============================] - 3s 32ms/step - loss: 1.1213e-05 - val_loss: 9.6478e-05\n",
            "Epoch 21/50\n",
            "103/103 [==============================] - 3s 31ms/step - loss: 1.3143e-05 - val_loss: 9.5029e-05\n",
            "Epoch 22/50\n",
            "103/103 [==============================] - 3s 31ms/step - loss: 1.1337e-05 - val_loss: 8.9485e-05\n",
            "Epoch 23/50\n",
            "103/103 [==============================] - 3s 31ms/step - loss: 1.1751e-05 - val_loss: 9.6006e-05\n",
            "Epoch 24/50\n",
            "103/103 [==============================] - 3s 31ms/step - loss: 1.3784e-05 - val_loss: 8.8054e-05\n",
            "Epoch 25/50\n",
            "103/103 [==============================] - 3s 31ms/step - loss: 1.2755e-05 - val_loss: 1.3677e-04\n",
            "Epoch 26/50\n",
            "103/103 [==============================] - 3s 31ms/step - loss: 1.1926e-05 - val_loss: 8.7452e-05\n",
            "Epoch 27/50\n",
            "103/103 [==============================] - 3s 31ms/step - loss: 1.1113e-05 - val_loss: 8.5691e-05\n",
            "Epoch 28/50\n",
            "103/103 [==============================] - 3s 32ms/step - loss: 1.0513e-05 - val_loss: 9.0112e-05\n",
            "Epoch 29/50\n",
            "103/103 [==============================] - 3s 31ms/step - loss: 1.1193e-05 - val_loss: 8.4174e-05\n",
            "Epoch 30/50\n",
            "103/103 [==============================] - 3s 30ms/step - loss: 1.2383e-05 - val_loss: 8.4322e-05\n",
            "Epoch 31/50\n",
            "103/103 [==============================] - 3s 31ms/step - loss: 1.3158e-05 - val_loss: 1.0896e-04\n",
            "Epoch 32/50\n",
            "103/103 [==============================] - 3s 31ms/step - loss: 1.1781e-05 - val_loss: 1.0896e-04\n",
            "Epoch 33/50\n",
            "103/103 [==============================] - 3s 31ms/step - loss: 1.0426e-05 - val_loss: 1.1590e-04\n",
            "Epoch 34/50\n",
            "103/103 [==============================] - 3s 31ms/step - loss: 1.1439e-05 - val_loss: 8.1671e-05\n",
            "Epoch 35/50\n",
            "103/103 [==============================] - 3s 31ms/step - loss: 1.2091e-05 - val_loss: 7.9966e-05\n",
            "Epoch 36/50\n",
            "103/103 [==============================] - 3s 31ms/step - loss: 1.1476e-05 - val_loss: 1.3641e-04\n",
            "Epoch 37/50\n",
            "103/103 [==============================] - 3s 31ms/step - loss: 1.2755e-05 - val_loss: 1.2469e-04\n",
            "Epoch 38/50\n",
            "103/103 [==============================] - 3s 31ms/step - loss: 1.0950e-05 - val_loss: 8.2330e-05\n",
            "Epoch 39/50\n",
            "103/103 [==============================] - 3s 31ms/step - loss: 1.2012e-05 - val_loss: 9.9495e-05\n",
            "Epoch 40/50\n",
            "103/103 [==============================] - 3s 31ms/step - loss: 1.1214e-05 - val_loss: 8.4046e-05\n",
            "Epoch 41/50\n",
            "103/103 [==============================] - 3s 30ms/step - loss: 1.0066e-05 - val_loss: 1.6437e-04\n",
            "Epoch 42/50\n",
            "103/103 [==============================] - 3s 32ms/step - loss: 1.3185e-05 - val_loss: 9.7987e-05\n",
            "Epoch 43/50\n",
            "103/103 [==============================] - 3s 31ms/step - loss: 1.0356e-05 - val_loss: 8.3879e-05\n",
            "Epoch 44/50\n",
            "103/103 [==============================] - 3s 32ms/step - loss: 9.5389e-06 - val_loss: 9.3553e-05\n",
            "Epoch 45/50\n",
            "103/103 [==============================] - 3s 31ms/step - loss: 1.3139e-05 - val_loss: 8.1582e-05\n",
            "Epoch 46/50\n",
            "103/103 [==============================] - 3s 32ms/step - loss: 9.2218e-06 - val_loss: 8.7397e-05\n",
            "Epoch 47/50\n",
            "103/103 [==============================] - 3s 31ms/step - loss: 9.7001e-06 - val_loss: 7.8022e-05\n",
            "Epoch 48/50\n",
            "103/103 [==============================] - 3s 32ms/step - loss: 1.1584e-05 - val_loss: 1.1316e-04\n",
            "Epoch 49/50\n",
            "103/103 [==============================] - 3s 32ms/step - loss: 1.1152e-05 - val_loss: 7.8066e-05\n",
            "Epoch 50/50\n",
            "103/103 [==============================] - 3s 32ms/step - loss: 1.0285e-05 - val_loss: 8.3967e-05\n"
          ]
        },
        {
          "output_type": "execute_result",
          "data": {
            "text/plain": [
              "<keras.callbacks.History at 0x7fd7d4ea0cd0>"
            ]
          },
          "metadata": {},
          "execution_count": 185
        }
      ]
    },
    {
      "cell_type": "code",
      "source": [
        "trainPredict5 = model5.predict(trainX)\n",
        "testPredict5 = model5.predict(testX)\n",
        "trainPredict5 = scaler2.inverse_transform(trainPredict5)\n",
        "testPredict5 = scaler2.inverse_transform(testPredict5)\n",
        "trainY5 = scaler2.inverse_transform(trainY.reshape(-1, 1))\n",
        "testY5 = scaler2.inverse_transform(testY.reshape(-1, 1))"
      ],
      "metadata": {
        "id": "n-yfAzmrRnrN"
      },
      "execution_count": null,
      "outputs": []
    },
    {
      "cell_type": "code",
      "source": [
        "mape5 = np.mean(np.abs((testY5 - testPredict5)/testY5))*100\n",
        "mape5"
      ],
      "metadata": {
        "colab": {
          "base_uri": "https://localhost:8080/"
        },
        "id": "kuyy4_n8Rz3v",
        "outputId": "76e4ff34-b2d2-4abe-c57e-6e8dc79062c1"
      },
      "execution_count": null,
      "outputs": [
        {
          "output_type": "execute_result",
          "data": {
            "text/plain": [
              "1.3356250996796177"
            ]
          },
          "metadata": {},
          "execution_count": 187
        }
      ]
    },
    {
      "cell_type": "code",
      "source": [
        "days = [i for i in range(0, len(testY5))]\n",
        "plt.plot(days, testY5, color='r', label='Y')\n",
        "plt.plot(days, testPredict5, color='g', label='Ypredict')\n",
        "plt.xlabel(\"Days\")\n",
        "plt.ylabel(\"Price\")\n",
        "plt.title(\"Stock Price\")\n",
        "plt.legend()\n",
        "plt.show()"
      ],
      "metadata": {
        "colab": {
          "base_uri": "https://localhost:8080/",
          "height": 295
        },
        "id": "3x_57tyQR_SL",
        "outputId": "ee4e3ad6-b920-42aa-fa9b-501bf7064e4f"
      },
      "execution_count": null,
      "outputs": [
        {
          "output_type": "display_data",
          "data": {
            "text/plain": [
              "<Figure size 432x288 with 1 Axes>"
            ],
            "image/png": "[encoded data removed]"
          },
          "metadata": {
            "needs_background": "light"
          }
        }
      ]
    },
    {
      "cell_type": "markdown",
      "source": [
        "Bidirection GRU"
      ],
      "metadata": {
        "id": "eHQBZ2-4RmaF"
      }
    },
    {
      "cell_type": "code",
      "source": [
        "model6 = Sequential()\n",
        "model6.add(InputLayer((trainX.shape[1], trainX.shape[2])))\n",
        "model6.add(Bidirectional(GRU(200)))\n",
        "model6.add(Dense(trainY.shape[1]))\n",
        "model6.compile(optimizer='adam', loss='mse')\n",
        "model6.summary()"
      ],
      "metadata": {
        "colab": {
          "base_uri": "https://localhost:8080/"
        },
        "id": "1dcyJDkgRh7A",
        "outputId": "60048ce5-503f-4347-e246-186182ae627a"
      },
      "execution_count": null,
      "outputs": [
        {
          "output_type": "stream",
          "name": "stdout",
          "text": [
            "Model: \"sequential_3\"\n",
            "_________________________________________________________________\n",
            " Layer (type)                Output Shape              Param #   \n",
            "=================================================================\n",
            " bidirectional (Bidirectiona  (None, 400)              248400    \n",
            " l)                                                              \n",
            "                                                                 \n",
            " dense_3 (Dense)             (None, 1)                 401       \n",
            "                                                                 \n",
            "=================================================================\n",
            "Total params: 248,801\n",
            "Trainable params: 248,801\n",
            "Non-trainable params: 0\n",
            "_________________________________________________________________\n"
          ]
        }
      ]
    },
    {
      "cell_type": "code",
      "source": [
        "model6.fit(trainX, trainY, validation_split = 0.2, epochs = 50)"
      ],
      "metadata": {
        "colab": {
          "base_uri": "https://localhost:8080/"
        },
        "id": "XrRHeDtFRxz5",
        "outputId": "058afbee-f775-474c-f0d2-c7eab586b4d5"
      },
      "execution_count": null,
      "outputs": [
        {
          "output_type": "stream",
          "name": "stdout",
          "text": [
            "Epoch 1/50\n",
            "103/103 [==============================] - 50s 115ms/step - loss: 7.0564e-04 - val_loss: 4.0517e-04\n",
            "Epoch 2/50\n",
            "103/103 [==============================] - 9s 89ms/step - loss: 2.8502e-05 - val_loss: 3.0406e-04\n",
            "Epoch 3/50\n",
            "103/103 [==============================] - 9s 87ms/step - loss: 2.5280e-05 - val_loss: 2.7212e-04\n",
            "Epoch 4/50\n",
            "103/103 [==============================] - 7s 64ms/step - loss: 2.5096e-05 - val_loss: 3.1622e-04\n",
            "Epoch 5/50\n",
            "103/103 [==============================] - 10s 99ms/step - loss: 2.2819e-05 - val_loss: 2.5454e-04\n",
            "Epoch 6/50\n",
            "103/103 [==============================] - 9s 90ms/step - loss: 2.1052e-05 - val_loss: 1.8372e-04\n",
            "Epoch 7/50\n",
            "103/103 [==============================] - 9s 90ms/step - loss: 1.8635e-05 - val_loss: 2.8628e-04\n",
            "Epoch 8/50\n",
            "103/103 [==============================] - 9s 88ms/step - loss: 1.6349e-05 - val_loss: 1.5206e-04\n",
            "Epoch 9/50\n",
            "103/103 [==============================] - 6s 55ms/step - loss: 1.5188e-05 - val_loss: 1.6180e-04\n",
            "Epoch 10/50\n",
            "103/103 [==============================] - 6s 57ms/step - loss: 1.6238e-05 - val_loss: 2.8509e-04\n",
            "Epoch 11/50\n",
            "103/103 [==============================] - 7s 66ms/step - loss: 1.9989e-05 - val_loss: 2.3089e-04\n",
            "Epoch 12/50\n",
            "103/103 [==============================] - 12s 114ms/step - loss: 1.4841e-05 - val_loss: 1.4284e-04\n",
            "Epoch 13/50\n",
            "103/103 [==============================] - 11s 107ms/step - loss: 1.5166e-05 - val_loss: 1.1574e-04\n",
            "Epoch 14/50\n",
            "103/103 [==============================] - 10s 98ms/step - loss: 1.4323e-05 - val_loss: 1.3692e-04\n",
            "Epoch 15/50\n",
            "103/103 [==============================] - 10s 99ms/step - loss: 1.4321e-05 - val_loss: 1.1043e-04\n",
            "Epoch 16/50\n",
            "103/103 [==============================] - 7s 71ms/step - loss: 1.3710e-05 - val_loss: 1.5013e-04\n",
            "Epoch 17/50\n",
            "103/103 [==============================] - 6s 54ms/step - loss: 1.7480e-05 - val_loss: 1.0175e-04\n",
            "Epoch 18/50\n",
            "103/103 [==============================] - 6s 55ms/step - loss: 1.3359e-05 - val_loss: 1.6403e-04\n",
            "Epoch 19/50\n",
            "103/103 [==============================] - 6s 55ms/step - loss: 1.4562e-05 - val_loss: 1.3782e-04\n",
            "Epoch 20/50\n",
            "103/103 [==============================] - 6s 55ms/step - loss: 1.3141e-05 - val_loss: 9.6434e-05\n",
            "Epoch 21/50\n",
            "103/103 [==============================] - 6s 56ms/step - loss: 1.4123e-05 - val_loss: 1.6122e-04\n",
            "Epoch 22/50\n",
            "103/103 [==============================] - 6s 56ms/step - loss: 1.2463e-05 - val_loss: 1.0810e-04\n",
            "Epoch 23/50\n",
            "103/103 [==============================] - 6s 55ms/step - loss: 1.2784e-05 - val_loss: 2.3079e-04\n",
            "Epoch 24/50\n",
            "103/103 [==============================] - 6s 54ms/step - loss: 1.3233e-05 - val_loss: 2.4754e-04\n",
            "Epoch 25/50\n",
            "103/103 [==============================] - 6s 55ms/step - loss: 1.1954e-05 - val_loss: 1.0292e-04\n",
            "Epoch 26/50\n",
            "103/103 [==============================] - 6s 55ms/step - loss: 1.1505e-05 - val_loss: 1.0950e-04\n",
            "Epoch 27/50\n",
            "103/103 [==============================] - 6s 55ms/step - loss: 1.5095e-05 - val_loss: 9.7606e-05\n",
            "Epoch 28/50\n",
            "103/103 [==============================] - 6s 55ms/step - loss: 1.2870e-05 - val_loss: 1.2912e-04\n",
            "Epoch 29/50\n",
            "103/103 [==============================] - 6s 57ms/step - loss: 1.1397e-05 - val_loss: 9.9222e-05\n",
            "Epoch 30/50\n",
            "103/103 [==============================] - 6s 61ms/step - loss: 1.5948e-05 - val_loss: 1.1915e-04\n",
            "Epoch 31/50\n",
            "103/103 [==============================] - 6s 55ms/step - loss: 1.2248e-05 - val_loss: 8.7275e-05\n",
            "Epoch 32/50\n",
            "103/103 [==============================] - 6s 61ms/step - loss: 2.0234e-05 - val_loss: 1.8249e-04\n",
            "Epoch 33/50\n",
            "103/103 [==============================] - 6s 55ms/step - loss: 1.8770e-05 - val_loss: 1.0293e-04\n",
            "Epoch 34/50\n",
            "103/103 [==============================] - 6s 55ms/step - loss: 1.0852e-05 - val_loss: 8.6550e-05\n",
            "Epoch 35/50\n",
            "103/103 [==============================] - 6s 55ms/step - loss: 1.1559e-05 - val_loss: 8.8555e-05\n",
            "Epoch 36/50\n",
            "103/103 [==============================] - 6s 55ms/step - loss: 1.1355e-05 - val_loss: 8.4614e-05\n",
            "Epoch 37/50\n",
            "103/103 [==============================] - 6s 54ms/step - loss: 1.5487e-05 - val_loss: 1.4394e-04\n",
            "Epoch 38/50\n",
            "103/103 [==============================] - 6s 55ms/step - loss: 1.2472e-05 - val_loss: 9.7446e-05\n",
            "Epoch 39/50\n",
            "103/103 [==============================] - 6s 55ms/step - loss: 1.1442e-05 - val_loss: 9.1858e-05\n",
            "Epoch 40/50\n",
            "103/103 [==============================] - 6s 55ms/step - loss: 1.1470e-05 - val_loss: 1.9355e-04\n",
            "Epoch 41/50\n",
            "103/103 [==============================] - 6s 57ms/step - loss: 1.0907e-05 - val_loss: 8.9369e-05\n",
            "Epoch 42/50\n",
            "103/103 [==============================] - 6s 55ms/step - loss: 1.3566e-05 - val_loss: 9.0826e-05\n",
            "Epoch 43/50\n",
            "103/103 [==============================] - 6s 56ms/step - loss: 1.1438e-05 - val_loss: 8.5552e-05\n",
            "Epoch 44/50\n",
            "103/103 [==============================] - 6s 55ms/step - loss: 1.1831e-05 - val_loss: 8.6719e-05\n",
            "Epoch 45/50\n",
            "103/103 [==============================] - 6s 55ms/step - loss: 9.8423e-06 - val_loss: 8.4627e-05\n",
            "Epoch 46/50\n",
            "103/103 [==============================] - 6s 55ms/step - loss: 1.0672e-05 - val_loss: 1.2200e-04\n",
            "Epoch 47/50\n",
            "103/103 [==============================] - 6s 56ms/step - loss: 1.0456e-05 - val_loss: 8.7759e-05\n",
            "Epoch 48/50\n",
            "103/103 [==============================] - 6s 55ms/step - loss: 1.1578e-05 - val_loss: 7.9654e-05\n",
            "Epoch 49/50\n",
            "103/103 [==============================] - 6s 62ms/step - loss: 1.0578e-05 - val_loss: 9.5674e-05\n",
            "Epoch 50/50\n",
            "103/103 [==============================] - 6s 62ms/step - loss: 1.1769e-05 - val_loss: 3.0135e-04\n"
          ]
        },
        {
          "output_type": "execute_result",
          "data": {
            "text/plain": [
              "<keras.callbacks.History at 0x7f45a1227d10>"
            ]
          },
          "metadata": {},
          "execution_count": 22
        }
      ]
    },
    {
      "cell_type": "code",
      "source": [
        "trainPredict6 = model6.predict(trainX)\n",
        "testPredict6 = model6.predict(testX)\n",
        "trainPredict6 = scaler2.inverse_transform(trainPredict6)\n",
        "testPredict6 = scaler2.inverse_transform(testPredict6)\n",
        "trainY6 = scaler2.inverse_transform(trainY.reshape(-1, 1))\n",
        "testY6 = scaler2.inverse_transform(testY.reshape(-1, 1))"
      ],
      "metadata": {
        "id": "Ej3OFkQdR3h1"
      },
      "execution_count": null,
      "outputs": []
    },
    {
      "cell_type": "code",
      "source": [
        "mape6 = np.mean(np.abs((testY6 - testPredict6)/testY6))*100\n",
        "mape6"
      ],
      "metadata": {
        "colab": {
          "base_uri": "https://localhost:8080/"
        },
        "id": "6aeee7dgSI7i",
        "outputId": "f3c5fd62-2321-4054-d35b-c18f11a2ab27"
      },
      "execution_count": null,
      "outputs": [
        {
          "output_type": "execute_result",
          "data": {
            "text/plain": [
              "2.4484582881928696"
            ]
          },
          "metadata": {},
          "execution_count": 24
        }
      ]
    },
    {
      "cell_type": "code",
      "source": [
        "days = [i for i in range(0, len(testY6))]\n",
        "plt.plot(days, testY6, color='r', label='Y')\n",
        "plt.plot(days, testPredict6, color='g', label='Ypredict')\n",
        "plt.xlabel(\"Days\")\n",
        "plt.ylabel(\"Price\")\n",
        "plt.title(\"Stock Price\")\n",
        "plt.legend()\n",
        "plt.show()"
      ],
      "metadata": {
        "colab": {
          "base_uri": "https://localhost:8080/",
          "height": 295
        },
        "id": "EcnlL7mkSWJl",
        "outputId": "bf1a3af6-bae2-4b20-ff9d-1e8e050a96f7"
      },
      "execution_count": null,
      "outputs": [
        {
          "output_type": "display_data",
          "data": {
            "text/plain": [
              "<Figure size 432x288 with 1 Axes>"
            ],
            "image/png": "[encoded data removed]"
          },
          "metadata": {
            "needs_background": "light"
          }
        }
      ]
    }
  ]
}