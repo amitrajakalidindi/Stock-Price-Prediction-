{
 "cells": [
  {
   "cell_type": "markdown",
   "metadata": {
    "id": "MNG-nK7pcR-7"
   },
   "source": [
    "Stock price prediction using multivariate data(Open, High, Low, Close, Volume)"
   ]
  },
  {
   "cell_type": "code",
   "execution_count": 1,
   "metadata": {
    "id": "AlGegvYifLdD"
   },
   "outputs": [],
   "source": [
    "import pandas as pd\n",
    "import numpy as np\n",
    "import math\n",
    "import matplotlib.pyplot as plt\n",
    "import tensorflow_addons as tfa\n",
    "from sklearn.preprocessing import MinMaxScaler\n",
    "from sklearn.metrics import mean_squared_error\n",
    "from sklearn.metrics import mean_absolute_error\n",
    "from tensorflow.keras.models import Sequential\n",
    "from tensorflow.keras.layers import *"
   ]
  },
  {
   "cell_type": "code",
   "execution_count": 2,
   "metadata": {
    "colab": {
     "base_uri": "https://localhost:8080/",
     "height": 206
    },
    "id": "-mUM_cSThsZN",
    "outputId": "e7dd1f2d-20c0-4bce-c6b5-f075eac7d259"
   },
   "outputs": [
    {
     "data": {
      "text/html": [
       "<div>\n",
       "<style scoped>\n",
       "    .dataframe tbody tr th:only-of-type {\n",
       "        vertical-align: middle;\n",
       "    }\n",
       "\n",
       "    .dataframe tbody tr th {\n",
       "        vertical-align: top;\n",
       "    }\n",
       "\n",
       "    .dataframe thead th {\n",
       "        text-align: right;\n",
       "    }\n",
       "</style>\n",
       "<table border=\"1\" class=\"dataframe\">\n",
       "  <thead>\n",
       "    <tr style=\"text-align: right;\">\n",
       "      <th></th>\n",
       "      <th>Date</th>\n",
       "      <th>Open</th>\n",
       "      <th>High</th>\n",
       "      <th>Low</th>\n",
       "      <th>Close</th>\n",
       "      <th>Adj Close</th>\n",
       "      <th>Volume</th>\n",
       "    </tr>\n",
       "  </thead>\n",
       "  <tbody>\n",
       "    <tr>\n",
       "      <th>0</th>\n",
       "      <td>2003-01-01</td>\n",
       "      <td>59.987499</td>\n",
       "      <td>61.974998</td>\n",
       "      <td>59.987499</td>\n",
       "      <td>61.087502</td>\n",
       "      <td>45.255402</td>\n",
       "      <td>6027072.0</td>\n",
       "    </tr>\n",
       "    <tr>\n",
       "      <th>1</th>\n",
       "      <td>2003-01-02</td>\n",
       "      <td>61.525002</td>\n",
       "      <td>62.924999</td>\n",
       "      <td>57.912498</td>\n",
       "      <td>58.299999</td>\n",
       "      <td>43.190327</td>\n",
       "      <td>5325328.0</td>\n",
       "    </tr>\n",
       "    <tr>\n",
       "      <th>2</th>\n",
       "      <td>2003-01-03</td>\n",
       "      <td>60.000000</td>\n",
       "      <td>61.049999</td>\n",
       "      <td>58.500000</td>\n",
       "      <td>59.012501</td>\n",
       "      <td>43.718178</td>\n",
       "      <td>4198040.0</td>\n",
       "    </tr>\n",
       "    <tr>\n",
       "      <th>3</th>\n",
       "      <td>2003-01-06</td>\n",
       "      <td>59.924999</td>\n",
       "      <td>60.187500</td>\n",
       "      <td>56.875000</td>\n",
       "      <td>57.262501</td>\n",
       "      <td>42.421741</td>\n",
       "      <td>4121520.0</td>\n",
       "    </tr>\n",
       "    <tr>\n",
       "      <th>4</th>\n",
       "      <td>2003-01-07</td>\n",
       "      <td>58.000000</td>\n",
       "      <td>58.500000</td>\n",
       "      <td>56.062500</td>\n",
       "      <td>56.599998</td>\n",
       "      <td>41.930927</td>\n",
       "      <td>2650800.0</td>\n",
       "    </tr>\n",
       "  </tbody>\n",
       "</table>\n",
       "</div>"
      ],
      "text/plain": [
       "         Date       Open       High        Low      Close  Adj Close  \\\n",
       "0  2003-01-01  59.987499  61.974998  59.987499  61.087502  45.255402   \n",
       "1  2003-01-02  61.525002  62.924999  57.912498  58.299999  43.190327   \n",
       "2  2003-01-03  60.000000  61.049999  58.500000  59.012501  43.718178   \n",
       "3  2003-01-06  59.924999  60.187500  56.875000  57.262501  42.421741   \n",
       "4  2003-01-07  58.000000  58.500000  56.062500  56.599998  41.930927   \n",
       "\n",
       "      Volume  \n",
       "0  6027072.0  \n",
       "1  5325328.0  \n",
       "2  4198040.0  \n",
       "3  4121520.0  \n",
       "4  2650800.0  "
      ]
     },
     "execution_count": 2,
     "metadata": {},
     "output_type": "execute_result"
    }
   ],
   "source": [
    "df = pd.read_csv('TCS.csv')\n",
    "df.head()"
   ]
  },
  {
   "cell_type": "code",
   "execution_count": 3,
   "metadata": {
    "colab": {
     "base_uri": "https://localhost:8080/",
     "height": 206
    },
    "id": "Xvx1UV5Qh6C2",
    "outputId": "13aad46d-1a25-4699-9a78-190c151b54b8"
   },
   "outputs": [
    {
     "data": {
      "text/html": [
       "<div>\n",
       "<style scoped>\n",
       "    .dataframe tbody tr th:only-of-type {\n",
       "        vertical-align: middle;\n",
       "    }\n",
       "\n",
       "    .dataframe tbody tr th {\n",
       "        vertical-align: top;\n",
       "    }\n",
       "\n",
       "    .dataframe thead th {\n",
       "        text-align: right;\n",
       "    }\n",
       "</style>\n",
       "<table border=\"1\" class=\"dataframe\">\n",
       "  <thead>\n",
       "    <tr style=\"text-align: right;\">\n",
       "      <th></th>\n",
       "      <th>Date</th>\n",
       "      <th>Open</th>\n",
       "      <th>High</th>\n",
       "      <th>Low</th>\n",
       "      <th>Close</th>\n",
       "      <th>Volume</th>\n",
       "    </tr>\n",
       "  </thead>\n",
       "  <tbody>\n",
       "    <tr>\n",
       "      <th>0</th>\n",
       "      <td>2003-01-01</td>\n",
       "      <td>59.987499</td>\n",
       "      <td>61.974998</td>\n",
       "      <td>59.987499</td>\n",
       "      <td>61.087502</td>\n",
       "      <td>6027072.0</td>\n",
       "    </tr>\n",
       "    <tr>\n",
       "      <th>1</th>\n",
       "      <td>2003-01-02</td>\n",
       "      <td>61.525002</td>\n",
       "      <td>62.924999</td>\n",
       "      <td>57.912498</td>\n",
       "      <td>58.299999</td>\n",
       "      <td>5325328.0</td>\n",
       "    </tr>\n",
       "    <tr>\n",
       "      <th>2</th>\n",
       "      <td>2003-01-03</td>\n",
       "      <td>60.000000</td>\n",
       "      <td>61.049999</td>\n",
       "      <td>58.500000</td>\n",
       "      <td>59.012501</td>\n",
       "      <td>4198040.0</td>\n",
       "    </tr>\n",
       "    <tr>\n",
       "      <th>3</th>\n",
       "      <td>2003-01-06</td>\n",
       "      <td>59.924999</td>\n",
       "      <td>60.187500</td>\n",
       "      <td>56.875000</td>\n",
       "      <td>57.262501</td>\n",
       "      <td>4121520.0</td>\n",
       "    </tr>\n",
       "    <tr>\n",
       "      <th>4</th>\n",
       "      <td>2003-01-07</td>\n",
       "      <td>58.000000</td>\n",
       "      <td>58.500000</td>\n",
       "      <td>56.062500</td>\n",
       "      <td>56.599998</td>\n",
       "      <td>2650800.0</td>\n",
       "    </tr>\n",
       "  </tbody>\n",
       "</table>\n",
       "</div>"
      ],
      "text/plain": [
       "         Date       Open       High        Low      Close     Volume\n",
       "0  2003-01-01  59.987499  61.974998  59.987499  61.087502  6027072.0\n",
       "1  2003-01-02  61.525002  62.924999  57.912498  58.299999  5325328.0\n",
       "2  2003-01-03  60.000000  61.049999  58.500000  59.012501  4198040.0\n",
       "3  2003-01-06  59.924999  60.187500  56.875000  57.262501  4121520.0\n",
       "4  2003-01-07  58.000000  58.500000  56.062500  56.599998  2650800.0"
      ]
     },
     "execution_count": 3,
     "metadata": {},
     "output_type": "execute_result"
    }
   ],
   "source": [
    "df = df[['Date', 'Open', 'High', 'Low', 'Close', 'Volume']]\n",
    "df.dropna(inplace = True)\n",
    "df.head()"
   ]
  },
  {
   "cell_type": "code",
   "execution_count": 4,
   "metadata": {
    "colab": {
     "base_uri": "https://localhost:8080/",
     "height": 351
    },
    "id": "eu5sOQXhi8hH",
    "outputId": "216fb724-1eff-4e43-d62f-7c3ad3a7d6b6"
   },
   "outputs": [
    {
     "data": {
      "text/plain": [
       "<AxesSubplot:xlabel='Date'>"
      ]
     },
     "execution_count": 4,
     "metadata": {},
     "output_type": "execute_result"
    },
    {
     "data": {
      "image/png": "[encoded data removed]",
      "text/plain": [
       "<Figure size 720x360 with 1 Axes>"
      ]
     },
     "metadata": {
      "needs_background": "light"
     },
     "output_type": "display_data"
    }
   ],
   "source": [
    "df.plot(x='Date', y='Close', kind='line', figsize=(10, 5))"
   ]
  },
  {
   "cell_type": "code",
   "execution_count": 5,
   "metadata": {
    "colab": {
     "base_uri": "https://localhost:8080/",
     "height": 206
    },
    "id": "AM-5iw8Zpv86",
    "outputId": "26ef9e38-2325-4a9e-ebde-67b9188809fa"
   },
   "outputs": [
    {
     "data": {
      "text/html": [
       "<div>\n",
       "<style scoped>\n",
       "    .dataframe tbody tr th:only-of-type {\n",
       "        vertical-align: middle;\n",
       "    }\n",
       "\n",
       "    .dataframe tbody tr th {\n",
       "        vertical-align: top;\n",
       "    }\n",
       "\n",
       "    .dataframe thead th {\n",
       "        text-align: right;\n",
       "    }\n",
       "</style>\n",
       "<table border=\"1\" class=\"dataframe\">\n",
       "  <thead>\n",
       "    <tr style=\"text-align: right;\">\n",
       "      <th></th>\n",
       "      <th>Open</th>\n",
       "      <th>High</th>\n",
       "      <th>Low</th>\n",
       "      <th>Close</th>\n",
       "      <th>Volume</th>\n",
       "    </tr>\n",
       "  </thead>\n",
       "  <tbody>\n",
       "    <tr>\n",
       "      <th>0</th>\n",
       "      <td>59.987499</td>\n",
       "      <td>61.974998</td>\n",
       "      <td>59.987499</td>\n",
       "      <td>61.087502</td>\n",
       "      <td>6027072.0</td>\n",
       "    </tr>\n",
       "    <tr>\n",
       "      <th>1</th>\n",
       "      <td>61.525002</td>\n",
       "      <td>62.924999</td>\n",
       "      <td>57.912498</td>\n",
       "      <td>58.299999</td>\n",
       "      <td>5325328.0</td>\n",
       "    </tr>\n",
       "    <tr>\n",
       "      <th>2</th>\n",
       "      <td>60.000000</td>\n",
       "      <td>61.049999</td>\n",
       "      <td>58.500000</td>\n",
       "      <td>59.012501</td>\n",
       "      <td>4198040.0</td>\n",
       "    </tr>\n",
       "    <tr>\n",
       "      <th>3</th>\n",
       "      <td>59.924999</td>\n",
       "      <td>60.187500</td>\n",
       "      <td>56.875000</td>\n",
       "      <td>57.262501</td>\n",
       "      <td>4121520.0</td>\n",
       "    </tr>\n",
       "    <tr>\n",
       "      <th>4</th>\n",
       "      <td>58.000000</td>\n",
       "      <td>58.500000</td>\n",
       "      <td>56.062500</td>\n",
       "      <td>56.599998</td>\n",
       "      <td>2650800.0</td>\n",
       "    </tr>\n",
       "  </tbody>\n",
       "</table>\n",
       "</div>"
      ],
      "text/plain": [
       "        Open       High        Low      Close     Volume\n",
       "0  59.987499  61.974998  59.987499  61.087502  6027072.0\n",
       "1  61.525002  62.924999  57.912498  58.299999  5325328.0\n",
       "2  60.000000  61.049999  58.500000  59.012501  4198040.0\n",
       "3  59.924999  60.187500  56.875000  57.262501  4121520.0\n",
       "4  58.000000  58.500000  56.062500  56.599998  2650800.0"
      ]
     },
     "execution_count": 5,
     "metadata": {},
     "output_type": "execute_result"
    }
   ],
   "source": [
    "dates = df.Date\n",
    "df.drop(['Date'], inplace = True, axis = 1)\n",
    "df.head()"
   ]
  },
  {
   "cell_type": "code",
   "execution_count": 6,
   "metadata": {
    "id": "gQSH_F5MrCTb"
   },
   "outputs": [],
   "source": [
    "scaler = MinMaxScaler(feature_range=(0,1))\n",
    "data = scaler.fit_transform(df)"
   ]
  },
  {
   "cell_type": "code",
   "execution_count": 7,
   "metadata": {
    "colab": {
     "base_uri": "https://localhost:8080/"
    },
    "id": "uG5IpU7e68ON",
    "outputId": "e1da5677-32ed-4c99-87d7-5f92cacfe352"
   },
   "outputs": [
    {
     "data": {
      "text/plain": [
       "array([[0.00579649],\n",
       "       [0.0050847 ],\n",
       "       [0.00526664],\n",
       "       ...,\n",
       "       [0.9366727 ],\n",
       "       [0.93364675],\n",
       "       [0.94361826]])"
      ]
     },
     "execution_count": 7,
     "metadata": {},
     "output_type": "execute_result"
    }
   ],
   "source": [
    "scaler2 = MinMaxScaler(feature_range=(0,1))\n",
    "scaler2.fit_transform(df[['Close']])"
   ]
  },
  {
   "cell_type": "code",
   "execution_count": 8,
   "metadata": {
    "colab": {
     "base_uri": "https://localhost:8080/"
    },
    "id": "xnItwygzWO5G",
    "outputId": "c9e641b2-2775-488f-f902-2084afa3a474"
   },
   "outputs": [
    {
     "data": {
      "text/plain": [
       "(4715, 5)"
      ]
     },
     "execution_count": 8,
     "metadata": {},
     "output_type": "execute_result"
    }
   ],
   "source": [
    "data.shape"
   ]
  },
  {
   "cell_type": "code",
   "execution_count": 9,
   "metadata": {
    "id": "EHf9S2S05MOp"
   },
   "outputs": [],
   "source": [
    "trainSize = int(len(data)*0.8)\n",
    "testSize = len(data) - trainSize\n",
    "train = data[0:trainSize]\n",
    "test = data[trainSize:len(data)]"
   ]
  },
  {
   "cell_type": "code",
   "execution_count": 10,
   "metadata": {
    "id": "qnkLzVxh09VJ"
   },
   "outputs": [],
   "source": [
    "def modify(data, pastDays = 14):\n",
    "  X = []\n",
    "  Y = []\n",
    "  for i in range(pastDays, len(data)):\n",
    "      X.append(data[i - pastDays: i, 0: data.shape[1]])\n",
    "      Y.append(data[i : i + 1, 3])\n",
    "  return np.array(X), np.array(Y)"
   ]
  },
  {
   "cell_type": "code",
   "execution_count": 11,
   "metadata": {
    "id": "SrCav3Wz6_s3"
   },
   "outputs": [],
   "source": [
    "trainX, trainY = modify(train)\n",
    "testX, testY = modify(test)"
   ]
  },
  {
   "cell_type": "markdown",
   "metadata": {
    "id": "uSlibsFOJE2d"
   },
   "source": [
    "RNN"
   ]
  },
  {
   "cell_type": "code",
   "execution_count": 12,
   "metadata": {
    "colab": {
     "base_uri": "https://localhost:8080/"
    },
    "id": "Q1rg19nVI-IW",
    "outputId": "36216240-5705-47cd-ac0a-1671f27e70a7"
   },
   "outputs": [
    {
     "name": "stdout",
     "output_type": "stream",
     "text": [
      "Model: \"sequential\"\n",
      "_________________________________________________________________\n",
      " Layer (type)                Output Shape              Param #   \n",
      "=================================================================\n",
      " simple_rnn (SimpleRNN)      (None, 14, 150)           23400     \n",
      "                                                                 \n",
      " simple_rnn_1 (SimpleRNN)    (None, 14, 150)           45150     \n",
      "                                                                 \n",
      " simple_rnn_2 (SimpleRNN)    (None, 150)               45150     \n",
      "                                                                 \n",
      " dense (Dense)               (None, 1)                 151       \n",
      "                                                                 \n",
      "=================================================================\n",
      "Total params: 113,851\n",
      "Trainable params: 113,851\n",
      "Non-trainable params: 0\n",
      "_________________________________________________________________\n"
     ]
    }
   ],
   "source": [
    "model1 = Sequential()\n",
    "model1.add(InputLayer((trainX.shape[1], trainX.shape[2])))\n",
    "model1.add(SimpleRNN(150, return_sequences = True))\n",
    "model1.add(SimpleRNN(150, return_sequences = True))\n",
    "model1.add(SimpleRNN(150))\n",
    "model1.add(Dense(trainY.shape[1]))\n",
    "model1.compile(optimizer='adam', loss='mse')\n",
    "model1.summary()"
   ]
  },
  {
   "cell_type": "code",
   "execution_count": 13,
   "metadata": {
    "colab": {
     "base_uri": "https://localhost:8080/"
    },
    "id": "yzyIzyCeJMmQ",
    "outputId": "dec487fe-2257-4eb5-8493-a9ea1b29abfc"
   },
   "outputs": [
    {
     "name": "stdout",
     "output_type": "stream",
     "text": [
      "Epoch 1/50\n",
      "94/94 [==============================] - 28s 78ms/step - loss: 0.0899 - val_loss: 1.8447e-04\n",
      "Epoch 2/50\n",
      "94/94 [==============================] - 4s 39ms/step - loss: 1.8112e-04 - val_loss: 2.4131e-04\n",
      "Epoch 3/50\n",
      "94/94 [==============================] - 3s 37ms/step - loss: 1.1671e-04 - val_loss: 2.5731e-04\n",
      "Epoch 4/50\n",
      "94/94 [==============================] - 4s 37ms/step - loss: 1.0918e-04 - val_loss: 1.5852e-04\n",
      "Epoch 5/50\n",
      "94/94 [==============================] - 3s 36ms/step - loss: 8.5864e-05 - val_loss: 2.3407e-04\n",
      "Epoch 6/50\n",
      "94/94 [==============================] - 4s 38ms/step - loss: 7.4005e-05 - val_loss: 1.6872e-04\n",
      "Epoch 7/50\n",
      "94/94 [==============================] - 3s 32ms/step - loss: 8.5206e-05 - val_loss: 1.1218e-04\n",
      "Epoch 8/50\n",
      "94/94 [==============================] - 2s 17ms/step - loss: 1.0055e-04 - val_loss: 1.2868e-04\n",
      "Epoch 9/50\n",
      "94/94 [==============================] - 2s 16ms/step - loss: 8.4473e-05 - val_loss: 9.2243e-05\n",
      "Epoch 10/50\n",
      "94/94 [==============================] - 2s 17ms/step - loss: 7.2740e-05 - val_loss: 1.3270e-04\n",
      "Epoch 11/50\n",
      "94/94 [==============================] - 2s 17ms/step - loss: 9.1237e-05 - val_loss: 2.8046e-04\n",
      "Epoch 12/50\n",
      "94/94 [==============================] - 2s 17ms/step - loss: 1.0058e-04 - val_loss: 1.8696e-04\n",
      "Epoch 13/50\n",
      "94/94 [==============================] - 2s 16ms/step - loss: 1.8553e-04 - val_loss: 5.5848e-04\n",
      "Epoch 14/50\n",
      "94/94 [==============================] - 2s 17ms/step - loss: 7.8634e-05 - val_loss: 8.8623e-05\n",
      "Epoch 15/50\n",
      "94/94 [==============================] - 1s 16ms/step - loss: 9.2850e-05 - val_loss: 9.1328e-05\n",
      "Epoch 16/50\n",
      "94/94 [==============================] - 1s 16ms/step - loss: 1.0034e-04 - val_loss: 7.6466e-05\n",
      "Epoch 17/50\n",
      "94/94 [==============================] - 1s 16ms/step - loss: 9.0328e-05 - val_loss: 2.7347e-04\n",
      "Epoch 18/50\n",
      "94/94 [==============================] - 1s 16ms/step - loss: 3.0319e-04 - val_loss: 9.6878e-04\n",
      "Epoch 19/50\n",
      "94/94 [==============================] - 2s 16ms/step - loss: 1.9552e-04 - val_loss: 6.9341e-05\n",
      "Epoch 20/50\n",
      "94/94 [==============================] - 1s 16ms/step - loss: 1.6226e-04 - val_loss: 7.3878e-05\n",
      "Epoch 21/50\n",
      "94/94 [==============================] - 1s 16ms/step - loss: 1.9548e-04 - val_loss: 6.2976e-05\n",
      "Epoch 22/50\n",
      "94/94 [==============================] - 2s 16ms/step - loss: 8.8658e-05 - val_loss: 1.5755e-04\n",
      "Epoch 23/50\n",
      "94/94 [==============================] - 2s 16ms/step - loss: 2.3001e-04 - val_loss: 9.2317e-05\n",
      "Epoch 24/50\n",
      "94/94 [==============================] - 2s 16ms/step - loss: 1.2352e-04 - val_loss: 6.3213e-05\n",
      "Epoch 25/50\n",
      "94/94 [==============================] - 2s 16ms/step - loss: 7.1424e-04 - val_loss: 0.0063\n",
      "Epoch 26/50\n",
      "94/94 [==============================] - 1s 16ms/step - loss: 2.1349e-04 - val_loss: 6.9949e-05\n",
      "Epoch 27/50\n",
      "94/94 [==============================] - 2s 16ms/step - loss: 1.2799e-04 - val_loss: 3.3044e-04\n",
      "Epoch 28/50\n",
      "94/94 [==============================] - 1s 16ms/step - loss: 9.5372e-05 - val_loss: 1.0331e-04\n",
      "Epoch 29/50\n",
      "94/94 [==============================] - 2s 17ms/step - loss: 5.4646e-05 - val_loss: 1.8636e-04\n",
      "Epoch 30/50\n",
      "94/94 [==============================] - 2s 16ms/step - loss: 1.2052e-04 - val_loss: 3.9620e-04\n",
      "Epoch 31/50\n",
      "94/94 [==============================] - 2s 17ms/step - loss: 1.5356e-04 - val_loss: 1.5064e-04\n",
      "Epoch 32/50\n",
      "94/94 [==============================] - 2s 16ms/step - loss: 3.0720e-04 - val_loss: 1.0787e-04\n",
      "Epoch 33/50\n",
      "94/94 [==============================] - 2s 17ms/step - loss: 7.2461e-05 - val_loss: 2.2888e-04\n",
      "Epoch 34/50\n",
      "94/94 [==============================] - 1s 16ms/step - loss: 8.0317e-05 - val_loss: 9.0576e-05\n",
      "Epoch 35/50\n",
      "94/94 [==============================] - 2s 16ms/step - loss: 5.4129e-05 - val_loss: 6.4816e-05\n",
      "Epoch 36/50\n",
      "94/94 [==============================] - 2s 16ms/step - loss: 8.4768e-05 - val_loss: 2.4230e-04\n",
      "Epoch 37/50\n",
      "94/94 [==============================] - 1s 16ms/step - loss: 1.5084e-04 - val_loss: 8.5618e-05\n",
      "Epoch 38/50\n",
      "94/94 [==============================] - 2s 23ms/step - loss: 4.9345e-05 - val_loss: 3.3253e-04\n",
      "Epoch 39/50\n",
      "94/94 [==============================] - 2s 23ms/step - loss: 1.3647e-04 - val_loss: 5.6334e-05\n",
      "Epoch 40/50\n",
      "94/94 [==============================] - 2s 17ms/step - loss: 9.9566e-05 - val_loss: 2.9044e-04\n",
      "Epoch 41/50\n",
      "94/94 [==============================] - 2s 22ms/step - loss: 8.7236e-05 - val_loss: 2.5000e-04\n",
      "Epoch 42/50\n",
      "94/94 [==============================] - 2s 17ms/step - loss: 7.2729e-05 - val_loss: 3.6685e-04\n",
      "Epoch 43/50\n",
      "94/94 [==============================] - 2s 22ms/step - loss: 1.0940e-04 - val_loss: 9.5411e-05\n",
      "Epoch 44/50\n",
      "94/94 [==============================] - 2s 18ms/step - loss: 1.2058e-04 - val_loss: 8.3805e-05\n",
      "Epoch 45/50\n",
      "94/94 [==============================] - 2s 16ms/step - loss: 4.2166e-05 - val_loss: 1.1106e-04\n",
      "Epoch 46/50\n",
      "94/94 [==============================] - 2s 20ms/step - loss: 1.6633e-04 - val_loss: 5.0773e-04\n",
      "Epoch 47/50\n",
      "94/94 [==============================] - 2s 17ms/step - loss: 7.5768e-05 - val_loss: 1.4683e-04\n",
      "Epoch 48/50\n",
      "94/94 [==============================] - 2s 18ms/step - loss: 4.8706e-05 - val_loss: 3.6767e-05\n",
      "Epoch 49/50\n",
      "94/94 [==============================] - 2s 17ms/step - loss: 2.9173e-05 - val_loss: 5.6139e-05\n",
      "Epoch 50/50\n",
      "94/94 [==============================] - 2s 20ms/step - loss: 3.1867e-05 - val_loss: 7.8087e-05\n"
     ]
    },
    {
     "data": {
      "text/plain": [
       "<keras.callbacks.History at 0x216ee508c10>"
      ]
     },
     "execution_count": 13,
     "metadata": {},
     "output_type": "execute_result"
    }
   ],
   "source": [
    "model1.fit(trainX, trainY, validation_split = 0.2, epochs = 50)"
   ]
  },
  {
   "cell_type": "code",
   "execution_count": 14,
   "metadata": {
    "colab": {
     "base_uri": "https://localhost:8080/"
    },
    "id": "XMxITShKKY1m",
    "outputId": "420c10d8-167d-4afa-8ca1-de65cc395dc6"
   },
   "outputs": [
    {
     "name": "stdout",
     "output_type": "stream",
     "text": [
      "INFO:tensorflow:Assets written to: RNN(Multi)\\assets\n"
     ]
    }
   ],
   "source": [
    "model1.save('RNN(Multi)')"
   ]
  },
  {
   "cell_type": "markdown",
   "metadata": {
    "id": "6HLNTNT3FqB1"
   },
   "source": [
    "Classic LSTM"
   ]
  },
  {
   "cell_type": "code",
   "execution_count": 15,
   "metadata": {
    "colab": {
     "base_uri": "https://localhost:8080/"
    },
    "id": "YrK6_RTR8Joj",
    "outputId": "ccdfa5ae-faa4-4989-feea-12bb4847dadd"
   },
   "outputs": [
    {
     "name": "stdout",
     "output_type": "stream",
     "text": [
      "Model: \"sequential_1\"\n",
      "_________________________________________________________________\n",
      " Layer (type)                Output Shape              Param #   \n",
      "=================================================================\n",
      " lstm (LSTM)                 (None, 14, 150)           93600     \n",
      "                                                                 \n",
      " lstm_1 (LSTM)               (None, 14, 150)           180600    \n",
      "                                                                 \n",
      " lstm_2 (LSTM)               (None, 150)               180600    \n",
      "                                                                 \n",
      " dense_1 (Dense)             (None, 1)                 151       \n",
      "                                                                 \n",
      "=================================================================\n",
      "Total params: 454,951\n",
      "Trainable params: 454,951\n",
      "Non-trainable params: 0\n",
      "_________________________________________________________________\n"
     ]
    }
   ],
   "source": [
    "model2 = Sequential()\n",
    "model2.add(InputLayer((trainX.shape[1], trainX.shape[2])))\n",
    "model2.add(LSTM(150, return_sequences = True))\n",
    "model2.add(LSTM(150, return_sequences = True))\n",
    "model2.add(LSTM(150))\n",
    "model2.add(Dense(trainY.shape[1]))\n",
    "model2.compile(optimizer='adam', loss='mse')\n",
    "model2.summary()"
   ]
  },
  {
   "cell_type": "code",
   "execution_count": 16,
   "metadata": {
    "colab": {
     "base_uri": "https://localhost:8080/"
    },
    "id": "DLCcQBiADlBw",
    "outputId": "597895e0-8e20-4009-d63e-e6154c792b72"
   },
   "outputs": [
    {
     "name": "stdout",
     "output_type": "stream",
     "text": [
      "Epoch 1/50\n",
      "94/94 [==============================] - 45s 285ms/step - loss: 4.0968e-04 - val_loss: 1.2163e-04\n",
      "Epoch 2/50\n",
      "94/94 [==============================] - 11s 117ms/step - loss: 4.0103e-05 - val_loss: 2.3577e-04\n",
      "Epoch 3/50\n",
      "94/94 [==============================] - 11s 116ms/step - loss: 4.2301e-05 - val_loss: 1.3051e-04\n",
      "Epoch 4/50\n",
      "94/94 [==============================] - 11s 114ms/step - loss: 4.0696e-05 - val_loss: 2.2979e-04\n",
      "Epoch 5/50\n",
      "94/94 [==============================] - 10s 112ms/step - loss: 4.5898e-05 - val_loss: 2.0262e-04\n",
      "Epoch 6/50\n",
      "94/94 [==============================] - 11s 113ms/step - loss: 3.9595e-05 - val_loss: 1.2419e-04\n",
      "Epoch 7/50\n",
      "94/94 [==============================] - 11s 115ms/step - loss: 4.4577e-05 - val_loss: 1.0700e-04\n",
      "Epoch 8/50\n",
      "94/94 [==============================] - 10s 111ms/step - loss: 4.6249e-05 - val_loss: 1.0653e-04\n",
      "Epoch 9/50\n",
      "94/94 [==============================] - 10s 111ms/step - loss: 3.3574e-05 - val_loss: 9.3404e-05\n",
      "Epoch 10/50\n",
      "94/94 [==============================] - 10s 110ms/step - loss: 3.2204e-05 - val_loss: 1.0414e-04\n",
      "Epoch 11/50\n",
      "94/94 [==============================] - 12s 125ms/step - loss: 4.3224e-05 - val_loss: 2.9309e-04\n",
      "Epoch 12/50\n",
      "94/94 [==============================] - 11s 114ms/step - loss: 3.6293e-05 - val_loss: 8.4482e-05\n",
      "Epoch 13/50\n",
      "94/94 [==============================] - 11s 115ms/step - loss: 3.0503e-05 - val_loss: 2.8907e-04\n",
      "Epoch 14/50\n",
      "94/94 [==============================] - 11s 116ms/step - loss: 3.7150e-05 - val_loss: 7.9137e-05\n",
      "Epoch 15/50\n",
      "94/94 [==============================] - 12s 124ms/step - loss: 3.0874e-05 - val_loss: 7.5049e-05\n",
      "Epoch 16/50\n",
      "94/94 [==============================] - 11s 118ms/step - loss: 2.7919e-05 - val_loss: 2.4766e-04\n",
      "Epoch 17/50\n",
      "94/94 [==============================] - 12s 126ms/step - loss: 2.8907e-05 - val_loss: 7.0474e-05\n",
      "Epoch 18/50\n",
      "94/94 [==============================] - 11s 113ms/step - loss: 2.1616e-05 - val_loss: 1.1608e-04\n",
      "Epoch 19/50\n",
      "94/94 [==============================] - 11s 115ms/step - loss: 3.1637e-05 - val_loss: 8.0480e-05\n",
      "Epoch 20/50\n",
      "94/94 [==============================] - 10s 110ms/step - loss: 2.6781e-05 - val_loss: 7.3365e-05\n",
      "Epoch 21/50\n",
      "94/94 [==============================] - 11s 114ms/step - loss: 2.7966e-05 - val_loss: 6.7046e-05\n",
      "Epoch 22/50\n",
      "94/94 [==============================] - 11s 118ms/step - loss: 2.1092e-05 - val_loss: 1.2795e-04\n",
      "Epoch 23/50\n",
      "94/94 [==============================] - 11s 119ms/step - loss: 1.9861e-05 - val_loss: 5.6696e-05\n",
      "Epoch 24/50\n",
      "94/94 [==============================] - 11s 114ms/step - loss: 1.8042e-05 - val_loss: 5.3094e-05\n",
      "Epoch 25/50\n",
      "94/94 [==============================] - 11s 121ms/step - loss: 2.2937e-05 - val_loss: 9.6182e-05\n",
      "Epoch 26/50\n",
      "94/94 [==============================] - 12s 124ms/step - loss: 2.1336e-05 - val_loss: 2.1799e-04\n",
      "Epoch 27/50\n",
      "94/94 [==============================] - 12s 127ms/step - loss: 2.2237e-05 - val_loss: 5.5689e-05\n",
      "Epoch 28/50\n",
      "94/94 [==============================] - 11s 122ms/step - loss: 1.7909e-05 - val_loss: 8.7735e-05\n",
      "Epoch 29/50\n",
      "94/94 [==============================] - 12s 124ms/step - loss: 1.4364e-05 - val_loss: 7.1710e-05\n",
      "Epoch 30/50\n",
      "94/94 [==============================] - 11s 119ms/step - loss: 1.6737e-05 - val_loss: 1.7078e-04\n",
      "Epoch 31/50\n",
      "94/94 [==============================] - 11s 122ms/step - loss: 2.0201e-05 - val_loss: 3.8944e-05\n",
      "Epoch 32/50\n",
      "94/94 [==============================] - 11s 119ms/step - loss: 1.4614e-05 - val_loss: 8.7143e-05\n",
      "Epoch 33/50\n",
      "94/94 [==============================] - 12s 124ms/step - loss: 1.8470e-05 - val_loss: 5.6161e-05\n",
      "Epoch 34/50\n",
      "94/94 [==============================] - 11s 122ms/step - loss: 1.6180e-05 - val_loss: 1.3146e-04\n",
      "Epoch 35/50\n",
      "94/94 [==============================] - 12s 129ms/step - loss: 1.3485e-05 - val_loss: 5.7303e-05\n",
      "Epoch 36/50\n",
      "94/94 [==============================] - 11s 118ms/step - loss: 1.4666e-05 - val_loss: 8.6724e-05\n",
      "Epoch 37/50\n",
      "94/94 [==============================] - 12s 122ms/step - loss: 1.4102e-05 - val_loss: 1.3030e-04\n",
      "Epoch 38/50\n",
      "94/94 [==============================] - 11s 120ms/step - loss: 1.3880e-05 - val_loss: 3.0331e-05\n",
      "Epoch 39/50\n",
      "94/94 [==============================] - 11s 121ms/step - loss: 1.3694e-05 - val_loss: 4.5380e-05\n",
      "Epoch 40/50\n",
      "94/94 [==============================] - 11s 120ms/step - loss: 1.2539e-05 - val_loss: 2.8253e-05\n",
      "Epoch 41/50\n",
      "94/94 [==============================] - 12s 124ms/step - loss: 1.2843e-05 - val_loss: 3.7763e-05\n",
      "Epoch 42/50\n",
      "94/94 [==============================] - 11s 115ms/step - loss: 1.1746e-05 - val_loss: 4.1281e-05\n",
      "Epoch 43/50\n",
      "94/94 [==============================] - 12s 127ms/step - loss: 1.4015e-05 - val_loss: 8.5410e-05\n",
      "Epoch 44/50\n",
      "94/94 [==============================] - 11s 113ms/step - loss: 1.0363e-05 - val_loss: 2.4443e-05\n",
      "Epoch 45/50\n",
      "94/94 [==============================] - 11s 115ms/step - loss: 1.4502e-05 - val_loss: 2.5407e-05\n",
      "Epoch 46/50\n",
      "94/94 [==============================] - 12s 124ms/step - loss: 1.5583e-05 - val_loss: 2.6347e-05\n",
      "Epoch 47/50\n",
      "94/94 [==============================] - 12s 127ms/step - loss: 1.3842e-05 - val_loss: 3.7039e-05\n",
      "Epoch 48/50\n",
      "94/94 [==============================] - 11s 120ms/step - loss: 1.2191e-05 - val_loss: 7.2189e-05\n",
      "Epoch 49/50\n",
      "94/94 [==============================] - 12s 132ms/step - loss: 1.5475e-05 - val_loss: 3.2419e-05\n",
      "Epoch 50/50\n",
      "94/94 [==============================] - 12s 125ms/step - loss: 9.0846e-06 - val_loss: 2.4245e-05\n"
     ]
    },
    {
     "data": {
      "text/plain": [
       "<keras.callbacks.History at 0x216f2b99820>"
      ]
     },
     "execution_count": 16,
     "metadata": {},
     "output_type": "execute_result"
    }
   ],
   "source": [
    "model2.fit(trainX, trainY, validation_split = 0.2, epochs = 50)"
   ]
  },
  {
   "cell_type": "code",
   "execution_count": 17,
   "metadata": {
    "colab": {
     "base_uri": "https://localhost:8080/"
    },
    "id": "1EoZKsfkLXH5",
    "outputId": "9738044a-c2b5-4d8a-e2b2-ac5dd854a814"
   },
   "outputs": [
    {
     "name": "stderr",
     "output_type": "stream",
     "text": [
      "WARNING:absl:Found untraced functions such as lstm_cell_layer_call_fn, lstm_cell_layer_call_and_return_conditional_losses, lstm_cell_1_layer_call_fn, lstm_cell_1_layer_call_and_return_conditional_losses, lstm_cell_2_layer_call_fn while saving (showing 5 of 6). These functions will not be directly callable after loading.\n"
     ]
    },
    {
     "name": "stdout",
     "output_type": "stream",
     "text": [
      "INFO:tensorflow:Assets written to: LSTM(Multi)\\assets\n"
     ]
    },
    {
     "name": "stderr",
     "output_type": "stream",
     "text": [
      "INFO:tensorflow:Assets written to: LSTM(Multi)\\assets\n",
      "WARNING:absl:<keras.layers.recurrent.LSTMCell object at 0x00000216F3E13190> has the same name 'LSTMCell' as a built-in Keras object. Consider renaming <class 'keras.layers.recurrent.LSTMCell'> to avoid naming conflicts when loading with `tf.keras.models.load_model`. If renaming is not possible, pass the object in the `custom_objects` parameter of the load function.\n",
      "WARNING:absl:<keras.layers.recurrent.LSTMCell object at 0x00000216F3DD44F0> has the same name 'LSTMCell' as a built-in Keras object. Consider renaming <class 'keras.layers.recurrent.LSTMCell'> to avoid naming conflicts when loading with `tf.keras.models.load_model`. If renaming is not possible, pass the object in the `custom_objects` parameter of the load function.\n",
      "WARNING:absl:<keras.layers.recurrent.LSTMCell object at 0x00000216ED444AF0> has the same name 'LSTMCell' as a built-in Keras object. Consider renaming <class 'keras.layers.recurrent.LSTMCell'> to avoid naming conflicts when loading with `tf.keras.models.load_model`. If renaming is not possible, pass the object in the `custom_objects` parameter of the load function.\n"
     ]
    }
   ],
   "source": [
    "model2.save('LSTM(Multi)')"
   ]
  },
  {
   "cell_type": "markdown",
   "metadata": {
    "id": "bf7GoafTMuF1"
   },
   "source": [
    "LSTM Peephole"
   ]
  },
  {
   "cell_type": "code",
   "execution_count": 18,
   "metadata": {
    "colab": {
     "base_uri": "https://localhost:8080/"
    },
    "id": "CMBfWAw7MmD6",
    "outputId": "e5a3c30d-1613-46c4-9699-1a22e7696a46"
   },
   "outputs": [
    {
     "name": "stdout",
     "output_type": "stream",
     "text": [
      "Model: \"sequential_2\"\n",
      "_________________________________________________________________\n",
      " Layer (type)                Output Shape              Param #   \n",
      "=================================================================\n",
      " rnn (RNN)                   (None, 14, 150)           94050     \n",
      "                                                                 \n",
      " rnn_1 (RNN)                 (None, 14, 150)           181050    \n",
      "                                                                 \n",
      " rnn_2 (RNN)                 (None, 150)               181050    \n",
      "                                                                 \n",
      " dense_2 (Dense)             (None, 1)                 151       \n",
      "                                                                 \n",
      "=================================================================\n",
      "Total params: 456,301\n",
      "Trainable params: 456,301\n",
      "Non-trainable params: 0\n",
      "_________________________________________________________________\n"
     ]
    }
   ],
   "source": [
    "model3 = Sequential()\n",
    "model3.add(InputLayer((trainX.shape[1], trainX.shape[2])))\n",
    "model3.add(RNN(tfa.rnn.PeepholeLSTMCell(150), return_sequences = True))\n",
    "model3.add(RNN(tfa.rnn.PeepholeLSTMCell(150), return_sequences = True))\n",
    "model3.add(RNN(tfa.rnn.PeepholeLSTMCell(150)))\n",
    "model3.add(Dense(trainY.shape[1]))\n",
    "model3.compile(optimizer='adam', loss='mse')\n",
    "model3.summary()"
   ]
  },
  {
   "cell_type": "code",
   "execution_count": 19,
   "metadata": {
    "colab": {
     "background_save": true,
     "base_uri": "https://localhost:8080/"
    },
    "id": "imUyvlS2GRxs",
    "outputId": "47e851f2-5380-4fec-c6e6-b26259239d78"
   },
   "outputs": [
    {
     "name": "stdout",
     "output_type": "stream",
     "text": [
      "Epoch 1/50\n",
      "94/94 [==============================] - 92s 60ms/step - loss: 5.8774e-04 - val_loss: 1.6870e-04\n",
      "Epoch 2/50\n",
      "94/94 [==============================] - 5s 52ms/step - loss: 3.1932e-05 - val_loss: 1.1204e-04\n",
      "Epoch 3/50\n",
      "94/94 [==============================] - 5s 50ms/step - loss: 3.2681e-05 - val_loss: 1.5235e-04\n",
      "Epoch 4/50\n",
      "94/94 [==============================] - 5s 50ms/step - loss: 3.6359e-05 - val_loss: 1.1956e-04\n",
      "Epoch 5/50\n",
      "94/94 [==============================] - 5s 52ms/step - loss: 3.7383e-05 - val_loss: 1.0353e-04\n",
      "Epoch 6/50\n",
      "94/94 [==============================] - 5s 50ms/step - loss: 4.0393e-05 - val_loss: 3.8017e-04\n",
      "Epoch 7/50\n",
      "94/94 [==============================] - 5s 54ms/step - loss: 5.0702e-05 - val_loss: 1.0703e-04\n",
      "Epoch 8/50\n",
      "94/94 [==============================] - 5s 52ms/step - loss: 3.0056e-05 - val_loss: 1.4862e-04\n",
      "Epoch 9/50\n",
      "94/94 [==============================] - 5s 51ms/step - loss: 4.0830e-05 - val_loss: 1.0226e-04\n",
      "Epoch 10/50\n",
      "94/94 [==============================] - 5s 51ms/step - loss: 3.2238e-05 - val_loss: 9.0536e-05\n",
      "Epoch 11/50\n",
      "94/94 [==============================] - 6s 59ms/step - loss: 3.8045e-05 - val_loss: 1.1725e-04\n",
      "Epoch 12/50\n",
      "94/94 [==============================] - 6s 60ms/step - loss: 3.1507e-05 - val_loss: 9.2307e-05\n",
      "Epoch 13/50\n",
      "94/94 [==============================] - 6s 62ms/step - loss: 3.1863e-05 - val_loss: 3.0528e-04\n",
      "Epoch 14/50\n",
      "94/94 [==============================] - 6s 66ms/step - loss: 2.7607e-05 - val_loss: 1.3358e-04\n",
      "Epoch 15/50\n",
      "94/94 [==============================] - 7s 71ms/step - loss: 3.0249e-05 - val_loss: 9.7165e-05\n",
      "Epoch 16/50\n",
      "94/94 [==============================] - 5s 55ms/step - loss: 2.4647e-05 - val_loss: 1.4821e-04\n",
      "Epoch 17/50\n",
      "94/94 [==============================] - 5s 52ms/step - loss: 2.4997e-05 - val_loss: 8.6569e-05\n",
      "Epoch 18/50\n",
      "94/94 [==============================] - 5s 52ms/step - loss: 2.5360e-05 - val_loss: 8.1799e-05\n",
      "Epoch 19/50\n",
      "94/94 [==============================] - 5s 51ms/step - loss: 2.3057e-05 - val_loss: 7.7004e-05\n",
      "Epoch 20/50\n",
      "94/94 [==============================] - 5s 50ms/step - loss: 2.1697e-05 - val_loss: 7.0169e-05\n",
      "Epoch 21/50\n",
      "94/94 [==============================] - 5s 55ms/step - loss: 2.8936e-05 - val_loss: 6.1772e-05\n",
      "Epoch 22/50\n",
      "94/94 [==============================] - 5s 57ms/step - loss: 2.0622e-05 - val_loss: 6.4800e-05\n",
      "Epoch 23/50\n",
      "94/94 [==============================] - 5s 56ms/step - loss: 1.9536e-05 - val_loss: 1.6746e-04\n",
      "Epoch 24/50\n",
      "94/94 [==============================] - 5s 52ms/step - loss: 2.0167e-05 - val_loss: 7.8921e-05\n",
      "Epoch 25/50\n",
      "94/94 [==============================] - 5s 50ms/step - loss: 1.7807e-05 - val_loss: 6.3215e-05\n",
      "Epoch 26/50\n",
      "94/94 [==============================] - 5s 54ms/step - loss: 2.2357e-05 - val_loss: 5.9597e-05\n",
      "Epoch 27/50\n",
      "94/94 [==============================] - 5s 54ms/step - loss: 2.0072e-05 - val_loss: 1.4435e-04\n",
      "Epoch 28/50\n",
      "94/94 [==============================] - 5s 56ms/step - loss: 1.6498e-05 - val_loss: 9.5454e-05\n",
      "Epoch 29/50\n",
      "94/94 [==============================] - 5s 56ms/step - loss: 2.1490e-05 - val_loss: 1.4838e-04\n",
      "Epoch 30/50\n",
      "94/94 [==============================] - 5s 56ms/step - loss: 2.3796e-05 - val_loss: 4.2175e-05\n",
      "Epoch 31/50\n",
      "94/94 [==============================] - 5s 55ms/step - loss: 1.9328e-05 - val_loss: 5.7768e-05\n",
      "Epoch 32/50\n",
      "94/94 [==============================] - 5s 56ms/step - loss: 1.4516e-05 - val_loss: 5.0549e-05\n",
      "Epoch 33/50\n",
      "94/94 [==============================] - 5s 50ms/step - loss: 1.6292e-05 - val_loss: 3.7359e-05\n",
      "Epoch 34/50\n",
      "94/94 [==============================] - 5s 50ms/step - loss: 1.6750e-05 - val_loss: 3.8034e-05\n",
      "Epoch 35/50\n",
      "94/94 [==============================] - 5s 49ms/step - loss: 1.7834e-05 - val_loss: 5.4193e-05\n",
      "Epoch 36/50\n",
      "94/94 [==============================] - 5s 49ms/step - loss: 1.8123e-05 - val_loss: 7.8029e-05\n",
      "Epoch 37/50\n",
      "94/94 [==============================] - 5s 49ms/step - loss: 1.4992e-05 - val_loss: 5.4580e-05\n",
      "Epoch 38/50\n",
      "94/94 [==============================] - 5s 48ms/step - loss: 1.3117e-05 - val_loss: 3.4539e-05\n",
      "Epoch 39/50\n",
      "94/94 [==============================] - 5s 49ms/step - loss: 1.3068e-05 - val_loss: 3.1556e-05\n",
      "Epoch 40/50\n",
      "94/94 [==============================] - 5s 49ms/step - loss: 1.2742e-05 - val_loss: 3.1615e-05\n",
      "Epoch 41/50\n",
      "94/94 [==============================] - 5s 50ms/step - loss: 1.5364e-05 - val_loss: 3.6456e-05\n",
      "Epoch 42/50\n",
      "94/94 [==============================] - 5s 49ms/step - loss: 1.5791e-05 - val_loss: 1.9018e-04\n",
      "Epoch 43/50\n",
      "94/94 [==============================] - 5s 48ms/step - loss: 1.4236e-05 - val_loss: 2.7785e-05\n",
      "Epoch 44/50\n",
      "94/94 [==============================] - 5s 48ms/step - loss: 1.0626e-05 - val_loss: 2.6868e-05\n",
      "Epoch 45/50\n",
      "94/94 [==============================] - 5s 49ms/step - loss: 1.2971e-05 - val_loss: 6.8618e-05\n",
      "Epoch 46/50\n",
      "94/94 [==============================] - 5s 49ms/step - loss: 1.4944e-05 - val_loss: 2.6460e-05\n",
      "Epoch 47/50\n",
      "94/94 [==============================] - 5s 49ms/step - loss: 1.3737e-05 - val_loss: 7.7771e-05\n",
      "Epoch 48/50\n",
      "94/94 [==============================] - 5s 49ms/step - loss: 1.2815e-05 - val_loss: 2.4641e-05\n",
      "Epoch 49/50\n",
      "94/94 [==============================] - 5s 48ms/step - loss: 1.0519e-05 - val_loss: 2.3768e-05\n",
      "Epoch 50/50\n",
      "94/94 [==============================] - 5s 48ms/step - loss: 1.0321e-05 - val_loss: 6.4302e-05\n"
     ]
    },
    {
     "data": {
      "text/plain": [
       "<keras.callbacks.History at 0x21680fdb040>"
      ]
     },
     "execution_count": 19,
     "metadata": {},
     "output_type": "execute_result"
    }
   ],
   "source": [
    "model3.fit(trainX, trainY, validation_split = 0.2, epochs = 50)"
   ]
  },
  {
   "cell_type": "code",
   "execution_count": 20,
   "metadata": {
    "colab": {
     "background_save": true
    },
    "id": "Nfnre6bLN2tC",
    "outputId": "2d6e642e-057e-49da-d2f8-c6b8c90af342"
   },
   "outputs": [
    {
     "name": "stdout",
     "output_type": "stream",
     "text": [
      "INFO:tensorflow:Assets written to: PeepholeLSTM(Multi)\\assets\n"
     ]
    },
    {
     "name": "stderr",
     "output_type": "stream",
     "text": [
      "INFO:tensorflow:Assets written to: PeepholeLSTM(Multi)\\assets\n",
      "WARNING:absl:<tensorflow_addons.rnn.peephole_lstm_cell.PeepholeLSTMCell object at 0x00000216FED580D0> has the same name 'PeepholeLSTMCell' as a built-in Keras object. Consider renaming <class 'tensorflow_addons.rnn.peephole_lstm_cell.PeepholeLSTMCell'> to avoid naming conflicts when loading with `tf.keras.models.load_model`. If renaming is not possible, pass the object in the `custom_objects` parameter of the load function.\n",
      "WARNING:absl:<tensorflow_addons.rnn.peephole_lstm_cell.PeepholeLSTMCell object at 0x00000216820CDA00> has the same name 'PeepholeLSTMCell' as a built-in Keras object. Consider renaming <class 'tensorflow_addons.rnn.peephole_lstm_cell.PeepholeLSTMCell'> to avoid naming conflicts when loading with `tf.keras.models.load_model`. If renaming is not possible, pass the object in the `custom_objects` parameter of the load function.\n",
      "WARNING:absl:<tensorflow_addons.rnn.peephole_lstm_cell.PeepholeLSTMCell object at 0x0000021682125A00> has the same name 'PeepholeLSTMCell' as a built-in Keras object. Consider renaming <class 'tensorflow_addons.rnn.peephole_lstm_cell.PeepholeLSTMCell'> to avoid naming conflicts when loading with `tf.keras.models.load_model`. If renaming is not possible, pass the object in the `custom_objects` parameter of the load function.\n"
     ]
    }
   ],
   "source": [
    "model3.save('PeepholeLSTM(Multi)')"
   ]
  },
  {
   "cell_type": "markdown",
   "metadata": {
    "id": "5SBjSIw1PC9l"
   },
   "source": [
    "Bidirectional LSTM"
   ]
  },
  {
   "cell_type": "code",
   "execution_count": 21,
   "metadata": {
    "colab": {
     "background_save": true
    },
    "id": "rP8L8zroOwxu",
    "outputId": "55461705-cb6b-4b9c-c140-0d4b812194e4"
   },
   "outputs": [
    {
     "name": "stdout",
     "output_type": "stream",
     "text": [
      "Model: \"sequential_3\"\n",
      "_________________________________________________________________\n",
      " Layer (type)                Output Shape              Param #   \n",
      "=================================================================\n",
      " bidirectional (Bidirectiona  (None, 14, 300)          187200    \n",
      " l)                                                              \n",
      "                                                                 \n",
      " bidirectional_1 (Bidirectio  (None, 14, 300)          541200    \n",
      " nal)                                                            \n",
      "                                                                 \n",
      " bidirectional_2 (Bidirectio  (None, 300)              541200    \n",
      " nal)                                                            \n",
      "                                                                 \n",
      " dense_3 (Dense)             (None, 1)                 301       \n",
      "                                                                 \n",
      "=================================================================\n",
      "Total params: 1,269,901\n",
      "Trainable params: 1,269,901\n",
      "Non-trainable params: 0\n",
      "_________________________________________________________________\n"
     ]
    }
   ],
   "source": [
    "model4 = Sequential()\n",
    "model4.add(InputLayer((trainX.shape[1], trainX.shape[2])))\n",
    "model4.add(Bidirectional(LSTM(150, return_sequences = True)))\n",
    "model4.add(Bidirectional(LSTM(150, return_sequences = True)))\n",
    "model4.add(Bidirectional(LSTM(150)))\n",
    "model4.add(Dense(trainY.shape[1]))\n",
    "model4.compile(optimizer='adam', loss='mse')\n",
    "model4.summary()"
   ]
  },
  {
   "cell_type": "code",
   "execution_count": 22,
   "metadata": {
    "colab": {
     "background_save": true
    },
    "id": "y9CmgE-WPZ1X",
    "outputId": "667b7654-f1c9-437b-8343-05d6fc31baad"
   },
   "outputs": [
    {
     "name": "stdout",
     "output_type": "stream",
     "text": [
      "Epoch 1/50\n",
      "94/94 [==============================] - 27s 165ms/step - loss: 6.0781e-04 - val_loss: 1.0449e-04\n",
      "Epoch 2/50\n",
      "94/94 [==============================] - 16s 169ms/step - loss: 2.9098e-05 - val_loss: 1.0418e-04\n",
      "Epoch 3/50\n",
      "94/94 [==============================] - 13s 139ms/step - loss: 3.2437e-05 - val_loss: 1.9224e-04\n",
      "Epoch 4/50\n",
      "94/94 [==============================] - 20s 211ms/step - loss: 2.7483e-05 - val_loss: 1.2665e-04\n",
      "Epoch 5/50\n",
      "94/94 [==============================] - 21s 219ms/step - loss: 2.9772e-05 - val_loss: 3.4820e-04\n",
      "Epoch 6/50\n",
      "94/94 [==============================] - 22s 234ms/step - loss: 3.1548e-05 - val_loss: 1.3620e-04\n",
      "Epoch 7/50\n",
      "94/94 [==============================] - 24s 259ms/step - loss: 2.7065e-05 - val_loss: 8.6151e-05\n",
      "Epoch 8/50\n",
      "94/94 [==============================] - 24s 255ms/step - loss: 3.6790e-05 - val_loss: 3.3938e-04\n",
      "Epoch 9/50\n",
      "94/94 [==============================] - 21s 227ms/step - loss: 3.1150e-05 - val_loss: 1.0191e-04\n",
      "Epoch 10/50\n",
      "94/94 [==============================] - 22s 239ms/step - loss: 2.7020e-05 - val_loss: 7.0124e-05\n",
      "Epoch 11/50\n",
      "94/94 [==============================] - 20s 217ms/step - loss: 4.2773e-05 - val_loss: 1.3920e-04\n",
      "Epoch 12/50\n",
      "94/94 [==============================] - 21s 224ms/step - loss: 3.9775e-05 - val_loss: 8.5078e-05\n",
      "Epoch 13/50\n",
      "94/94 [==============================] - 21s 225ms/step - loss: 2.5937e-05 - val_loss: 1.4802e-04\n",
      "Epoch 14/50\n",
      "94/94 [==============================] - 22s 232ms/step - loss: 2.7614e-05 - val_loss: 6.1590e-05\n",
      "Epoch 15/50\n",
      "94/94 [==============================] - 20s 213ms/step - loss: 2.5829e-05 - val_loss: 9.6649e-05\n",
      "Epoch 16/50\n",
      "94/94 [==============================] - 21s 225ms/step - loss: 2.3755e-05 - val_loss: 2.1444e-04\n",
      "Epoch 17/50\n",
      "94/94 [==============================] - 23s 241ms/step - loss: 1.9266e-05 - val_loss: 1.0400e-04\n",
      "Epoch 18/50\n",
      "94/94 [==============================] - 21s 220ms/step - loss: 2.1888e-05 - val_loss: 5.1615e-05\n",
      "Epoch 19/50\n",
      "94/94 [==============================] - 22s 230ms/step - loss: 1.7410e-05 - val_loss: 6.1612e-05\n",
      "Epoch 20/50\n",
      "94/94 [==============================] - 22s 233ms/step - loss: 2.5183e-05 - val_loss: 5.1083e-05\n",
      "Epoch 21/50\n",
      "94/94 [==============================] - 20s 213ms/step - loss: 1.6873e-05 - val_loss: 6.0311e-05\n",
      "Epoch 22/50\n",
      "94/94 [==============================] - 22s 230ms/step - loss: 1.9850e-05 - val_loss: 5.5130e-05\n",
      "Epoch 23/50\n",
      "94/94 [==============================] - 21s 224ms/step - loss: 2.2867e-05 - val_loss: 7.6734e-05\n",
      "Epoch 24/50\n",
      "94/94 [==============================] - 22s 238ms/step - loss: 2.4584e-05 - val_loss: 6.8379e-05\n",
      "Epoch 25/50\n",
      "94/94 [==============================] - 23s 241ms/step - loss: 1.6796e-05 - val_loss: 1.7745e-04\n",
      "Epoch 26/50\n",
      "94/94 [==============================] - 21s 219ms/step - loss: 2.5721e-05 - val_loss: 2.0073e-04\n",
      "Epoch 27/50\n",
      "94/94 [==============================] - 20s 208ms/step - loss: 1.6298e-05 - val_loss: 5.4756e-05\n",
      "Epoch 28/50\n",
      "94/94 [==============================] - 13s 137ms/step - loss: 1.6123e-05 - val_loss: 6.4963e-05\n",
      "Epoch 29/50\n",
      "94/94 [==============================] - 13s 137ms/step - loss: 1.5438e-05 - val_loss: 4.1093e-05\n",
      "Epoch 30/50\n",
      "94/94 [==============================] - 14s 152ms/step - loss: 2.3274e-05 - val_loss: 9.7212e-05\n",
      "Epoch 31/50\n",
      "94/94 [==============================] - 13s 143ms/step - loss: 1.8611e-05 - val_loss: 4.4976e-05\n",
      "Epoch 32/50\n",
      "94/94 [==============================] - 13s 139ms/step - loss: 1.3467e-05 - val_loss: 3.7727e-05\n",
      "Epoch 33/50\n",
      "94/94 [==============================] - 13s 141ms/step - loss: 1.5845e-05 - val_loss: 6.2319e-05\n",
      "Epoch 34/50\n",
      "94/94 [==============================] - 14s 154ms/step - loss: 3.1989e-05 - val_loss: 3.6023e-05\n",
      "Epoch 35/50\n",
      "94/94 [==============================] - 13s 138ms/step - loss: 1.4342e-05 - val_loss: 3.6979e-05\n",
      "Epoch 36/50\n",
      "94/94 [==============================] - 14s 144ms/step - loss: 1.1988e-05 - val_loss: 3.2717e-05\n",
      "Epoch 37/50\n",
      "94/94 [==============================] - 14s 145ms/step - loss: 1.2012e-05 - val_loss: 9.4118e-05\n",
      "Epoch 38/50\n",
      "94/94 [==============================] - 14s 145ms/step - loss: 1.7057e-05 - val_loss: 3.5642e-05\n",
      "Epoch 39/50\n",
      "94/94 [==============================] - 13s 136ms/step - loss: 1.3095e-05 - val_loss: 7.8400e-05\n",
      "Epoch 40/50\n",
      "94/94 [==============================] - 14s 148ms/step - loss: 1.3104e-05 - val_loss: 9.2687e-05\n",
      "Epoch 41/50\n",
      "94/94 [==============================] - 13s 141ms/step - loss: 1.4583e-05 - val_loss: 1.3881e-04\n",
      "Epoch 42/50\n",
      "94/94 [==============================] - 13s 140ms/step - loss: 1.9858e-05 - val_loss: 3.8239e-05\n",
      "Epoch 43/50\n",
      "94/94 [==============================] - 13s 136ms/step - loss: 2.0904e-05 - val_loss: 3.4944e-05\n",
      "Epoch 44/50\n",
      "94/94 [==============================] - 15s 157ms/step - loss: 1.3125e-05 - val_loss: 6.4038e-05\n",
      "Epoch 45/50\n",
      "94/94 [==============================] - 14s 145ms/step - loss: 1.4460e-05 - val_loss: 6.2328e-05\n",
      "Epoch 46/50\n",
      "94/94 [==============================] - 13s 135ms/step - loss: 1.5130e-05 - val_loss: 3.6104e-04\n",
      "Epoch 47/50\n",
      "94/94 [==============================] - 13s 140ms/step - loss: 1.6834e-05 - val_loss: 5.7851e-05\n",
      "Epoch 48/50\n",
      "94/94 [==============================] - 15s 158ms/step - loss: 1.2226e-05 - val_loss: 2.8375e-05\n",
      "Epoch 49/50\n",
      "94/94 [==============================] - 13s 141ms/step - loss: 1.2279e-05 - val_loss: 3.0127e-05\n",
      "Epoch 50/50\n",
      "94/94 [==============================] - 17s 179ms/step - loss: 1.2336e-05 - val_loss: 6.4311e-05\n"
     ]
    },
    {
     "data": {
      "text/plain": [
       "<keras.callbacks.History at 0x216fda3df10>"
      ]
     },
     "execution_count": 22,
     "metadata": {},
     "output_type": "execute_result"
    }
   ],
   "source": [
    "model4.fit(trainX, trainY, validation_split = 0.2, epochs = 50)"
   ]
  },
  {
   "cell_type": "code",
   "execution_count": 23,
   "metadata": {
    "colab": {
     "background_save": true
    },
    "id": "gno_sGzuQojr",
    "outputId": "18d07c94-8534-4a45-9bc3-fb5cba90c56a"
   },
   "outputs": [
    {
     "name": "stderr",
     "output_type": "stream",
     "text": [
      "WARNING:absl:Found untraced functions such as lstm_cell_4_layer_call_fn, lstm_cell_4_layer_call_and_return_conditional_losses, lstm_cell_5_layer_call_fn, lstm_cell_5_layer_call_and_return_conditional_losses, lstm_cell_7_layer_call_fn while saving (showing 5 of 12). These functions will not be directly callable after loading.\n"
     ]
    },
    {
     "name": "stdout",
     "output_type": "stream",
     "text": [
      "INFO:tensorflow:Assets written to: BiLSTM(Multi)\\assets\n"
     ]
    },
    {
     "name": "stderr",
     "output_type": "stream",
     "text": [
      "INFO:tensorflow:Assets written to: BiLSTM(Multi)\\assets\n",
      "WARNING:absl:<keras.layers.recurrent.LSTMCell object at 0x0000021693DF5FA0> has the same name 'LSTMCell' as a built-in Keras object. Consider renaming <class 'keras.layers.recurrent.LSTMCell'> to avoid naming conflicts when loading with `tf.keras.models.load_model`. If renaming is not possible, pass the object in the `custom_objects` parameter of the load function.\n",
      "WARNING:absl:<keras.layers.recurrent.LSTMCell object at 0x0000021693E15D90> has the same name 'LSTMCell' as a built-in Keras object. Consider renaming <class 'keras.layers.recurrent.LSTMCell'> to avoid naming conflicts when loading with `tf.keras.models.load_model`. If renaming is not possible, pass the object in the `custom_objects` parameter of the load function.\n",
      "WARNING:absl:<keras.layers.recurrent.LSTMCell object at 0x0000021693A21C70> has the same name 'LSTMCell' as a built-in Keras object. Consider renaming <class 'keras.layers.recurrent.LSTMCell'> to avoid naming conflicts when loading with `tf.keras.models.load_model`. If renaming is not possible, pass the object in the `custom_objects` parameter of the load function.\n",
      "WARNING:absl:<keras.layers.recurrent.LSTMCell object at 0x0000021693D24F70> has the same name 'LSTMCell' as a built-in Keras object. Consider renaming <class 'keras.layers.recurrent.LSTMCell'> to avoid naming conflicts when loading with `tf.keras.models.load_model`. If renaming is not possible, pass the object in the `custom_objects` parameter of the load function.\n",
      "WARNING:absl:<keras.layers.recurrent.LSTMCell object at 0x0000021688A18460> has the same name 'LSTMCell' as a built-in Keras object. Consider renaming <class 'keras.layers.recurrent.LSTMCell'> to avoid naming conflicts when loading with `tf.keras.models.load_model`. If renaming is not possible, pass the object in the `custom_objects` parameter of the load function.\n",
      "WARNING:absl:<keras.layers.recurrent.LSTMCell object at 0x00000216F2B518B0> has the same name 'LSTMCell' as a built-in Keras object. Consider renaming <class 'keras.layers.recurrent.LSTMCell'> to avoid naming conflicts when loading with `tf.keras.models.load_model`. If renaming is not possible, pass the object in the `custom_objects` parameter of the load function.\n"
     ]
    }
   ],
   "source": [
    "model4.save('BiLSTM(Multi)')"
   ]
  },
  {
   "cell_type": "markdown",
   "metadata": {
    "id": "vGRjqqezRIGZ"
   },
   "source": [
    "GRU(Gated Recurrent Unit)"
   ]
  },
  {
   "cell_type": "code",
   "execution_count": 24,
   "metadata": {
    "colab": {
     "background_save": true
    },
    "id": "F-Xn1YJzRHBc",
    "outputId": "bc400e49-8b26-4be7-dc1c-5dc326628170"
   },
   "outputs": [
    {
     "name": "stdout",
     "output_type": "stream",
     "text": [
      "Model: \"sequential_4\"\n",
      "_________________________________________________________________\n",
      " Layer (type)                Output Shape              Param #   \n",
      "=================================================================\n",
      " gru (GRU)                   (None, 14, 150)           70650     \n",
      "                                                                 \n",
      " gru_1 (GRU)                 (None, 14, 150)           135900    \n",
      "                                                                 \n",
      " gru_2 (GRU)                 (None, 150)               135900    \n",
      "                                                                 \n",
      " dense_4 (Dense)             (None, 1)                 151       \n",
      "                                                                 \n",
      "=================================================================\n",
      "Total params: 342,601\n",
      "Trainable params: 342,601\n",
      "Non-trainable params: 0\n",
      "_________________________________________________________________\n"
     ]
    }
   ],
   "source": [
    "model5 = Sequential()\n",
    "model5.add(InputLayer((trainX.shape[1], trainX.shape[2])))\n",
    "model5.add(GRU(150, return_sequences = True))\n",
    "model5.add(GRU(150, return_sequences = True))\n",
    "model5.add(GRU(150))\n",
    "model5.add(Dense(trainY.shape[1]))\n",
    "model5.compile(optimizer='adam', loss='mse')\n",
    "model5.summary()"
   ]
  },
  {
   "cell_type": "code",
   "execution_count": 25,
   "metadata": {
    "colab": {
     "background_save": true
    },
    "id": "bR9U9BJiRATb",
    "outputId": "b1b90e14-d5ed-4f84-842e-939dfc92c405"
   },
   "outputs": [
    {
     "name": "stdout",
     "output_type": "stream",
     "text": [
      "Epoch 1/50\n",
      "94/94 [==============================] - 47s 168ms/step - loss: 6.0377e-04 - val_loss: 6.3633e-05\n",
      "Epoch 2/50\n",
      "94/94 [==============================] - 8s 81ms/step - loss: 1.7718e-05 - val_loss: 5.8972e-05\n",
      "Epoch 3/50\n",
      "94/94 [==============================] - 9s 95ms/step - loss: 2.0313e-05 - val_loss: 7.0562e-05\n",
      "Epoch 4/50\n",
      "94/94 [==============================] - 8s 83ms/step - loss: 1.7492e-05 - val_loss: 5.8666e-05\n",
      "Epoch 5/50\n",
      "94/94 [==============================] - 8s 81ms/step - loss: 1.7801e-05 - val_loss: 5.3576e-05\n",
      "Epoch 6/50\n",
      "94/94 [==============================] - 9s 95ms/step - loss: 1.7288e-05 - val_loss: 1.2449e-04\n",
      "Epoch 7/50\n",
      "94/94 [==============================] - 8s 83ms/step - loss: 1.8465e-05 - val_loss: 2.9311e-04\n",
      "Epoch 8/50\n",
      "94/94 [==============================] - 10s 102ms/step - loss: 1.9254e-05 - val_loss: 1.1283e-04\n",
      "Epoch 9/50\n",
      "94/94 [==============================] - 8s 80ms/step - loss: 1.9189e-05 - val_loss: 6.1790e-05\n",
      "Epoch 10/50\n",
      "94/94 [==============================] - 7s 78ms/step - loss: 2.3256e-05 - val_loss: 4.8346e-05\n",
      "Epoch 11/50\n",
      "94/94 [==============================] - 9s 99ms/step - loss: 2.0346e-05 - val_loss: 1.5293e-04\n",
      "Epoch 12/50\n",
      "94/94 [==============================] - 8s 84ms/step - loss: 1.6860e-05 - val_loss: 4.0978e-05\n",
      "Epoch 13/50\n",
      "94/94 [==============================] - 9s 94ms/step - loss: 2.2108e-05 - val_loss: 1.0604e-04\n",
      "Epoch 14/50\n",
      "94/94 [==============================] - 8s 85ms/step - loss: 1.7239e-05 - val_loss: 1.1594e-04\n",
      "Epoch 15/50\n",
      "94/94 [==============================] - 8s 85ms/step - loss: 1.4937e-05 - val_loss: 4.5754e-05\n",
      "Epoch 16/50\n",
      "94/94 [==============================] - 7s 76ms/step - loss: 1.3894e-05 - val_loss: 1.4327e-04\n",
      "Epoch 17/50\n",
      "94/94 [==============================] - 9s 93ms/step - loss: 1.7108e-05 - val_loss: 6.7384e-05\n",
      "Epoch 18/50\n",
      "94/94 [==============================] - 8s 85ms/step - loss: 1.9351e-05 - val_loss: 3.4765e-05\n",
      "Epoch 19/50\n",
      "94/94 [==============================] - 8s 86ms/step - loss: 2.2971e-05 - val_loss: 3.1585e-05\n",
      "Epoch 20/50\n",
      "94/94 [==============================] - 8s 83ms/step - loss: 1.3035e-05 - val_loss: 4.4223e-05\n",
      "Epoch 21/50\n",
      "94/94 [==============================] - 8s 81ms/step - loss: 1.3812e-05 - val_loss: 3.9182e-05\n",
      "Epoch 22/50\n",
      "94/94 [==============================] - 9s 98ms/step - loss: 1.2161e-05 - val_loss: 4.9962e-05\n",
      "Epoch 23/50\n",
      "94/94 [==============================] - 8s 84ms/step - loss: 1.5718e-05 - val_loss: 8.5171e-05\n",
      "Epoch 24/50\n",
      "94/94 [==============================] - 7s 75ms/step - loss: 1.2928e-05 - val_loss: 3.0536e-05\n",
      "Epoch 25/50\n",
      "94/94 [==============================] - 8s 84ms/step - loss: 1.4520e-05 - val_loss: 4.5342e-05\n",
      "Epoch 26/50\n",
      "94/94 [==============================] - 8s 89ms/step - loss: 1.7697e-05 - val_loss: 4.0368e-05\n",
      "Epoch 27/50\n",
      "94/94 [==============================] - 10s 105ms/step - loss: 1.4429e-05 - val_loss: 5.7362e-05\n",
      "Epoch 28/50\n",
      "94/94 [==============================] - 9s 93ms/step - loss: 1.6106e-05 - val_loss: 7.2319e-05\n",
      "Epoch 29/50\n",
      "94/94 [==============================] - 9s 95ms/step - loss: 1.3664e-05 - val_loss: 8.5533e-05\n",
      "Epoch 30/50\n",
      "94/94 [==============================] - 8s 88ms/step - loss: 1.0880e-05 - val_loss: 2.7139e-05\n",
      "Epoch 31/50\n",
      "94/94 [==============================] - 8s 83ms/step - loss: 1.3343e-05 - val_loss: 4.0126e-05\n",
      "Epoch 32/50\n",
      "94/94 [==============================] - 8s 86ms/step - loss: 1.1583e-05 - val_loss: 2.9993e-05\n",
      "Epoch 33/50\n",
      "94/94 [==============================] - 8s 89ms/step - loss: 1.0919e-05 - val_loss: 2.1414e-05\n",
      "Epoch 34/50\n",
      "94/94 [==============================] - 8s 90ms/step - loss: 2.0056e-05 - val_loss: 2.6340e-05\n",
      "Epoch 35/50\n",
      "94/94 [==============================] - 9s 96ms/step - loss: 1.1206e-05 - val_loss: 4.6012e-05\n",
      "Epoch 36/50\n",
      "94/94 [==============================] - 10s 102ms/step - loss: 1.0281e-05 - val_loss: 2.8015e-05\n",
      "Epoch 37/50\n",
      "94/94 [==============================] - 8s 90ms/step - loss: 1.0259e-05 - val_loss: 3.1980e-05\n",
      "Epoch 38/50\n",
      "94/94 [==============================] - 9s 91ms/step - loss: 1.9451e-05 - val_loss: 2.1454e-05\n",
      "Epoch 39/50\n",
      "94/94 [==============================] - 9s 93ms/step - loss: 1.4930e-05 - val_loss: 6.8604e-05\n",
      "Epoch 40/50\n",
      "94/94 [==============================] - 8s 87ms/step - loss: 1.2747e-05 - val_loss: 3.7876e-05\n",
      "Epoch 41/50\n",
      "94/94 [==============================] - 9s 95ms/step - loss: 1.4285e-05 - val_loss: 2.8687e-05\n",
      "Epoch 42/50\n",
      "94/94 [==============================] - 9s 92ms/step - loss: 1.2152e-05 - val_loss: 2.5787e-05\n",
      "Epoch 43/50\n",
      "94/94 [==============================] - 8s 82ms/step - loss: 1.0141e-05 - val_loss: 2.0130e-05\n",
      "Epoch 44/50\n",
      "94/94 [==============================] - 7s 78ms/step - loss: 1.1042e-05 - val_loss: 2.1496e-05\n",
      "Epoch 45/50\n",
      "94/94 [==============================] - 9s 93ms/step - loss: 9.4846e-06 - val_loss: 2.0138e-05\n",
      "Epoch 46/50\n",
      "94/94 [==============================] - 8s 89ms/step - loss: 1.0503e-05 - val_loss: 5.7907e-05\n",
      "Epoch 47/50\n",
      "94/94 [==============================] - 9s 96ms/step - loss: 1.1630e-05 - val_loss: 2.0861e-05\n",
      "Epoch 48/50\n",
      "94/94 [==============================] - 8s 88ms/step - loss: 1.2911e-05 - val_loss: 8.7924e-05\n",
      "Epoch 49/50\n",
      "94/94 [==============================] - 9s 91ms/step - loss: 1.3275e-05 - val_loss: 2.2118e-05\n",
      "Epoch 50/50\n",
      "94/94 [==============================] - 8s 86ms/step - loss: 1.2075e-05 - val_loss: 3.9066e-05\n"
     ]
    },
    {
     "data": {
      "text/plain": [
       "<keras.callbacks.History at 0x216971c59d0>"
      ]
     },
     "execution_count": 25,
     "metadata": {},
     "output_type": "execute_result"
    }
   ],
   "source": [
    "model5.fit(trainX, trainY, validation_split = 0.2, epochs = 50)"
   ]
  },
  {
   "cell_type": "code",
   "execution_count": 26,
   "metadata": {
    "colab": {
     "background_save": true
    },
    "id": "kuyy4_n8Rz3v",
    "outputId": "19d316c2-975b-4455-e880-1e4d148a2791"
   },
   "outputs": [
    {
     "name": "stderr",
     "output_type": "stream",
     "text": [
      "WARNING:absl:Found untraced functions such as gru_cell_layer_call_fn, gru_cell_layer_call_and_return_conditional_losses, gru_cell_1_layer_call_fn, gru_cell_1_layer_call_and_return_conditional_losses, gru_cell_2_layer_call_fn while saving (showing 5 of 6). These functions will not be directly callable after loading.\n"
     ]
    },
    {
     "name": "stdout",
     "output_type": "stream",
     "text": [
      "INFO:tensorflow:Assets written to: GRU(Multi)\\assets\n"
     ]
    },
    {
     "name": "stderr",
     "output_type": "stream",
     "text": [
      "INFO:tensorflow:Assets written to: GRU(Multi)\\assets\n",
      "WARNING:absl:<keras.layers.recurrent.GRUCell object at 0x000002169721BF40> has the same name 'GRUCell' as a built-in Keras object. Consider renaming <class 'keras.layers.recurrent.GRUCell'> to avoid naming conflicts when loading with `tf.keras.models.load_model`. If renaming is not possible, pass the object in the `custom_objects` parameter of the load function.\n",
      "WARNING:absl:<keras.layers.recurrent.GRUCell object at 0x00000216A0AFCA60> has the same name 'GRUCell' as a built-in Keras object. Consider renaming <class 'keras.layers.recurrent.GRUCell'> to avoid naming conflicts when loading with `tf.keras.models.load_model`. If renaming is not possible, pass the object in the `custom_objects` parameter of the load function.\n",
      "WARNING:absl:<keras.layers.recurrent.GRUCell object at 0x0000021689D9CDC0> has the same name 'GRUCell' as a built-in Keras object. Consider renaming <class 'keras.layers.recurrent.GRUCell'> to avoid naming conflicts when loading with `tf.keras.models.load_model`. If renaming is not possible, pass the object in the `custom_objects` parameter of the load function.\n"
     ]
    }
   ],
   "source": [
    "model5.save('GRU(Multi)')"
   ]
  },
  {
   "cell_type": "markdown",
   "metadata": {
    "id": "eHQBZ2-4RmaF"
   },
   "source": [
    "Bidirection GRU"
   ]
  },
  {
   "cell_type": "code",
   "execution_count": 27,
   "metadata": {
    "colab": {
     "background_save": true
    },
    "id": "1dcyJDkgRh7A",
    "outputId": "0706e99b-393f-4f40-86af-f8b286e6056c"
   },
   "outputs": [
    {
     "name": "stdout",
     "output_type": "stream",
     "text": [
      "Model: \"sequential_5\"\n",
      "_________________________________________________________________\n",
      " Layer (type)                Output Shape              Param #   \n",
      "=================================================================\n",
      " bidirectional_3 (Bidirectio  (None, 14, 300)          141300    \n",
      " nal)                                                            \n",
      "                                                                 \n",
      " bidirectional_4 (Bidirectio  (None, 14, 300)          406800    \n",
      " nal)                                                            \n",
      "                                                                 \n",
      " bidirectional_5 (Bidirectio  (None, 300)              406800    \n",
      " nal)                                                            \n",
      "                                                                 \n",
      " dense_5 (Dense)             (None, 1)                 301       \n",
      "                                                                 \n",
      "=================================================================\n",
      "Total params: 955,201\n",
      "Trainable params: 955,201\n",
      "Non-trainable params: 0\n",
      "_________________________________________________________________\n"
     ]
    }
   ],
   "source": [
    "model6 = Sequential()\n",
    "model6.add(InputLayer((trainX.shape[1], trainX.shape[2])))\n",
    "model6.add(Bidirectional(GRU(150, return_sequences = True)))\n",
    "model6.add(Bidirectional(GRU(150, return_sequences = True)))\n",
    "model6.add(Bidirectional(GRU(150)))\n",
    "model6.add(Dense(trainY.shape[1]))\n",
    "model6.compile(optimizer='adam', loss='mse')\n",
    "model6.summary()"
   ]
  },
  {
   "cell_type": "code",
   "execution_count": 28,
   "metadata": {
    "colab": {
     "background_save": true
    },
    "id": "XrRHeDtFRxz5",
    "outputId": "51a5681b-b580-4b49-ced0-dac29d924557"
   },
   "outputs": [
    {
     "name": "stdout",
     "output_type": "stream",
     "text": [
      "Epoch 1/50\n",
      "94/94 [==============================] - 110s 512ms/step - loss: 5.4413e-04 - val_loss: 9.8029e-05\n",
      "Epoch 2/50\n",
      "94/94 [==============================] - 38s 400ms/step - loss: 2.3355e-05 - val_loss: 7.0942e-05\n",
      "Epoch 3/50\n",
      "94/94 [==============================] - 36s 387ms/step - loss: 2.0924e-05 - val_loss: 5.8044e-05\n",
      "Epoch 4/50\n",
      "94/94 [==============================] - 38s 405ms/step - loss: 1.9492e-05 - val_loss: 6.5174e-05\n",
      "Epoch 5/50\n",
      "94/94 [==============================] - 37s 397ms/step - loss: 1.9480e-05 - val_loss: 4.8930e-05\n",
      "Epoch 6/50\n",
      "94/94 [==============================] - 37s 395ms/step - loss: 1.8342e-05 - val_loss: 4.3398e-05\n",
      "Epoch 7/50\n",
      "94/94 [==============================] - 36s 387ms/step - loss: 1.7957e-05 - val_loss: 4.6739e-05\n",
      "Epoch 8/50\n",
      "94/94 [==============================] - 35s 376ms/step - loss: 1.7138e-05 - val_loss: 4.9224e-05\n",
      "Epoch 9/50\n",
      "94/94 [==============================] - 25s 265ms/step - loss: 1.8198e-05 - val_loss: 8.7118e-05\n",
      "Epoch 10/50\n",
      "94/94 [==============================] - 21s 226ms/step - loss: 2.6002e-05 - val_loss: 4.1449e-05\n",
      "Epoch 11/50\n",
      "94/94 [==============================] - 22s 230ms/step - loss: 1.7675e-05 - val_loss: 6.4463e-05\n",
      "Epoch 12/50\n",
      "94/94 [==============================] - 22s 233ms/step - loss: 1.5502e-05 - val_loss: 3.5129e-05\n",
      "Epoch 13/50\n",
      "94/94 [==============================] - 23s 249ms/step - loss: 1.4789e-05 - val_loss: 3.3064e-05\n",
      "Epoch 14/50\n",
      "94/94 [==============================] - 19s 203ms/step - loss: 2.2038e-05 - val_loss: 2.4330e-04\n",
      "Epoch 15/50\n",
      "94/94 [==============================] - 19s 199ms/step - loss: 1.9505e-05 - val_loss: 3.1858e-05\n",
      "Epoch 16/50\n",
      "94/94 [==============================] - 18s 190ms/step - loss: 1.6502e-05 - val_loss: 5.5340e-05\n",
      "Epoch 17/50\n",
      "94/94 [==============================] - 16s 176ms/step - loss: 1.1818e-05 - val_loss: 3.2938e-05\n",
      "Epoch 18/50\n",
      "94/94 [==============================] - 19s 200ms/step - loss: 1.6215e-05 - val_loss: 1.3004e-04\n",
      "Epoch 19/50\n",
      "94/94 [==============================] - 17s 184ms/step - loss: 2.0094e-05 - val_loss: 2.9646e-05\n",
      "Epoch 20/50\n",
      "94/94 [==============================] - 17s 181ms/step - loss: 1.3058e-05 - val_loss: 2.8793e-05\n",
      "Epoch 21/50\n",
      "94/94 [==============================] - 19s 202ms/step - loss: 2.0788e-05 - val_loss: 3.6495e-05\n",
      "Epoch 22/50\n",
      "94/94 [==============================] - 18s 195ms/step - loss: 1.7242e-05 - val_loss: 2.6904e-05\n",
      "Epoch 23/50\n",
      "94/94 [==============================] - 18s 189ms/step - loss: 1.4040e-05 - val_loss: 2.6971e-05\n",
      "Epoch 24/50\n",
      "94/94 [==============================] - 17s 182ms/step - loss: 1.1121e-05 - val_loss: 2.6210e-05\n",
      "Epoch 25/50\n",
      "94/94 [==============================] - 20s 209ms/step - loss: 1.2942e-05 - val_loss: 3.2306e-05\n",
      "Epoch 26/50\n",
      "94/94 [==============================] - 24s 254ms/step - loss: 1.2270e-05 - val_loss: 1.3018e-04\n",
      "Epoch 27/50\n",
      "94/94 [==============================] - 17s 183ms/step - loss: 1.5739e-05 - val_loss: 7.2776e-05\n",
      "Epoch 28/50\n",
      "94/94 [==============================] - 16s 175ms/step - loss: 1.2868e-05 - val_loss: 7.4367e-05\n",
      "Epoch 29/50\n",
      "94/94 [==============================] - 17s 176ms/step - loss: 1.5408e-05 - val_loss: 2.3504e-05\n",
      "Epoch 30/50\n",
      "94/94 [==============================] - 16s 171ms/step - loss: 1.1950e-05 - val_loss: 3.7726e-05\n",
      "Epoch 31/50\n",
      "94/94 [==============================] - 16s 172ms/step - loss: 1.3941e-05 - val_loss: 5.9252e-05\n",
      "Epoch 32/50\n",
      "94/94 [==============================] - 16s 172ms/step - loss: 1.5885e-05 - val_loss: 3.6012e-05\n",
      "Epoch 33/50\n",
      "94/94 [==============================] - 16s 172ms/step - loss: 1.2903e-05 - val_loss: 2.1880e-05\n",
      "Epoch 34/50\n",
      "94/94 [==============================] - 16s 175ms/step - loss: 1.5242e-05 - val_loss: 3.7807e-05\n",
      "Epoch 35/50\n",
      "94/94 [==============================] - 16s 172ms/step - loss: 1.5629e-05 - val_loss: 4.2476e-05\n",
      "Epoch 36/50\n",
      "94/94 [==============================] - 16s 172ms/step - loss: 1.1562e-05 - val_loss: 2.5541e-05\n",
      "Epoch 37/50\n",
      "94/94 [==============================] - 16s 172ms/step - loss: 1.2260e-05 - val_loss: 2.4234e-05\n",
      "Epoch 38/50\n",
      "94/94 [==============================] - 16s 172ms/step - loss: 1.8312e-05 - val_loss: 9.8751e-05\n",
      "Epoch 39/50\n",
      "94/94 [==============================] - 16s 173ms/step - loss: 1.2524e-05 - val_loss: 5.0551e-05\n",
      "Epoch 40/50\n",
      "94/94 [==============================] - 16s 173ms/step - loss: 1.3636e-05 - val_loss: 3.8112e-05\n",
      "Epoch 41/50\n",
      "94/94 [==============================] - 16s 174ms/step - loss: 1.3044e-05 - val_loss: 1.0040e-04\n",
      "Epoch 42/50\n",
      "94/94 [==============================] - 17s 176ms/step - loss: 1.6020e-05 - val_loss: 2.6648e-05\n",
      "Epoch 43/50\n",
      "94/94 [==============================] - 17s 185ms/step - loss: 1.1048e-05 - val_loss: 2.0100e-05\n",
      "Epoch 44/50\n",
      "94/94 [==============================] - 16s 175ms/step - loss: 1.1685e-05 - val_loss: 2.0666e-05\n",
      "Epoch 45/50\n",
      "94/94 [==============================] - 19s 207ms/step - loss: 1.0948e-05 - val_loss: 7.8734e-05\n",
      "Epoch 46/50\n",
      "94/94 [==============================] - 21s 223ms/step - loss: 1.4290e-05 - val_loss: 2.1920e-05\n",
      "Epoch 47/50\n",
      "94/94 [==============================] - 19s 204ms/step - loss: 1.1563e-05 - val_loss: 2.0735e-05\n",
      "Epoch 48/50\n",
      "94/94 [==============================] - 20s 215ms/step - loss: 1.2350e-05 - val_loss: 2.1386e-05\n",
      "Epoch 49/50\n",
      "94/94 [==============================] - 18s 194ms/step - loss: 2.3416e-05 - val_loss: 5.6669e-05\n",
      "Epoch 50/50\n",
      "94/94 [==============================] - 18s 195ms/step - loss: 1.2872e-05 - val_loss: 8.4632e-05\n"
     ]
    },
    {
     "data": {
      "text/plain": [
       "<keras.callbacks.History at 0x216c4ed14f0>"
      ]
     },
     "execution_count": 28,
     "metadata": {},
     "output_type": "execute_result"
    }
   ],
   "source": [
    "model6.fit(trainX, trainY, validation_split = 0.2, epochs = 50)"
   ]
  },
  {
   "cell_type": "code",
   "execution_count": 29,
   "metadata": {
    "colab": {
     "background_save": true
    },
    "id": "6aeee7dgSI7i",
    "outputId": "c0be4783-5b7a-499d-e76b-fd0e73631f54"
   },
   "outputs": [
    {
     "name": "stderr",
     "output_type": "stream",
     "text": [
      "WARNING:absl:Found untraced functions such as gru_cell_4_layer_call_fn, gru_cell_4_layer_call_and_return_conditional_losses, gru_cell_5_layer_call_fn, gru_cell_5_layer_call_and_return_conditional_losses, gru_cell_7_layer_call_fn while saving (showing 5 of 12). These functions will not be directly callable after loading.\n"
     ]
    },
    {
     "name": "stdout",
     "output_type": "stream",
     "text": [
      "INFO:tensorflow:Assets written to: BiGRU(Multi)\\assets\n"
     ]
    },
    {
     "name": "stderr",
     "output_type": "stream",
     "text": [
      "INFO:tensorflow:Assets written to: BiGRU(Multi)\\assets\n",
      "WARNING:absl:<keras.layers.recurrent.GRUCell object at 0x00000217002812B0> has the same name 'GRUCell' as a built-in Keras object. Consider renaming <class 'keras.layers.recurrent.GRUCell'> to avoid naming conflicts when loading with `tf.keras.models.load_model`. If renaming is not possible, pass the object in the `custom_objects` parameter of the load function.\n",
      "WARNING:absl:<keras.layers.recurrent.GRUCell object at 0x00000216C4F20EE0> has the same name 'GRUCell' as a built-in Keras object. Consider renaming <class 'keras.layers.recurrent.GRUCell'> to avoid naming conflicts when loading with `tf.keras.models.load_model`. If renaming is not possible, pass the object in the `custom_objects` parameter of the load function.\n",
      "WARNING:absl:<keras.layers.recurrent.GRUCell object at 0x00000216A83C1400> has the same name 'GRUCell' as a built-in Keras object. Consider renaming <class 'keras.layers.recurrent.GRUCell'> to avoid naming conflicts when loading with `tf.keras.models.load_model`. If renaming is not possible, pass the object in the `custom_objects` parameter of the load function.\n",
      "WARNING:absl:<keras.layers.recurrent.GRUCell object at 0x00000216B4451EB0> has the same name 'GRUCell' as a built-in Keras object. Consider renaming <class 'keras.layers.recurrent.GRUCell'> to avoid naming conflicts when loading with `tf.keras.models.load_model`. If renaming is not possible, pass the object in the `custom_objects` parameter of the load function.\n",
      "WARNING:absl:<keras.layers.recurrent.GRUCell object at 0x00000216A50F3F40> has the same name 'GRUCell' as a built-in Keras object. Consider renaming <class 'keras.layers.recurrent.GRUCell'> to avoid naming conflicts when loading with `tf.keras.models.load_model`. If renaming is not possible, pass the object in the `custom_objects` parameter of the load function.\n",
      "WARNING:absl:<keras.layers.recurrent.GRUCell object at 0x00000216B324F190> has the same name 'GRUCell' as a built-in Keras object. Consider renaming <class 'keras.layers.recurrent.GRUCell'> to avoid naming conflicts when loading with `tf.keras.models.load_model`. If renaming is not possible, pass the object in the `custom_objects` parameter of the load function.\n"
     ]
    }
   ],
   "source": [
    "model6.save('BiGRU(Multi)')"
   ]
  }
 ],
 "metadata": {
  "colab": {
   "collapsed_sections": [],
   "name": "StockPricePrediction(multivariate).ipynb",
   "provenance": []
  },
  "kernelspec": {
   "display_name": "Python 3 (ipykernel)",
   "language": "python",
   "name": "python3"
  },
  "language_info": {
   "codemirror_mode": {
    "name": "ipython",
    "version": 3
   },
   "file_extension": ".py",
   "mimetype": "text/x-python",
   "name": "python",
   "nbconvert_exporter": "python",
   "pygments_lexer": "ipython3",
   "version": "3.9.4"
  }
 },
 "nbformat": 4,
 "nbformat_minor": 1
}
