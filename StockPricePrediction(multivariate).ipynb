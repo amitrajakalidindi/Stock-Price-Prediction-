{
  "nbformat": 4,
  "nbformat_minor": 0,
  "metadata": {
    "colab": {
      "name": "StockPricePrediction(multivariate).ipynb",
      "provenance": [],
      "collapsed_sections": []
    },
    "kernelspec": {
      "name": "python3",
      "display_name": "Python 3"
    },
    "language_info": {
      "name": "python"
    }
  },
  "cells": [
    {
      "cell_type": "code",
      "source": [
        "!pip install tensorflow_addons"
      ],
      "metadata": {
        "colab": {
          "base_uri": "https://localhost:8080/"
        },
        "id": "TkQkA9QfFL2S",
        "outputId": "377e8b07-5b13-4a55-b071-0bd9ce4df8f8"
      },
      "execution_count": 89,
      "outputs": [
        {
          "output_type": "stream",
          "name": "stdout",
          "text": [
            "Requirement already satisfied: tensorflow_addons in /usr/local/lib/python3.7/dist-packages (0.16.1)\n",
            "Requirement already satisfied: typeguard>=2.7 in /usr/local/lib/python3.7/dist-packages (from tensorflow_addons) (2.7.1)\n"
          ]
        }
      ]
    },
    {
      "cell_type": "code",
      "execution_count": 90,
      "metadata": {
        "id": "AlGegvYifLdD"
      },
      "outputs": [],
      "source": [
        "import pandas as pd\n",
        "import numpy as np\n",
        "import math\n",
        "import matplotlib.pyplot as plt\n",
        "import tensorflow_addons as tfa\n",
        "from sklearn.preprocessing import MinMaxScaler\n",
        "from sklearn.metrics import mean_squared_error\n",
        "from sklearn.metrics import mean_absolute_error\n",
        "from tensorflow.keras.models import Sequential\n",
        "from tensorflow.keras.layers import *"
      ]
    },
    {
      "cell_type": "code",
      "source": [
        "df = pd.read_csv('TCS.csv')\n",
        "df.head()"
      ],
      "metadata": {
        "colab": {
          "base_uri": "https://localhost:8080/",
          "height": 206
        },
        "id": "-mUM_cSThsZN",
        "outputId": "9110d879-4075-4a4d-b49d-6b8652f0c9aa"
      },
      "execution_count": 91,
      "outputs": [
        {
          "output_type": "execute_result",
          "data": {
            "text/plain": [
              "         Date       Open       High        Low      Close  Adj Close  \\\n",
              "0  2003-01-01  59.987499  61.974998  59.987499  61.087502  45.255402   \n",
              "1  2003-01-02  61.525002  62.924999  57.912498  58.299999  43.190327   \n",
              "2  2003-01-03  60.000000  61.049999  58.500000  59.012501  43.718178   \n",
              "3  2003-01-06  59.924999  60.187500  56.875000  57.262501  42.421741   \n",
              "4  2003-01-07  58.000000  58.500000  56.062500  56.599998  41.930927   \n",
              "\n",
              "      Volume  \n",
              "0  6027072.0  \n",
              "1  5325328.0  \n",
              "2  4198040.0  \n",
              "3  4121520.0  \n",
              "4  2650800.0  "
            ],
            "text/html": [
              "\n",
              "  <div id=\"df-fe161f93-b788-4de2-a018-fcf137d0636a\">\n",
              "    <div class=\"colab-df-container\">\n",
              "      <div>\n",
              "<style scoped>\n",
              "    .dataframe tbody tr th:only-of-type {\n",
              "        vertical-align: middle;\n",
              "    }\n",
              "\n",
              "    .dataframe tbody tr th {\n",
              "        vertical-align: top;\n",
              "    }\n",
              "\n",
              "    .dataframe thead th {\n",
              "        text-align: right;\n",
              "    }\n",
              "</style>\n",
              "<table border=\"1\" class=\"dataframe\">\n",
              "  <thead>\n",
              "    <tr style=\"text-align: right;\">\n",
              "      <th></th>\n",
              "      <th>Date</th>\n",
              "      <th>Open</th>\n",
              "      <th>High</th>\n",
              "      <th>Low</th>\n",
              "      <th>Close</th>\n",
              "      <th>Adj Close</th>\n",
              "      <th>Volume</th>\n",
              "    </tr>\n",
              "  </thead>\n",
              "  <tbody>\n",
              "    <tr>\n",
              "      <th>0</th>\n",
              "      <td>2003-01-01</td>\n",
              "      <td>59.987499</td>\n",
              "      <td>61.974998</td>\n",
              "      <td>59.987499</td>\n",
              "      <td>61.087502</td>\n",
              "      <td>45.255402</td>\n",
              "      <td>6027072.0</td>\n",
              "    </tr>\n",
              "    <tr>\n",
              "      <th>1</th>\n",
              "      <td>2003-01-02</td>\n",
              "      <td>61.525002</td>\n",
              "      <td>62.924999</td>\n",
              "      <td>57.912498</td>\n",
              "      <td>58.299999</td>\n",
              "      <td>43.190327</td>\n",
              "      <td>5325328.0</td>\n",
              "    </tr>\n",
              "    <tr>\n",
              "      <th>2</th>\n",
              "      <td>2003-01-03</td>\n",
              "      <td>60.000000</td>\n",
              "      <td>61.049999</td>\n",
              "      <td>58.500000</td>\n",
              "      <td>59.012501</td>\n",
              "      <td>43.718178</td>\n",
              "      <td>4198040.0</td>\n",
              "    </tr>\n",
              "    <tr>\n",
              "      <th>3</th>\n",
              "      <td>2003-01-06</td>\n",
              "      <td>59.924999</td>\n",
              "      <td>60.187500</td>\n",
              "      <td>56.875000</td>\n",
              "      <td>57.262501</td>\n",
              "      <td>42.421741</td>\n",
              "      <td>4121520.0</td>\n",
              "    </tr>\n",
              "    <tr>\n",
              "      <th>4</th>\n",
              "      <td>2003-01-07</td>\n",
              "      <td>58.000000</td>\n",
              "      <td>58.500000</td>\n",
              "      <td>56.062500</td>\n",
              "      <td>56.599998</td>\n",
              "      <td>41.930927</td>\n",
              "      <td>2650800.0</td>\n",
              "    </tr>\n",
              "  </tbody>\n",
              "</table>\n",
              "</div>\n",
              "      <button class=\"colab-df-convert\" onclick=\"convertToInteractive('df-fe161f93-b788-4de2-a018-fcf137d0636a')\"\n",
              "              title=\"Convert this dataframe to an interactive table.\"\n",
              "              style=\"display:none;\">\n",
              "        \n",
              "  <svg xmlns=\"http://www.w3.org/2000/svg\" height=\"24px\"viewBox=\"0 0 24 24\"\n",
              "       width=\"24px\">\n",
              "    <path d=\"M0 0h24v24H0V0z\" fill=\"none\"/>\n",
              "    <path d=\"M18.56 5.44l.94 2.06.94-2.06 2.06-.94-2.06-.94-.94-2.06-.94 2.06-2.06.94zm-11 1L8.5 8.5l.94-2.06 2.06-.94-2.06-.94L8.5 2.5l-.94 2.06-2.06.94zm10 10l.94 2.06.94-2.06 2.06-.94-2.06-.94-.94-2.06-.94 2.06-2.06.94z\"/><path d=\"M17.41 7.96l-1.37-1.37c-.4-.4-.92-.59-1.43-.59-.52 0-1.04.2-1.43.59L10.3 9.45l-7.72 7.72c-.78.78-.78 2.05 0 2.83L4 21.41c.39.39.9.59 1.41.59.51 0 1.02-.2 1.41-.59l7.78-7.78 2.81-2.81c.8-.78.8-2.07 0-2.86zM5.41 20L4 18.59l7.72-7.72 1.47 1.35L5.41 20z\"/>\n",
              "  </svg>\n",
              "      </button>\n",
              "      \n",
              "  <style>\n",
              "    .colab-df-container {\n",
              "      display:flex;\n",
              "      flex-wrap:wrap;\n",
              "      gap: 12px;\n",
              "    }\n",
              "\n",
              "    .colab-df-convert {\n",
              "      background-color: #E8F0FE;\n",
              "      border: none;\n",
              "      border-radius: 50%;\n",
              "      cursor: pointer;\n",
              "      display: none;\n",
              "      fill: #1967D2;\n",
              "      height: 32px;\n",
              "      padding: 0 0 0 0;\n",
              "      width: 32px;\n",
              "    }\n",
              "\n",
              "    .colab-df-convert:hover {\n",
              "      background-color: #E2EBFA;\n",
              "      box-shadow: 0px 1px 2px rgba(60, 64, 67, 0.3), 0px 1px 3px 1px rgba(60, 64, 67, 0.15);\n",
              "      fill: #174EA6;\n",
              "    }\n",
              "\n",
              "    [theme=dark] .colab-df-convert {\n",
              "      background-color: #3B4455;\n",
              "      fill: #D2E3FC;\n",
              "    }\n",
              "\n",
              "    [theme=dark] .colab-df-convert:hover {\n",
              "      background-color: #434B5C;\n",
              "      box-shadow: 0px 1px 3px 1px rgba(0, 0, 0, 0.15);\n",
              "      filter: drop-shadow(0px 1px 2px rgba(0, 0, 0, 0.3));\n",
              "      fill: #FFFFFF;\n",
              "    }\n",
              "  </style>\n",
              "\n",
              "      <script>\n",
              "        const buttonEl =\n",
              "          document.querySelector('#df-fe161f93-b788-4de2-a018-fcf137d0636a button.colab-df-convert');\n",
              "        buttonEl.style.display =\n",
              "          google.colab.kernel.accessAllowed ? 'block' : 'none';\n",
              "\n",
              "        async function convertToInteractive(key) {\n",
              "          const element = document.querySelector('#df-fe161f93-b788-4de2-a018-fcf137d0636a');\n",
              "          const dataTable =\n",
              "            await google.colab.kernel.invokeFunction('convertToInteractive',\n",
              "                                                     [key], {});\n",
              "          if (!dataTable) return;\n",
              "\n",
              "          const docLinkHtml = 'Like what you see? Visit the ' +\n",
              "            '<a target=\"_blank\" href=https://colab.research.google.com/notebooks/data_table.ipynb>data table notebook</a>'\n",
              "            + ' to learn more about interactive tables.';\n",
              "          element.innerHTML = '';\n",
              "          dataTable['output_type'] = 'display_data';\n",
              "          await google.colab.output.renderOutput(dataTable, element);\n",
              "          const docLink = document.createElement('div');\n",
              "          docLink.innerHTML = docLinkHtml;\n",
              "          element.appendChild(docLink);\n",
              "        }\n",
              "      </script>\n",
              "    </div>\n",
              "  </div>\n",
              "  "
            ]
          },
          "metadata": {},
          "execution_count": 91
        }
      ]
    },
    {
      "cell_type": "code",
      "source": [
        "df = df[['Date', 'Open', 'High', 'Low', 'Close', 'Volume']]\n",
        "df.dropna(inplace = True)\n",
        "df.head()"
      ],
      "metadata": {
        "colab": {
          "base_uri": "https://localhost:8080/",
          "height": 313
        },
        "id": "Xvx1UV5Qh6C2",
        "outputId": "4db662c7-2210-4243-af9b-4163e333012c"
      },
      "execution_count": 92,
      "outputs": [
        {
          "output_type": "stream",
          "name": "stderr",
          "text": [
            "/usr/local/lib/python3.7/dist-packages/pandas/util/_decorators.py:311: SettingWithCopyWarning: \n",
            "A value is trying to be set on a copy of a slice from a DataFrame\n",
            "\n",
            "See the caveats in the documentation: https://pandas.pydata.org/pandas-docs/stable/user_guide/indexing.html#returning-a-view-versus-a-copy\n",
            "  return func(*args, **kwargs)\n"
          ]
        },
        {
          "output_type": "execute_result",
          "data": {
            "text/plain": [
              "         Date       Open       High        Low      Close     Volume\n",
              "0  2003-01-01  59.987499  61.974998  59.987499  61.087502  6027072.0\n",
              "1  2003-01-02  61.525002  62.924999  57.912498  58.299999  5325328.0\n",
              "2  2003-01-03  60.000000  61.049999  58.500000  59.012501  4198040.0\n",
              "3  2003-01-06  59.924999  60.187500  56.875000  57.262501  4121520.0\n",
              "4  2003-01-07  58.000000  58.500000  56.062500  56.599998  2650800.0"
            ],
            "text/html": [
              "\n",
              "  <div id=\"df-ab3c38c9-57d2-4e33-8f53-c271ff23d92b\">\n",
              "    <div class=\"colab-df-container\">\n",
              "      <div>\n",
              "<style scoped>\n",
              "    .dataframe tbody tr th:only-of-type {\n",
              "        vertical-align: middle;\n",
              "    }\n",
              "\n",
              "    .dataframe tbody tr th {\n",
              "        vertical-align: top;\n",
              "    }\n",
              "\n",
              "    .dataframe thead th {\n",
              "        text-align: right;\n",
              "    }\n",
              "</style>\n",
              "<table border=\"1\" class=\"dataframe\">\n",
              "  <thead>\n",
              "    <tr style=\"text-align: right;\">\n",
              "      <th></th>\n",
              "      <th>Date</th>\n",
              "      <th>Open</th>\n",
              "      <th>High</th>\n",
              "      <th>Low</th>\n",
              "      <th>Close</th>\n",
              "      <th>Volume</th>\n",
              "    </tr>\n",
              "  </thead>\n",
              "  <tbody>\n",
              "    <tr>\n",
              "      <th>0</th>\n",
              "      <td>2003-01-01</td>\n",
              "      <td>59.987499</td>\n",
              "      <td>61.974998</td>\n",
              "      <td>59.987499</td>\n",
              "      <td>61.087502</td>\n",
              "      <td>6027072.0</td>\n",
              "    </tr>\n",
              "    <tr>\n",
              "      <th>1</th>\n",
              "      <td>2003-01-02</td>\n",
              "      <td>61.525002</td>\n",
              "      <td>62.924999</td>\n",
              "      <td>57.912498</td>\n",
              "      <td>58.299999</td>\n",
              "      <td>5325328.0</td>\n",
              "    </tr>\n",
              "    <tr>\n",
              "      <th>2</th>\n",
              "      <td>2003-01-03</td>\n",
              "      <td>60.000000</td>\n",
              "      <td>61.049999</td>\n",
              "      <td>58.500000</td>\n",
              "      <td>59.012501</td>\n",
              "      <td>4198040.0</td>\n",
              "    </tr>\n",
              "    <tr>\n",
              "      <th>3</th>\n",
              "      <td>2003-01-06</td>\n",
              "      <td>59.924999</td>\n",
              "      <td>60.187500</td>\n",
              "      <td>56.875000</td>\n",
              "      <td>57.262501</td>\n",
              "      <td>4121520.0</td>\n",
              "    </tr>\n",
              "    <tr>\n",
              "      <th>4</th>\n",
              "      <td>2003-01-07</td>\n",
              "      <td>58.000000</td>\n",
              "      <td>58.500000</td>\n",
              "      <td>56.062500</td>\n",
              "      <td>56.599998</td>\n",
              "      <td>2650800.0</td>\n",
              "    </tr>\n",
              "  </tbody>\n",
              "</table>\n",
              "</div>\n",
              "      <button class=\"colab-df-convert\" onclick=\"convertToInteractive('df-ab3c38c9-57d2-4e33-8f53-c271ff23d92b')\"\n",
              "              title=\"Convert this dataframe to an interactive table.\"\n",
              "              style=\"display:none;\">\n",
              "        \n",
              "  <svg xmlns=\"http://www.w3.org/2000/svg\" height=\"24px\"viewBox=\"0 0 24 24\"\n",
              "       width=\"24px\">\n",
              "    <path d=\"M0 0h24v24H0V0z\" fill=\"none\"/>\n",
              "    <path d=\"M18.56 5.44l.94 2.06.94-2.06 2.06-.94-2.06-.94-.94-2.06-.94 2.06-2.06.94zm-11 1L8.5 8.5l.94-2.06 2.06-.94-2.06-.94L8.5 2.5l-.94 2.06-2.06.94zm10 10l.94 2.06.94-2.06 2.06-.94-2.06-.94-.94-2.06-.94 2.06-2.06.94z\"/><path d=\"M17.41 7.96l-1.37-1.37c-.4-.4-.92-.59-1.43-.59-.52 0-1.04.2-1.43.59L10.3 9.45l-7.72 7.72c-.78.78-.78 2.05 0 2.83L4 21.41c.39.39.9.59 1.41.59.51 0 1.02-.2 1.41-.59l7.78-7.78 2.81-2.81c.8-.78.8-2.07 0-2.86zM5.41 20L4 18.59l7.72-7.72 1.47 1.35L5.41 20z\"/>\n",
              "  </svg>\n",
              "      </button>\n",
              "      \n",
              "  <style>\n",
              "    .colab-df-container {\n",
              "      display:flex;\n",
              "      flex-wrap:wrap;\n",
              "      gap: 12px;\n",
              "    }\n",
              "\n",
              "    .colab-df-convert {\n",
              "      background-color: #E8F0FE;\n",
              "      border: none;\n",
              "      border-radius: 50%;\n",
              "      cursor: pointer;\n",
              "      display: none;\n",
              "      fill: #1967D2;\n",
              "      height: 32px;\n",
              "      padding: 0 0 0 0;\n",
              "      width: 32px;\n",
              "    }\n",
              "\n",
              "    .colab-df-convert:hover {\n",
              "      background-color: #E2EBFA;\n",
              "      box-shadow: 0px 1px 2px rgba(60, 64, 67, 0.3), 0px 1px 3px 1px rgba(60, 64, 67, 0.15);\n",
              "      fill: #174EA6;\n",
              "    }\n",
              "\n",
              "    [theme=dark] .colab-df-convert {\n",
              "      background-color: #3B4455;\n",
              "      fill: #D2E3FC;\n",
              "    }\n",
              "\n",
              "    [theme=dark] .colab-df-convert:hover {\n",
              "      background-color: #434B5C;\n",
              "      box-shadow: 0px 1px 3px 1px rgba(0, 0, 0, 0.15);\n",
              "      filter: drop-shadow(0px 1px 2px rgba(0, 0, 0, 0.3));\n",
              "      fill: #FFFFFF;\n",
              "    }\n",
              "  </style>\n",
              "\n",
              "      <script>\n",
              "        const buttonEl =\n",
              "          document.querySelector('#df-ab3c38c9-57d2-4e33-8f53-c271ff23d92b button.colab-df-convert');\n",
              "        buttonEl.style.display =\n",
              "          google.colab.kernel.accessAllowed ? 'block' : 'none';\n",
              "\n",
              "        async function convertToInteractive(key) {\n",
              "          const element = document.querySelector('#df-ab3c38c9-57d2-4e33-8f53-c271ff23d92b');\n",
              "          const dataTable =\n",
              "            await google.colab.kernel.invokeFunction('convertToInteractive',\n",
              "                                                     [key], {});\n",
              "          if (!dataTable) return;\n",
              "\n",
              "          const docLinkHtml = 'Like what you see? Visit the ' +\n",
              "            '<a target=\"_blank\" href=https://colab.research.google.com/notebooks/data_table.ipynb>data table notebook</a>'\n",
              "            + ' to learn more about interactive tables.';\n",
              "          element.innerHTML = '';\n",
              "          dataTable['output_type'] = 'display_data';\n",
              "          await google.colab.output.renderOutput(dataTable, element);\n",
              "          const docLink = document.createElement('div');\n",
              "          docLink.innerHTML = docLinkHtml;\n",
              "          element.appendChild(docLink);\n",
              "        }\n",
              "      </script>\n",
              "    </div>\n",
              "  </div>\n",
              "  "
            ]
          },
          "metadata": {},
          "execution_count": 92
        }
      ]
    },
    {
      "cell_type": "code",
      "source": [
        "df.plot(x='Date', y='Close', kind='line', figsize=(10, 5))"
      ],
      "metadata": {
        "colab": {
          "base_uri": "https://localhost:8080/",
          "height": 351
        },
        "id": "eu5sOQXhi8hH",
        "outputId": "c0d1195b-fbe7-4568-922b-af71d5ab2dfb"
      },
      "execution_count": 93,
      "outputs": [
        {
          "output_type": "execute_result",
          "data": {
            "text/plain": [
              "<matplotlib.axes._subplots.AxesSubplot at 0x7fd7f6325f10>"
            ]
          },
          "metadata": {},
          "execution_count": 93
        },
        {
          "output_type": "display_data",
          "data": {
            "text/plain": [
              "<Figure size 720x360 with 1 Axes>"
            ],
            "image/png": "[encoded data removed]"
          },
          "metadata": {
            "needs_background": "light"
          }
        }
      ]
    },
    {
      "cell_type": "code",
      "source": [
        "dates = df.Date\n",
        "df.drop(['Date'], inplace = True, axis = 1)\n",
        "df.head()"
      ],
      "metadata": {
        "colab": {
          "base_uri": "https://localhost:8080/",
          "height": 206
        },
        "id": "AM-5iw8Zpv86",
        "outputId": "e4dd6143-db32-4e73-af58-43f7263da38b"
      },
      "execution_count": 94,
      "outputs": [
        {
          "output_type": "execute_result",
          "data": {
            "text/plain": [
              "        Open       High        Low      Close     Volume\n",
              "0  59.987499  61.974998  59.987499  61.087502  6027072.0\n",
              "1  61.525002  62.924999  57.912498  58.299999  5325328.0\n",
              "2  60.000000  61.049999  58.500000  59.012501  4198040.0\n",
              "3  59.924999  60.187500  56.875000  57.262501  4121520.0\n",
              "4  58.000000  58.500000  56.062500  56.599998  2650800.0"
            ],
            "text/html": [
              "\n",
              "  <div id=\"df-90b74171-0a12-46f9-8994-cb036e029c7a\">\n",
              "    <div class=\"colab-df-container\">\n",
              "      <div>\n",
              "<style scoped>\n",
              "    .dataframe tbody tr th:only-of-type {\n",
              "        vertical-align: middle;\n",
              "    }\n",
              "\n",
              "    .dataframe tbody tr th {\n",
              "        vertical-align: top;\n",
              "    }\n",
              "\n",
              "    .dataframe thead th {\n",
              "        text-align: right;\n",
              "    }\n",
              "</style>\n",
              "<table border=\"1\" class=\"dataframe\">\n",
              "  <thead>\n",
              "    <tr style=\"text-align: right;\">\n",
              "      <th></th>\n",
              "      <th>Open</th>\n",
              "      <th>High</th>\n",
              "      <th>Low</th>\n",
              "      <th>Close</th>\n",
              "      <th>Volume</th>\n",
              "    </tr>\n",
              "  </thead>\n",
              "  <tbody>\n",
              "    <tr>\n",
              "      <th>0</th>\n",
              "      <td>59.987499</td>\n",
              "      <td>61.974998</td>\n",
              "      <td>59.987499</td>\n",
              "      <td>61.087502</td>\n",
              "      <td>6027072.0</td>\n",
              "    </tr>\n",
              "    <tr>\n",
              "      <th>1</th>\n",
              "      <td>61.525002</td>\n",
              "      <td>62.924999</td>\n",
              "      <td>57.912498</td>\n",
              "      <td>58.299999</td>\n",
              "      <td>5325328.0</td>\n",
              "    </tr>\n",
              "    <tr>\n",
              "      <th>2</th>\n",
              "      <td>60.000000</td>\n",
              "      <td>61.049999</td>\n",
              "      <td>58.500000</td>\n",
              "      <td>59.012501</td>\n",
              "      <td>4198040.0</td>\n",
              "    </tr>\n",
              "    <tr>\n",
              "      <th>3</th>\n",
              "      <td>59.924999</td>\n",
              "      <td>60.187500</td>\n",
              "      <td>56.875000</td>\n",
              "      <td>57.262501</td>\n",
              "      <td>4121520.0</td>\n",
              "    </tr>\n",
              "    <tr>\n",
              "      <th>4</th>\n",
              "      <td>58.000000</td>\n",
              "      <td>58.500000</td>\n",
              "      <td>56.062500</td>\n",
              "      <td>56.599998</td>\n",
              "      <td>2650800.0</td>\n",
              "    </tr>\n",
              "  </tbody>\n",
              "</table>\n",
              "</div>\n",
              "      <button class=\"colab-df-convert\" onclick=\"convertToInteractive('df-90b74171-0a12-46f9-8994-cb036e029c7a')\"\n",
              "              title=\"Convert this dataframe to an interactive table.\"\n",
              "              style=\"display:none;\">\n",
              "        \n",
              "  <svg xmlns=\"http://www.w3.org/2000/svg\" height=\"24px\"viewBox=\"0 0 24 24\"\n",
              "       width=\"24px\">\n",
              "    <path d=\"M0 0h24v24H0V0z\" fill=\"none\"/>\n",
              "    <path d=\"M18.56 5.44l.94 2.06.94-2.06 2.06-.94-2.06-.94-.94-2.06-.94 2.06-2.06.94zm-11 1L8.5 8.5l.94-2.06 2.06-.94-2.06-.94L8.5 2.5l-.94 2.06-2.06.94zm10 10l.94 2.06.94-2.06 2.06-.94-2.06-.94-.94-2.06-.94 2.06-2.06.94z\"/><path d=\"M17.41 7.96l-1.37-1.37c-.4-.4-.92-.59-1.43-.59-.52 0-1.04.2-1.43.59L10.3 9.45l-7.72 7.72c-.78.78-.78 2.05 0 2.83L4 21.41c.39.39.9.59 1.41.59.51 0 1.02-.2 1.41-.59l7.78-7.78 2.81-2.81c.8-.78.8-2.07 0-2.86zM5.41 20L4 18.59l7.72-7.72 1.47 1.35L5.41 20z\"/>\n",
              "  </svg>\n",
              "      </button>\n",
              "      \n",
              "  <style>\n",
              "    .colab-df-container {\n",
              "      display:flex;\n",
              "      flex-wrap:wrap;\n",
              "      gap: 12px;\n",
              "    }\n",
              "\n",
              "    .colab-df-convert {\n",
              "      background-color: #E8F0FE;\n",
              "      border: none;\n",
              "      border-radius: 50%;\n",
              "      cursor: pointer;\n",
              "      display: none;\n",
              "      fill: #1967D2;\n",
              "      height: 32px;\n",
              "      padding: 0 0 0 0;\n",
              "      width: 32px;\n",
              "    }\n",
              "\n",
              "    .colab-df-convert:hover {\n",
              "      background-color: #E2EBFA;\n",
              "      box-shadow: 0px 1px 2px rgba(60, 64, 67, 0.3), 0px 1px 3px 1px rgba(60, 64, 67, 0.15);\n",
              "      fill: #174EA6;\n",
              "    }\n",
              "\n",
              "    [theme=dark] .colab-df-convert {\n",
              "      background-color: #3B4455;\n",
              "      fill: #D2E3FC;\n",
              "    }\n",
              "\n",
              "    [theme=dark] .colab-df-convert:hover {\n",
              "      background-color: #434B5C;\n",
              "      box-shadow: 0px 1px 3px 1px rgba(0, 0, 0, 0.15);\n",
              "      filter: drop-shadow(0px 1px 2px rgba(0, 0, 0, 0.3));\n",
              "      fill: #FFFFFF;\n",
              "    }\n",
              "  </style>\n",
              "\n",
              "      <script>\n",
              "        const buttonEl =\n",
              "          document.querySelector('#df-90b74171-0a12-46f9-8994-cb036e029c7a button.colab-df-convert');\n",
              "        buttonEl.style.display =\n",
              "          google.colab.kernel.accessAllowed ? 'block' : 'none';\n",
              "\n",
              "        async function convertToInteractive(key) {\n",
              "          const element = document.querySelector('#df-90b74171-0a12-46f9-8994-cb036e029c7a');\n",
              "          const dataTable =\n",
              "            await google.colab.kernel.invokeFunction('convertToInteractive',\n",
              "                                                     [key], {});\n",
              "          if (!dataTable) return;\n",
              "\n",
              "          const docLinkHtml = 'Like what you see? Visit the ' +\n",
              "            '<a target=\"_blank\" href=https://colab.research.google.com/notebooks/data_table.ipynb>data table notebook</a>'\n",
              "            + ' to learn more about interactive tables.';\n",
              "          element.innerHTML = '';\n",
              "          dataTable['output_type'] = 'display_data';\n",
              "          await google.colab.output.renderOutput(dataTable, element);\n",
              "          const docLink = document.createElement('div');\n",
              "          docLink.innerHTML = docLinkHtml;\n",
              "          element.appendChild(docLink);\n",
              "        }\n",
              "      </script>\n",
              "    </div>\n",
              "  </div>\n",
              "  "
            ]
          },
          "metadata": {},
          "execution_count": 94
        }
      ]
    },
    {
      "cell_type": "code",
      "source": [
        "scaler = MinMaxScaler(feature_range=(0,1))\n",
        "data = scaler.fit_transform(df)"
      ],
      "metadata": {
        "id": "gQSH_F5MrCTb"
      },
      "execution_count": 95,
      "outputs": []
    },
    {
      "cell_type": "code",
      "source": [
        "scaler2 = MinMaxScaler(feature_range=(0,1))\n",
        "scaler2.fit_transform(df[['Close']])"
      ],
      "metadata": {
        "colab": {
          "base_uri": "https://localhost:8080/"
        },
        "id": "uG5IpU7e68ON",
        "outputId": "2f0cdcb2-a177-454f-9bdb-aeebd341821b"
      },
      "execution_count": 96,
      "outputs": [
        {
          "output_type": "execute_result",
          "data": {
            "text/plain": [
              "array([[0.00579649],\n",
              "       [0.0050847 ],\n",
              "       [0.00526664],\n",
              "       ...,\n",
              "       [0.9366727 ],\n",
              "       [0.93364675],\n",
              "       [0.94361826]])"
            ]
          },
          "metadata": {},
          "execution_count": 96
        }
      ]
    },
    {
      "cell_type": "code",
      "source": [
        "trainSize = int(len(data)*0.7)\n",
        "testSize = len(data) - trainSize\n",
        "train = data[0:trainSize]\n",
        "test = data[trainSize:len(data)]"
      ],
      "metadata": {
        "id": "EHf9S2S05MOp"
      },
      "execution_count": 97,
      "outputs": []
    },
    {
      "cell_type": "markdown",
      "source": [
        ""
      ],
      "metadata": {
        "id": "wH9YwZcKE9et"
      }
    },
    {
      "cell_type": "code",
      "source": [
        "def modify(data, pastDays = 14):\n",
        "  X = []\n",
        "  Y = []\n",
        "  for i in range(pastDays, len(data)):\n",
        "      X.append(data[i - 14: i, 0: data.shape[1]])\n",
        "      Y.append(data[i : i + 1, 3])\n",
        "  return np.array(X), np.array(Y)"
      ],
      "metadata": {
        "id": "qnkLzVxh09VJ"
      },
      "execution_count": 98,
      "outputs": []
    },
    {
      "cell_type": "code",
      "source": [
        "trainX, trainY = modify(train)\n",
        "testX, testY = modify(test)"
      ],
      "metadata": {
        "id": "SrCav3Wz6_s3"
      },
      "execution_count": 99,
      "outputs": []
    },
    {
      "cell_type": "markdown",
      "source": [
        "RNN"
      ],
      "metadata": {
        "id": "uSlibsFOJE2d"
      }
    },
    {
      "cell_type": "code",
      "source": [
        "model1 = Sequential()\n",
        "model1.add(InputLayer((trainX.shape[1], trainX.shape[2])))\n",
        "model1.add(SimpleRNN(100))\n",
        "model1.add(Dense(trainY.shape[1]))\n",
        "model1.compile(optimizer='adam', loss='mse')\n",
        "model1.summary()"
      ],
      "metadata": {
        "colab": {
          "base_uri": "https://localhost:8080/"
        },
        "id": "Q1rg19nVI-IW",
        "outputId": "1cf4298c-f5f7-42d5-fc13-1c76931659bc"
      },
      "execution_count": 100,
      "outputs": [
        {
          "output_type": "stream",
          "name": "stdout",
          "text": [
            "Model: \"sequential_11\"\n",
            "_________________________________________________________________\n",
            " Layer (type)                Output Shape              Param #   \n",
            "=================================================================\n",
            " simple_rnn_2 (SimpleRNN)    (None, 100)               10600     \n",
            "                                                                 \n",
            " dense_10 (Dense)            (None, 1)                 101       \n",
            "                                                                 \n",
            "=================================================================\n",
            "Total params: 10,701\n",
            "Trainable params: 10,701\n",
            "Non-trainable params: 0\n",
            "_________________________________________________________________\n"
          ]
        }
      ]
    },
    {
      "cell_type": "code",
      "source": [
        "model1.fit(trainX, trainY, validation_data = (testX, testY), epochs = 5)"
      ],
      "metadata": {
        "colab": {
          "base_uri": "https://localhost:8080/"
        },
        "id": "yzyIzyCeJMmQ",
        "outputId": "453f3375-1e0a-4e00-a2a0-5a06d5fe72f4"
      },
      "execution_count": 101,
      "outputs": [
        {
          "output_type": "stream",
          "name": "stdout",
          "text": [
            "Epoch 1/5\n",
            "103/103 [==============================] - 2s 12ms/step - loss: 6.8149e-04 - val_loss: 0.0034\n",
            "Epoch 2/5\n",
            "103/103 [==============================] - 1s 7ms/step - loss: 2.8277e-05 - val_loss: 0.0024\n",
            "Epoch 3/5\n",
            "103/103 [==============================] - 1s 6ms/step - loss: 2.3484e-05 - val_loss: 0.0019\n",
            "Epoch 4/5\n",
            "103/103 [==============================] - 1s 7ms/step - loss: 2.0733e-05 - val_loss: 0.0019\n",
            "Epoch 5/5\n",
            "103/103 [==============================] - 1s 7ms/step - loss: 2.5120e-05 - val_loss: 0.0023\n"
          ]
        },
        {
          "output_type": "execute_result",
          "data": {
            "text/plain": [
              "<keras.callbacks.History at 0x7fd7f62eccd0>"
            ]
          },
          "metadata": {},
          "execution_count": 101
        }
      ]
    },
    {
      "cell_type": "code",
      "source": [
        "trainPredict1 = model1.predict(trainX)\n",
        "testPredict1 = model1.predict(testX)\n",
        "trainPredict1 = scaler2.inverse_transform(trainPredict1)\n",
        "testPredict1 = scaler2.inverse_transform(testPredict1)\n",
        "trainY1 = scaler2.inverse_transform(trainY.reshape(-1, 1))\n",
        "testY1 = scaler2.inverse_transform(testY.reshape(-1, 1))"
      ],
      "metadata": {
        "id": "nlr9V8kGKC0-"
      },
      "execution_count": 102,
      "outputs": []
    },
    {
      "cell_type": "code",
      "source": [
        "mape1 = np.mean(np.abs((testY1 - testPredict1)/testY1))*100\n",
        "mape1"
      ],
      "metadata": {
        "colab": {
          "base_uri": "https://localhost:8080/"
        },
        "id": "XMxITShKKY1m",
        "outputId": "751d9f26-68f5-4383-d3ce-8ea51e9d1816"
      },
      "execution_count": 103,
      "outputs": [
        {
          "output_type": "execute_result",
          "data": {
            "text/plain": [
              "4.664512321590881"
            ]
          },
          "metadata": {},
          "execution_count": 103
        }
      ]
    },
    {
      "cell_type": "code",
      "source": [
        "days = [i for i in range(0, len(testY1))]\n",
        "plt.plot(days, testY1, color='r', label='Y')\n",
        "plt.plot(days, testPredict1, color='g', label='Ypredict')  \n",
        "plt.xlabel(\"Days\")\n",
        "plt.ylabel(\"Price\")\n",
        "plt.title(\"Stock Price\")\n",
        "plt.legend()\n",
        "plt.show()"
      ],
      "metadata": {
        "colab": {
          "base_uri": "https://localhost:8080/",
          "height": 295
        },
        "id": "PFthWKPZK6od",
        "outputId": "5969d36b-28ba-47fb-aa7d-829c11130799"
      },
      "execution_count": 104,
      "outputs": [
        {
          "output_type": "display_data",
          "data": {
            "text/plain": [
              "<Figure size 432x288 with 1 Axes>"
            ],
            "image/png": "[encoded data removed]"
          },
          "metadata": {
            "needs_background": "light"
          }
        }
      ]
    },
    {
      "cell_type": "markdown",
      "source": [
        "Classic LSTM"
      ],
      "metadata": {
        "id": "6HLNTNT3FqB1"
      }
    },
    {
      "cell_type": "code",
      "source": [
        "model2 = Sequential()\n",
        "model2.add(InputLayer((trainX.shape[1], trainX.shape[2])))\n",
        "model2.add(LSTM(200))\n",
        "model2.add(Dense(trainY.shape[1]))\n",
        "model2.compile(optimizer='adam', loss='mse')\n",
        "model2.summary()"
      ],
      "metadata": {
        "colab": {
          "base_uri": "https://localhost:8080/"
        },
        "id": "YrK6_RTR8Joj",
        "outputId": "8f29abef-e595-483f-848d-12bdc6d1e1d4"
      },
      "execution_count": 105,
      "outputs": [
        {
          "output_type": "stream",
          "name": "stdout",
          "text": [
            "Model: \"sequential_12\"\n",
            "_________________________________________________________________\n",
            " Layer (type)                Output Shape              Param #   \n",
            "=================================================================\n",
            " lstm_6 (LSTM)               (None, 200)               164800    \n",
            "                                                                 \n",
            " dense_11 (Dense)            (None, 1)                 201       \n",
            "                                                                 \n",
            "=================================================================\n",
            "Total params: 165,001\n",
            "Trainable params: 165,001\n",
            "Non-trainable params: 0\n",
            "_________________________________________________________________\n"
          ]
        }
      ]
    },
    {
      "cell_type": "code",
      "source": [
        "model2.fit(trainX, trainY, validation_data = (testX, testY), epochs = 5)"
      ],
      "metadata": {
        "colab": {
          "base_uri": "https://localhost:8080/"
        },
        "id": "DLCcQBiADlBw",
        "outputId": "c220d56a-980d-40ef-a4c3-ae9b2778348d"
      },
      "execution_count": 106,
      "outputs": [
        {
          "output_type": "stream",
          "name": "stdout",
          "text": [
            "Epoch 1/5\n",
            "103/103 [==============================] - 8s 55ms/step - loss: 6.6699e-04 - val_loss: 3.0843e-04\n",
            "Epoch 2/5\n",
            "103/103 [==============================] - 6s 62ms/step - loss: 2.2321e-05 - val_loss: 4.7234e-04\n",
            "Epoch 3/5\n",
            "103/103 [==============================] - 7s 67ms/step - loss: 2.2305e-05 - val_loss: 3.6594e-04\n",
            "Epoch 4/5\n",
            "103/103 [==============================] - 7s 70ms/step - loss: 2.1753e-05 - val_loss: 3.6039e-04\n",
            "Epoch 5/5\n",
            "103/103 [==============================] - 7s 69ms/step - loss: 2.1493e-05 - val_loss: 3.2520e-04\n"
          ]
        },
        {
          "output_type": "execute_result",
          "data": {
            "text/plain": [
              "<keras.callbacks.History at 0x7fd7f0cee410>"
            ]
          },
          "metadata": {},
          "execution_count": 106
        }
      ]
    },
    {
      "cell_type": "code",
      "source": [
        "trainPredict2 = model2.predict(trainX)\n",
        "testPredict2 = model2.predict(testX)\n",
        "trainPredict2 = scaler2.inverse_transform(trainPredict2)\n",
        "testPredict2 = scaler2.inverse_transform(testPredict2)\n",
        "trainY2 = scaler2.inverse_transform(trainY.reshape(-1, 1))\n",
        "testY2 = scaler2.inverse_transform(testY.reshape(-1, 1))"
      ],
      "metadata": {
        "id": "7lbCXVOuFdZj"
      },
      "execution_count": 107,
      "outputs": []
    },
    {
      "cell_type": "code",
      "source": [
        "mape2 = np.mean(np.abs((testY2 - testPredict2)/testY2))*100\n",
        "mape2"
      ],
      "metadata": {
        "colab": {
          "base_uri": "https://localhost:8080/"
        },
        "id": "1EoZKsfkLXH5",
        "outputId": "ad9e4ff3-48dc-427e-9341-0d3db438b0e4"
      },
      "execution_count": 108,
      "outputs": [
        {
          "output_type": "execute_result",
          "data": {
            "text/plain": [
              "2.2850690166511676"
            ]
          },
          "metadata": {},
          "execution_count": 108
        }
      ]
    },
    {
      "cell_type": "code",
      "source": [
        "days = [i for i in range(0, len(testY2))]\n",
        "plt.plot(days, testY2, color='r', label='Y')\n",
        "plt.plot(days, testPredict2, color='g', label='Ypredict')\n",
        "plt.xlabel(\"Days\")\n",
        "plt.ylabel(\"Price\")\n",
        "plt.title(\"Stock Price\")\n",
        "plt.legend()\n",
        "plt.show()"
      ],
      "metadata": {
        "colab": {
          "base_uri": "https://localhost:8080/",
          "height": 295
        },
        "id": "-yZZuGZrBNeP",
        "outputId": "d106bbd4-5e2d-4527-da6d-d8bdde4a0d32"
      },
      "execution_count": 109,
      "outputs": [
        {
          "output_type": "display_data",
          "data": {
            "text/plain": [
              "<Figure size 432x288 with 1 Axes>"
            ],
            "image/png": "[encoded data removed]"
          },
          "metadata": {
            "needs_background": "light"
          }
        }
      ]
    },
    {
      "cell_type": "markdown",
      "source": [
        "LSTM Peephole"
      ],
      "metadata": {
        "id": "bf7GoafTMuF1"
      }
    },
    {
      "cell_type": "code",
      "source": [
        "model3 = Sequential()\n",
        "model3.add(InputLayer((trainX.shape[1], trainX.shape[2])))\n",
        "model3.add(RNN(tfa.rnn.PeepholeLSTMCell(200)))\n",
        "model3.add(Dense(trainY.shape[1]))\n",
        "model3.compile(optimizer='adam', loss='mse')\n",
        "model3.summary()"
      ],
      "metadata": {
        "colab": {
          "base_uri": "https://localhost:8080/"
        },
        "id": "CMBfWAw7MmD6",
        "outputId": "18bf27d5-8334-4177-f843-940699e1e0fa"
      },
      "execution_count": 110,
      "outputs": [
        {
          "output_type": "stream",
          "name": "stdout",
          "text": [
            "Model: \"sequential_13\"\n",
            "_________________________________________________________________\n",
            " Layer (type)                Output Shape              Param #   \n",
            "=================================================================\n",
            " rnn_1 (RNN)                 (None, 200)               165400    \n",
            "                                                                 \n",
            " dense_12 (Dense)            (None, 1)                 201       \n",
            "                                                                 \n",
            "=================================================================\n",
            "Total params: 165,601\n",
            "Trainable params: 165,601\n",
            "Non-trainable params: 0\n",
            "_________________________________________________________________\n"
          ]
        }
      ]
    },
    {
      "cell_type": "code",
      "source": [
        "model3.fit(trainX, trainY, validation_data = (testX, testY), epochs = 5)"
      ],
      "metadata": {
        "colab": {
          "base_uri": "https://localhost:8080/"
        },
        "id": "imUyvlS2GRxs",
        "outputId": "2abf7b0a-7a43-458a-e6e9-5651962f631b"
      },
      "execution_count": 111,
      "outputs": [
        {
          "output_type": "stream",
          "name": "stdout",
          "text": [
            "Epoch 1/5\n",
            "103/103 [==============================] - 6s 40ms/step - loss: 8.0609e-04 - val_loss: 3.4667e-04\n",
            "Epoch 2/5\n",
            "103/103 [==============================] - 4s 37ms/step - loss: 2.2947e-05 - val_loss: 6.5471e-04\n",
            "Epoch 3/5\n",
            "103/103 [==============================] - 4s 37ms/step - loss: 2.2643e-05 - val_loss: 5.3524e-04\n",
            "Epoch 4/5\n",
            "103/103 [==============================] - 4s 37ms/step - loss: 2.2614e-05 - val_loss: 7.1356e-04\n",
            "Epoch 5/5\n",
            "103/103 [==============================] - 4s 37ms/step - loss: 2.4735e-05 - val_loss: 6.1948e-04\n"
          ]
        },
        {
          "output_type": "execute_result",
          "data": {
            "text/plain": [
              "<keras.callbacks.History at 0x7fd7ec8e72d0>"
            ]
          },
          "metadata": {},
          "execution_count": 111
        }
      ]
    },
    {
      "cell_type": "code",
      "source": [
        "trainPredict3 = model3.predict(trainX)\n",
        "testPredict3 = model3.predict(testX)\n",
        "trainPredict3 = scaler2.inverse_transform(trainPredict3)\n",
        "testPredict3 = scaler2.inverse_transform(testPredict3)\n",
        "trainY3 = scaler2.inverse_transform(trainY.reshape(-1, 1))\n",
        "testY3 = scaler2.inverse_transform(testY.reshape(-1, 1))"
      ],
      "metadata": {
        "id": "uHnWQhesNsnS"
      },
      "execution_count": 112,
      "outputs": []
    },
    {
      "cell_type": "code",
      "source": [
        "mape3 = np.mean(np.abs((testY3 - testPredict3)/testY3))*100\n",
        "mape3"
      ],
      "metadata": {
        "colab": {
          "base_uri": "https://localhost:8080/"
        },
        "id": "Nfnre6bLN2tC",
        "outputId": "4ecd361f-2d1d-4247-93e6-5be925a30efe"
      },
      "execution_count": 113,
      "outputs": [
        {
          "output_type": "execute_result",
          "data": {
            "text/plain": [
              "3.1476437408481615"
            ]
          },
          "metadata": {},
          "execution_count": 113
        }
      ]
    },
    {
      "cell_type": "code",
      "source": [
        "days = [i for i in range(0, len(testY3))]\n",
        "plt.plot(days, testY3, color='r', label='Y')\n",
        "plt.plot(days, testPredict3, color='g', label='Ypredict')\n",
        "plt.xlabel(\"Days\")\n",
        "plt.ylabel(\"Price\")\n",
        "plt.title(\"Stock Price\")\n",
        "plt.legend()\n",
        "plt.show()"
      ],
      "metadata": {
        "colab": {
          "base_uri": "https://localhost:8080/",
          "height": 295
        },
        "id": "VX_e3csZOFSq",
        "outputId": "3302b075-3996-464d-b171-3a0532de76a4"
      },
      "execution_count": 114,
      "outputs": [
        {
          "output_type": "display_data",
          "data": {
            "text/plain": [
              "<Figure size 432x288 with 1 Axes>"
            ],
            "image/png": "[encoded data removed]"
          },
          "metadata": {
            "needs_background": "light"
          }
        }
      ]
    },
    {
      "cell_type": "markdown",
      "source": [
        "Bidirectional LSTM"
      ],
      "metadata": {
        "id": "5SBjSIw1PC9l"
      }
    },
    {
      "cell_type": "code",
      "source": [
        "model4 = Sequential()\n",
        "model4.add(InputLayer((trainX.shape[1], trainX.shape[2])))\n",
        "model4.add(Bidirectional(LSTM(200)))\n",
        "model4.add(Dense(trainY.shape[1]))\n",
        "model4.compile(optimizer='adam', loss='mse')\n",
        "model4.summary()"
      ],
      "metadata": {
        "colab": {
          "base_uri": "https://localhost:8080/"
        },
        "id": "rP8L8zroOwxu",
        "outputId": "5a008f05-d4c4-4682-ab10-d4d33ca92da2"
      },
      "execution_count": 115,
      "outputs": [
        {
          "output_type": "stream",
          "name": "stdout",
          "text": [
            "Model: \"sequential_14\"\n",
            "_________________________________________________________________\n",
            " Layer (type)                Output Shape              Param #   \n",
            "=================================================================\n",
            " bidirectional_1 (Bidirectio  (None, 400)              329600    \n",
            " nal)                                                            \n",
            "                                                                 \n",
            " dense_13 (Dense)            (None, 1)                 401       \n",
            "                                                                 \n",
            "=================================================================\n",
            "Total params: 330,001\n",
            "Trainable params: 330,001\n",
            "Non-trainable params: 0\n",
            "_________________________________________________________________\n"
          ]
        }
      ]
    },
    {
      "cell_type": "code",
      "source": [
        "model4.fit(trainX, trainY, validation_data = (testX, testY), epochs = 5)"
      ],
      "metadata": {
        "colab": {
          "base_uri": "https://localhost:8080/"
        },
        "id": "y9CmgE-WPZ1X",
        "outputId": "99d0de03-e624-46ba-baff-dfbce23955a7"
      },
      "execution_count": 116,
      "outputs": [
        {
          "output_type": "stream",
          "name": "stdout",
          "text": [
            "Epoch 1/5\n",
            "103/103 [==============================] - 11s 76ms/step - loss: 3.7518e-04 - val_loss: 7.2519e-04\n",
            "Epoch 2/5\n",
            "103/103 [==============================] - 8s 78ms/step - loss: 3.6929e-05 - val_loss: 5.0773e-04\n",
            "Epoch 3/5\n",
            "103/103 [==============================] - 6s 62ms/step - loss: 3.3699e-05 - val_loss: 8.7172e-04\n",
            "Epoch 4/5\n",
            "103/103 [==============================] - 6s 62ms/step - loss: 3.6221e-05 - val_loss: 6.5184e-04\n",
            "Epoch 5/5\n",
            "103/103 [==============================] - 6s 63ms/step - loss: 3.0656e-05 - val_loss: 6.6234e-04\n"
          ]
        },
        {
          "output_type": "execute_result",
          "data": {
            "text/plain": [
              "<keras.callbacks.History at 0x7fd7eaf3fa10>"
            ]
          },
          "metadata": {},
          "execution_count": 116
        }
      ]
    },
    {
      "cell_type": "code",
      "source": [
        "trainPredict4 = model4.predict(trainX)\n",
        "testPredict4 = model4.predict(testX)\n",
        "trainPredict4 = scaler2.inverse_transform(trainPredict4)\n",
        "testPredict4 = scaler2.inverse_transform(testPredict4)\n",
        "trainY4 = scaler2.inverse_transform(trainY.reshape(-1, 1))\n",
        "testY4 = scaler2.inverse_transform(testY.reshape(-1, 1))"
      ],
      "metadata": {
        "id": "hDN0cdu-QXIH"
      },
      "execution_count": 117,
      "outputs": []
    },
    {
      "cell_type": "code",
      "source": [
        "mape4 = np.mean(np.abs((testY4 - testPredict4)/testY4))*100\n",
        "mape4"
      ],
      "metadata": {
        "colab": {
          "base_uri": "https://localhost:8080/"
        },
        "id": "gno_sGzuQojr",
        "outputId": "72bbfdce-2369-4365-eee8-194952acd1b4"
      },
      "execution_count": 118,
      "outputs": [
        {
          "output_type": "execute_result",
          "data": {
            "text/plain": [
              "3.140802546123512"
            ]
          },
          "metadata": {},
          "execution_count": 118
        }
      ]
    },
    {
      "cell_type": "code",
      "source": [
        "days = [i for i in range(0, len(testY4))]\n",
        "plt.plot(days, testY4, color='r', label='Y')\n",
        "plt.plot(days, testPredict4, color='g', label='Ypredict')\n",
        "plt.xlabel(\"Days\")\n",
        "plt.ylabel(\"Price\")\n",
        "plt.title(\"Stock Price\")\n",
        "plt.legend()\n",
        "plt.show()"
      ],
      "metadata": {
        "colab": {
          "base_uri": "https://localhost:8080/",
          "height": 295
        },
        "id": "4a-IVNMQQtqQ",
        "outputId": "9d737251-bee8-42ce-c65f-f429e90ae4d9"
      },
      "execution_count": 119,
      "outputs": [
        {
          "output_type": "display_data",
          "data": {
            "text/plain": [
              "<Figure size 432x288 with 1 Axes>"
            ],
            "image/png": "[encoded data removed]"
          },
          "metadata": {
            "needs_background": "light"
          }
        }
      ]
    },
    {
      "cell_type": "markdown",
      "source": [
        "GRU(Gated Recurrent Unit)"
      ],
      "metadata": {
        "id": "vGRjqqezRIGZ"
      }
    },
    {
      "cell_type": "code",
      "source": [
        "model5 = Sequential()\n",
        "model5.add(InputLayer((trainX.shape[1], trainX.shape[2])))\n",
        "model5.add(GRU(200))\n",
        "model5.add(Dense(trainY.shape[1]))\n",
        "model5.compile(optimizer='adam', loss='mse')\n",
        "model5.summary()"
      ],
      "metadata": {
        "colab": {
          "base_uri": "https://localhost:8080/"
        },
        "id": "F-Xn1YJzRHBc",
        "outputId": "a808b9c4-3969-49ee-bde0-17a828f49cd3"
      },
      "execution_count": 120,
      "outputs": [
        {
          "output_type": "stream",
          "name": "stdout",
          "text": [
            "Model: \"sequential_15\"\n",
            "_________________________________________________________________\n",
            " Layer (type)                Output Shape              Param #   \n",
            "=================================================================\n",
            " gru_1 (GRU)                 (None, 200)               124200    \n",
            "                                                                 \n",
            " dense_14 (Dense)            (None, 1)                 201       \n",
            "                                                                 \n",
            "=================================================================\n",
            "Total params: 124,401\n",
            "Trainable params: 124,401\n",
            "Non-trainable params: 0\n",
            "_________________________________________________________________\n"
          ]
        }
      ]
    },
    {
      "cell_type": "code",
      "source": [
        "model5.fit(trainX, trainY, validation_data = (testX, testY), epochs = 5)"
      ],
      "metadata": {
        "colab": {
          "base_uri": "https://localhost:8080/"
        },
        "id": "bR9U9BJiRATb",
        "outputId": "708087f0-2bdc-4c1e-cae8-e1f3734a65c2"
      },
      "execution_count": 121,
      "outputs": [
        {
          "output_type": "stream",
          "name": "stdout",
          "text": [
            "Epoch 1/5\n",
            "103/103 [==============================] - 6s 37ms/step - loss: 5.5336e-04 - val_loss: 1.7266e-04\n",
            "Epoch 2/5\n",
            "103/103 [==============================] - 3s 32ms/step - loss: 1.5606e-05 - val_loss: 1.7620e-04\n",
            "Epoch 3/5\n",
            "103/103 [==============================] - 3s 31ms/step - loss: 1.5430e-05 - val_loss: 1.8907e-04\n",
            "Epoch 4/5\n",
            "103/103 [==============================] - 3s 31ms/step - loss: 1.4797e-05 - val_loss: 1.8584e-04\n",
            "Epoch 5/5\n",
            "103/103 [==============================] - 3s 32ms/step - loss: 1.4334e-05 - val_loss: 1.9547e-04\n"
          ]
        },
        {
          "output_type": "execute_result",
          "data": {
            "text/plain": [
              "<keras.callbacks.History at 0x7fd7f0e11b10>"
            ]
          },
          "metadata": {},
          "execution_count": 121
        }
      ]
    },
    {
      "cell_type": "code",
      "source": [
        "trainPredict5 = model5.predict(trainX)\n",
        "testPredict5 = model5.predict(testX)\n",
        "trainPredict5 = scaler2.inverse_transform(trainPredict5)\n",
        "testPredict5 = scaler2.inverse_transform(testPredict5)\n",
        "trainY5 = scaler2.inverse_transform(trainY.reshape(-1, 1))\n",
        "testY5 = scaler2.inverse_transform(testY.reshape(-1, 1))"
      ],
      "metadata": {
        "id": "n-yfAzmrRnrN"
      },
      "execution_count": 122,
      "outputs": []
    },
    {
      "cell_type": "code",
      "source": [
        "mape5 = np.mean(np.abs((testY5 - testPredict5)/testY5))*100\n",
        "mape5"
      ],
      "metadata": {
        "colab": {
          "base_uri": "https://localhost:8080/"
        },
        "id": "kuyy4_n8Rz3v",
        "outputId": "66d8e7d2-7d39-442c-b8d3-9545023b55ae"
      },
      "execution_count": 123,
      "outputs": [
        {
          "output_type": "execute_result",
          "data": {
            "text/plain": [
              "1.8049719382919942"
            ]
          },
          "metadata": {},
          "execution_count": 123
        }
      ]
    },
    {
      "cell_type": "code",
      "source": [
        "days = [i for i in range(0, len(testY5))]\n",
        "plt.plot(days, testY5, color='r', label='Y')\n",
        "plt.plot(days, testPredict5, color='g', label='Ypredict')\n",
        "plt.xlabel(\"Days\")\n",
        "plt.ylabel(\"Price\")\n",
        "plt.title(\"Stock Price\")\n",
        "plt.legend()\n",
        "plt.show()"
      ],
      "metadata": {
        "colab": {
          "base_uri": "https://localhost:8080/",
          "height": 295
        },
        "id": "3x_57tyQR_SL",
        "outputId": "8327a4b0-794d-4314-e83b-6ddecee3381f"
      },
      "execution_count": 124,
      "outputs": [
        {
          "output_type": "display_data",
          "data": {
            "text/plain": [
              "<Figure size 432x288 with 1 Axes>"
            ],
            "image/png": "[encoded data removed]"
          },
          "metadata": {
            "needs_background": "light"
          }
        }
      ]
    }
  ]
}